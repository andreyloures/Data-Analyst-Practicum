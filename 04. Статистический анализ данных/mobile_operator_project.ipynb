{
 "cells": [
  {
   "cell_type": "markdown",
   "metadata": {},
   "source": [
    "# Определение перспективного тарифа для телеком компании"
   ]
  },
  {
   "cell_type": "markdown",
   "metadata": {},
   "source": [
    "### Описание проекта"
   ]
  },
  {
   "cell_type": "markdown",
   "metadata": {},
   "source": [
    "Вы аналитик компании «Мегалайн» — федерального оператора сотовой связи. Клиентам предлагают два тарифных плана: «Смарт» и «Ультра». Чтобы скорректировать рекламный бюджет, коммерческий департамент хочет понять, какой тариф приносит больше денег.\n",
    "\n",
    "Вам предстоит сделать предварительный анализ тарифов на небольшой выборке клиентов. В вашем распоряжении данные 500 пользователей «Мегалайна»: кто они, откуда, каким тарифом пользуются, сколько звонков и сообщений каждый отправил за 2018 год. Нужно проанализировать поведение клиентов и сделать вывод — какой тариф лучше."
   ]
  },
  {
   "cell_type": "markdown",
   "metadata": {},
   "source": [
    "### Описание последовательности действий"
   ]
  },
  {
   "cell_type": "markdown",
   "metadata": {},
   "source": [
    "#### Шаг 1. Откройте файл с данными и изучите общую информацию"
   ]
  },
  {
   "cell_type": "markdown",
   "metadata": {},
   "source": [
    "#### Шаг 2. Подготовьте данные\n",
    "- Изменения типа данных\n",
    "- Поиск и исправление ошибок в данных\n",
    "- Подсчет для каждого пользователя:\n",
    "- Количество совершенных звонков и минут разговоров за месяц;\n",
    "- Количество отправленных сообщений по месяцам;\n",
    "- Ежемесячный трафик интернет-трафика;-- Ежемесячный доход с каждого пользователя"
   ]
  },
  {
   "cell_type": "markdown",
   "metadata": {},
   "source": [
    "#### Шаг 3. Анализ данных\n",
    "- Описание поведения оператора клиента на основе выборки\n",
    "- Расчет среднего количества, дисперсии и стандартного отклонения\n",
    "- Распределение гистограмм\n",
    "- Описание полученных распределений"
   ]
  },
  {
   "cell_type": "markdown",
   "metadata": {},
   "source": [
    "#### Шаг 4. Проверка гипотез\n",
    "-  Гипотеза 1. Средний доход пользователей тарифов «Ультра» и «Смарт» различен\n",
    "-  Гипотеза 2. Средняя выручка пользователей из Москвы отличается от выручки пользователей из других регионов"
   ]
  },
  {
   "cell_type": "markdown",
   "metadata": {},
   "source": [
    "#### Шаг 5. Общий вывод"
   ]
  },
  {
   "cell_type": "markdown",
   "metadata": {},
   "source": [
    "### Описание данных\n",
    "Пять таблиц предоставлены для анализа. Данные более подробно описаны в ТЗ проектного задания."
   ]
  },
  {
   "cell_type": "markdown",
   "metadata": {},
   "source": [
    "Из таблиц, представленных для анализа, можно сделать несколько выводов:"
   ]
  },
  {
   "cell_type": "markdown",
   "metadata": {},
   "source": [
    "В таблицах вызовов, сообщений и интернировщиков вам обязательно нужно переименовать идентификатор столбца. Поскольку при объединении таблиц мы теряемся в трех абсолютно одинаковых именованных столбцах. - в таблице звонки id => id_calls - в таблице сообщения id => id_messages - в таблице интернет id => id_internet\n",
    "В таблицах тарифов и пользователей есть название тарифа, вам необходимо переименовать столбец Tar_name в таблице тарифов. Таким образом, у нас будут столбцы с одинаковыми именами в других таблицах. - в таблице тариф имя_тарифа => тариф"
   ]
  },
  {
   "cell_type": "markdown",
   "metadata": {},
   "source": [
    "# Шаг 1. Изучение общей информации"
   ]
  },
  {
   "cell_type": "code",
   "execution_count": 177,
   "metadata": {},
   "outputs": [],
   "source": [
    "import pandas as pd\n",
    "import numpy as np\n",
    "import matplotlib.pyplot as plt\n",
    "from scipy import stats as st"
   ]
  },
  {
   "cell_type": "code",
   "execution_count": 178,
   "metadata": {},
   "outputs": [],
   "source": [
    "data_users = pd.read_csv(\"/datasets/users.csv\")\n",
    "data_tariffs = pd.read_csv(\"/datasets/tariffs.csv\")\n",
    "data_calls = pd.read_csv(\"/datasets/calls.csv\")\n",
    "data_internet = pd.read_csv(\"/datasets/internet.csv\")\n",
    "data_messages = pd.read_csv(\"/datasets/messages.csv\")"
   ]
  },
  {
   "cell_type": "markdown",
   "metadata": {},
   "source": [
    "#### 1. Таблица users (информация о пользователях):"
   ]
  },
  {
   "cell_type": "code",
   "execution_count": 179,
   "metadata": {},
   "outputs": [
    {
     "data": {
      "text/html": [
       "<div>\n",
       "<style scoped>\n",
       "    .dataframe tbody tr th:only-of-type {\n",
       "        vertical-align: middle;\n",
       "    }\n",
       "\n",
       "    .dataframe tbody tr th {\n",
       "        vertical-align: top;\n",
       "    }\n",
       "\n",
       "    .dataframe thead th {\n",
       "        text-align: right;\n",
       "    }\n",
       "</style>\n",
       "<table border=\"1\" class=\"dataframe\">\n",
       "  <thead>\n",
       "    <tr style=\"text-align: right;\">\n",
       "      <th></th>\n",
       "      <th>user_id</th>\n",
       "      <th>age</th>\n",
       "      <th>churn_date</th>\n",
       "      <th>city</th>\n",
       "      <th>first_name</th>\n",
       "      <th>last_name</th>\n",
       "      <th>reg_date</th>\n",
       "      <th>tariff</th>\n",
       "    </tr>\n",
       "  </thead>\n",
       "  <tbody>\n",
       "    <tr>\n",
       "      <td>0</td>\n",
       "      <td>1000</td>\n",
       "      <td>52</td>\n",
       "      <td>NaN</td>\n",
       "      <td>Краснодар</td>\n",
       "      <td>Рафаил</td>\n",
       "      <td>Верещагин</td>\n",
       "      <td>2018-05-25</td>\n",
       "      <td>ultra</td>\n",
       "    </tr>\n",
       "    <tr>\n",
       "      <td>1</td>\n",
       "      <td>1001</td>\n",
       "      <td>41</td>\n",
       "      <td>NaN</td>\n",
       "      <td>Москва</td>\n",
       "      <td>Иван</td>\n",
       "      <td>Ежов</td>\n",
       "      <td>2018-11-01</td>\n",
       "      <td>smart</td>\n",
       "    </tr>\n",
       "    <tr>\n",
       "      <td>2</td>\n",
       "      <td>1002</td>\n",
       "      <td>59</td>\n",
       "      <td>NaN</td>\n",
       "      <td>Стерлитамак</td>\n",
       "      <td>Евгений</td>\n",
       "      <td>Абрамович</td>\n",
       "      <td>2018-06-17</td>\n",
       "      <td>smart</td>\n",
       "    </tr>\n",
       "    <tr>\n",
       "      <td>3</td>\n",
       "      <td>1003</td>\n",
       "      <td>23</td>\n",
       "      <td>NaN</td>\n",
       "      <td>Москва</td>\n",
       "      <td>Белла</td>\n",
       "      <td>Белякова</td>\n",
       "      <td>2018-08-17</td>\n",
       "      <td>ultra</td>\n",
       "    </tr>\n",
       "    <tr>\n",
       "      <td>4</td>\n",
       "      <td>1004</td>\n",
       "      <td>68</td>\n",
       "      <td>NaN</td>\n",
       "      <td>Новокузнецк</td>\n",
       "      <td>Татьяна</td>\n",
       "      <td>Авдеенко</td>\n",
       "      <td>2018-05-14</td>\n",
       "      <td>ultra</td>\n",
       "    </tr>\n",
       "    <tr>\n",
       "      <td>5</td>\n",
       "      <td>1005</td>\n",
       "      <td>67</td>\n",
       "      <td>NaN</td>\n",
       "      <td>Набережные Челны</td>\n",
       "      <td>Афанасий</td>\n",
       "      <td>Горлов</td>\n",
       "      <td>2018-01-25</td>\n",
       "      <td>smart</td>\n",
       "    </tr>\n",
       "    <tr>\n",
       "      <td>6</td>\n",
       "      <td>1006</td>\n",
       "      <td>21</td>\n",
       "      <td>NaN</td>\n",
       "      <td>Ульяновск</td>\n",
       "      <td>Леонид</td>\n",
       "      <td>Ермолаев</td>\n",
       "      <td>2018-02-26</td>\n",
       "      <td>smart</td>\n",
       "    </tr>\n",
       "    <tr>\n",
       "      <td>7</td>\n",
       "      <td>1007</td>\n",
       "      <td>65</td>\n",
       "      <td>NaN</td>\n",
       "      <td>Москва</td>\n",
       "      <td>Юна</td>\n",
       "      <td>Березина</td>\n",
       "      <td>2018-04-19</td>\n",
       "      <td>smart</td>\n",
       "    </tr>\n",
       "    <tr>\n",
       "      <td>8</td>\n",
       "      <td>1008</td>\n",
       "      <td>63</td>\n",
       "      <td>NaN</td>\n",
       "      <td>Челябинск</td>\n",
       "      <td>Рустэм</td>\n",
       "      <td>Пономарёв</td>\n",
       "      <td>2018-12-19</td>\n",
       "      <td>smart</td>\n",
       "    </tr>\n",
       "    <tr>\n",
       "      <td>9</td>\n",
       "      <td>1009</td>\n",
       "      <td>24</td>\n",
       "      <td>NaN</td>\n",
       "      <td>Пермь</td>\n",
       "      <td>Василиса</td>\n",
       "      <td>Блинова</td>\n",
       "      <td>2018-03-22</td>\n",
       "      <td>smart</td>\n",
       "    </tr>\n",
       "  </tbody>\n",
       "</table>\n",
       "</div>"
      ],
      "text/plain": [
       "   user_id  age churn_date              city first_name  last_name  \\\n",
       "0     1000   52        NaN         Краснодар     Рафаил  Верещагин   \n",
       "1     1001   41        NaN            Москва       Иван       Ежов   \n",
       "2     1002   59        NaN       Стерлитамак    Евгений  Абрамович   \n",
       "3     1003   23        NaN            Москва      Белла   Белякова   \n",
       "4     1004   68        NaN       Новокузнецк    Татьяна   Авдеенко   \n",
       "5     1005   67        NaN  Набережные Челны   Афанасий     Горлов   \n",
       "6     1006   21        NaN         Ульяновск     Леонид   Ермолаев   \n",
       "7     1007   65        NaN            Москва        Юна   Березина   \n",
       "8     1008   63        NaN         Челябинск     Рустэм  Пономарёв   \n",
       "9     1009   24        NaN             Пермь   Василиса    Блинова   \n",
       "\n",
       "     reg_date tariff  \n",
       "0  2018-05-25  ultra  \n",
       "1  2018-11-01  smart  \n",
       "2  2018-06-17  smart  \n",
       "3  2018-08-17  ultra  \n",
       "4  2018-05-14  ultra  \n",
       "5  2018-01-25  smart  \n",
       "6  2018-02-26  smart  \n",
       "7  2018-04-19  smart  \n",
       "8  2018-12-19  smart  \n",
       "9  2018-03-22  smart  "
      ]
     },
     "execution_count": 179,
     "metadata": {},
     "output_type": "execute_result"
    }
   ],
   "source": [
    "data_users.head(10)"
   ]
  },
  {
   "cell_type": "code",
   "execution_count": 180,
   "metadata": {},
   "outputs": [
    {
     "name": "stdout",
     "output_type": "stream",
     "text": [
      "<class 'pandas.core.frame.DataFrame'>\n",
      "RangeIndex: 500 entries, 0 to 499\n",
      "Data columns (total 8 columns):\n",
      "user_id       500 non-null int64\n",
      "age           500 non-null int64\n",
      "churn_date    38 non-null object\n",
      "city          500 non-null object\n",
      "first_name    500 non-null object\n",
      "last_name     500 non-null object\n",
      "reg_date      500 non-null object\n",
      "tariff        500 non-null object\n",
      "dtypes: int64(2), object(6)\n",
      "memory usage: 31.4+ KB\n"
     ]
    }
   ],
   "source": [
    "data_users.info()"
   ]
  },
  {
   "cell_type": "code",
   "execution_count": 181,
   "metadata": {},
   "outputs": [
    {
     "data": {
      "text/plain": [
       "user_id         0\n",
       "age             0\n",
       "churn_date    462\n",
       "city            0\n",
       "first_name      0\n",
       "last_name       0\n",
       "reg_date        0\n",
       "tariff          0\n",
       "dtype: int64"
      ]
     },
     "execution_count": 181,
     "metadata": {},
     "output_type": "execute_result"
    }
   ],
   "source": [
    "data_users.isna().sum()"
   ]
  },
  {
   "cell_type": "code",
   "execution_count": 182,
   "metadata": {},
   "outputs": [
    {
     "data": {
      "text/plain": [
       "0"
      ]
     },
     "execution_count": 182,
     "metadata": {},
     "output_type": "execute_result"
    }
   ],
   "source": [
    "data_users.duplicated().sum()"
   ]
  },
  {
   "cell_type": "code",
   "execution_count": 183,
   "metadata": {},
   "outputs": [
    {
     "data": {
      "text/plain": [
       "smart    351\n",
       "ultra    149\n",
       "Name: tariff, dtype: int64"
      ]
     },
     "execution_count": 183,
     "metadata": {},
     "output_type": "execute_result"
    }
   ],
   "source": [
    "data_users['tariff'].value_counts()"
   ]
  },
  {
   "cell_type": "markdown",
   "metadata": {},
   "source": [
    "В таблице пользователей 8 столбцов, 500 строк.\n",
    "В двух столбцах таблицы необходимо изменить тип данных:\n",
    "- churn_date object => datetime\n",
    "- reg_date object => datetime\n",
    "\n",
    "Все представленные столбцы таблицы имеют пропущенные значения, они должны быть обработаны.\n",
    "Из 500 пользователей 351 пользователь использует тариф Smart, 149 пользователей использует тариф Ultra."
   ]
  },
  {
   "cell_type": "markdown",
   "metadata": {},
   "source": [
    "#### 2. Таблица tariffs (информация о тарифах):"
   ]
  },
  {
   "cell_type": "code",
   "execution_count": 184,
   "metadata": {},
   "outputs": [
    {
     "data": {
      "text/html": [
       "<div>\n",
       "<style scoped>\n",
       "    .dataframe tbody tr th:only-of-type {\n",
       "        vertical-align: middle;\n",
       "    }\n",
       "\n",
       "    .dataframe tbody tr th {\n",
       "        vertical-align: top;\n",
       "    }\n",
       "\n",
       "    .dataframe thead th {\n",
       "        text-align: right;\n",
       "    }\n",
       "</style>\n",
       "<table border=\"1\" class=\"dataframe\">\n",
       "  <thead>\n",
       "    <tr style=\"text-align: right;\">\n",
       "      <th></th>\n",
       "      <th>messages_included</th>\n",
       "      <th>mg_per_month_included</th>\n",
       "      <th>minutes_included</th>\n",
       "      <th>rub_monthly_fee</th>\n",
       "      <th>rub_per_gb</th>\n",
       "      <th>rub_per_message</th>\n",
       "      <th>rub_per_minute</th>\n",
       "      <th>tariff_name</th>\n",
       "    </tr>\n",
       "  </thead>\n",
       "  <tbody>\n",
       "    <tr>\n",
       "      <td>0</td>\n",
       "      <td>50</td>\n",
       "      <td>15360</td>\n",
       "      <td>500</td>\n",
       "      <td>550</td>\n",
       "      <td>200</td>\n",
       "      <td>3</td>\n",
       "      <td>3</td>\n",
       "      <td>smart</td>\n",
       "    </tr>\n",
       "    <tr>\n",
       "      <td>1</td>\n",
       "      <td>1000</td>\n",
       "      <td>30720</td>\n",
       "      <td>3000</td>\n",
       "      <td>1950</td>\n",
       "      <td>150</td>\n",
       "      <td>1</td>\n",
       "      <td>1</td>\n",
       "      <td>ultra</td>\n",
       "    </tr>\n",
       "  </tbody>\n",
       "</table>\n",
       "</div>"
      ],
      "text/plain": [
       "   messages_included  mg_per_month_included  minutes_included  \\\n",
       "0                 50                  15360               500   \n",
       "1               1000                  30720              3000   \n",
       "\n",
       "   rub_monthly_fee  rub_per_gb  rub_per_message  rub_per_minute tariff_name  \n",
       "0              550         200                3               3       smart  \n",
       "1             1950         150                1               1       ultra  "
      ]
     },
     "execution_count": 184,
     "metadata": {},
     "output_type": "execute_result"
    }
   ],
   "source": [
    "data_tariffs.head(10)"
   ]
  },
  {
   "cell_type": "code",
   "execution_count": 185,
   "metadata": {},
   "outputs": [
    {
     "name": "stdout",
     "output_type": "stream",
     "text": [
      "<class 'pandas.core.frame.DataFrame'>\n",
      "RangeIndex: 2 entries, 0 to 1\n",
      "Data columns (total 8 columns):\n",
      "messages_included        2 non-null int64\n",
      "mg_per_month_included    2 non-null int64\n",
      "minutes_included         2 non-null int64\n",
      "rub_monthly_fee          2 non-null int64\n",
      "rub_per_gb               2 non-null int64\n",
      "rub_per_message          2 non-null int64\n",
      "rub_per_minute           2 non-null int64\n",
      "tariff_name              2 non-null object\n",
      "dtypes: int64(7), object(1)\n",
      "memory usage: 256.0+ bytes\n"
     ]
    }
   ],
   "source": [
    "data_tariffs.info()"
   ]
  },
  {
   "cell_type": "code",
   "execution_count": 186,
   "metadata": {},
   "outputs": [
    {
     "data": {
      "text/plain": [
       "messages_included        0\n",
       "mg_per_month_included    0\n",
       "minutes_included         0\n",
       "rub_monthly_fee          0\n",
       "rub_per_gb               0\n",
       "rub_per_message          0\n",
       "rub_per_minute           0\n",
       "tariff_name              0\n",
       "dtype: int64"
      ]
     },
     "execution_count": 186,
     "metadata": {},
     "output_type": "execute_result"
    }
   ],
   "source": [
    "data_tariffs.isna().sum()"
   ]
  },
  {
   "cell_type": "code",
   "execution_count": 187,
   "metadata": {},
   "outputs": [
    {
     "data": {
      "text/plain": [
       "0"
      ]
     },
     "execution_count": 187,
     "metadata": {},
     "output_type": "execute_result"
    }
   ],
   "source": [
    "data_tariffs.duplicated().sum()"
   ]
  },
  {
   "cell_type": "markdown",
   "metadata": {},
   "source": [
    "В таблице тарифов 8 столбцов, 2 строки. Это связано с тем, что мы рассматриваем только два тарифных плана: Smart и Ultra. В двух столбцах таблицы нет необходимости изменять типы данных. Необходимо изменить только имя столбца:\n",
    "- tariff_name =>tariff\n",
    "\n",
    "Все представленные столбцы таблицы имеют пропущенные значения, они должны быть обработаны."
   ]
  },
  {
   "cell_type": "markdown",
   "metadata": {},
   "source": [
    "#### 3. Таблица calls (информация о звонках):"
   ]
  },
  {
   "cell_type": "code",
   "execution_count": 188,
   "metadata": {
    "scrolled": true
   },
   "outputs": [
    {
     "data": {
      "text/html": [
       "<div>\n",
       "<style scoped>\n",
       "    .dataframe tbody tr th:only-of-type {\n",
       "        vertical-align: middle;\n",
       "    }\n",
       "\n",
       "    .dataframe tbody tr th {\n",
       "        vertical-align: top;\n",
       "    }\n",
       "\n",
       "    .dataframe thead th {\n",
       "        text-align: right;\n",
       "    }\n",
       "</style>\n",
       "<table border=\"1\" class=\"dataframe\">\n",
       "  <thead>\n",
       "    <tr style=\"text-align: right;\">\n",
       "      <th></th>\n",
       "      <th>id</th>\n",
       "      <th>call_date</th>\n",
       "      <th>duration</th>\n",
       "      <th>user_id</th>\n",
       "    </tr>\n",
       "  </thead>\n",
       "  <tbody>\n",
       "    <tr>\n",
       "      <td>0</td>\n",
       "      <td>1000_0</td>\n",
       "      <td>2018-07-25</td>\n",
       "      <td>0.00</td>\n",
       "      <td>1000</td>\n",
       "    </tr>\n",
       "    <tr>\n",
       "      <td>1</td>\n",
       "      <td>1000_1</td>\n",
       "      <td>2018-08-17</td>\n",
       "      <td>0.00</td>\n",
       "      <td>1000</td>\n",
       "    </tr>\n",
       "    <tr>\n",
       "      <td>2</td>\n",
       "      <td>1000_2</td>\n",
       "      <td>2018-06-11</td>\n",
       "      <td>2.85</td>\n",
       "      <td>1000</td>\n",
       "    </tr>\n",
       "    <tr>\n",
       "      <td>3</td>\n",
       "      <td>1000_3</td>\n",
       "      <td>2018-09-21</td>\n",
       "      <td>13.80</td>\n",
       "      <td>1000</td>\n",
       "    </tr>\n",
       "    <tr>\n",
       "      <td>4</td>\n",
       "      <td>1000_4</td>\n",
       "      <td>2018-12-15</td>\n",
       "      <td>5.18</td>\n",
       "      <td>1000</td>\n",
       "    </tr>\n",
       "    <tr>\n",
       "      <td>5</td>\n",
       "      <td>1000_5</td>\n",
       "      <td>2018-11-02</td>\n",
       "      <td>0.00</td>\n",
       "      <td>1000</td>\n",
       "    </tr>\n",
       "    <tr>\n",
       "      <td>6</td>\n",
       "      <td>1000_6</td>\n",
       "      <td>2018-10-18</td>\n",
       "      <td>0.00</td>\n",
       "      <td>1000</td>\n",
       "    </tr>\n",
       "    <tr>\n",
       "      <td>7</td>\n",
       "      <td>1000_7</td>\n",
       "      <td>2018-08-22</td>\n",
       "      <td>18.31</td>\n",
       "      <td>1000</td>\n",
       "    </tr>\n",
       "    <tr>\n",
       "      <td>8</td>\n",
       "      <td>1000_8</td>\n",
       "      <td>2018-09-15</td>\n",
       "      <td>18.44</td>\n",
       "      <td>1000</td>\n",
       "    </tr>\n",
       "    <tr>\n",
       "      <td>9</td>\n",
       "      <td>1000_9</td>\n",
       "      <td>2018-08-15</td>\n",
       "      <td>0.00</td>\n",
       "      <td>1000</td>\n",
       "    </tr>\n",
       "  </tbody>\n",
       "</table>\n",
       "</div>"
      ],
      "text/plain": [
       "       id   call_date  duration  user_id\n",
       "0  1000_0  2018-07-25      0.00     1000\n",
       "1  1000_1  2018-08-17      0.00     1000\n",
       "2  1000_2  2018-06-11      2.85     1000\n",
       "3  1000_3  2018-09-21     13.80     1000\n",
       "4  1000_4  2018-12-15      5.18     1000\n",
       "5  1000_5  2018-11-02      0.00     1000\n",
       "6  1000_6  2018-10-18      0.00     1000\n",
       "7  1000_7  2018-08-22     18.31     1000\n",
       "8  1000_8  2018-09-15     18.44     1000\n",
       "9  1000_9  2018-08-15      0.00     1000"
      ]
     },
     "execution_count": 188,
     "metadata": {},
     "output_type": "execute_result"
    }
   ],
   "source": [
    "data_calls.head(10)"
   ]
  },
  {
   "cell_type": "code",
   "execution_count": 189,
   "metadata": {
    "scrolled": true
   },
   "outputs": [
    {
     "name": "stdout",
     "output_type": "stream",
     "text": [
      "<class 'pandas.core.frame.DataFrame'>\n",
      "RangeIndex: 202607 entries, 0 to 202606\n",
      "Data columns (total 4 columns):\n",
      "id           202607 non-null object\n",
      "call_date    202607 non-null object\n",
      "duration     202607 non-null float64\n",
      "user_id      202607 non-null int64\n",
      "dtypes: float64(1), int64(1), object(2)\n",
      "memory usage: 6.2+ MB\n"
     ]
    }
   ],
   "source": [
    "data_calls.info()"
   ]
  },
  {
   "cell_type": "code",
   "execution_count": 190,
   "metadata": {},
   "outputs": [
    {
     "data": {
      "text/plain": [
       "id           0\n",
       "call_date    0\n",
       "duration     0\n",
       "user_id      0\n",
       "dtype: int64"
      ]
     },
     "execution_count": 190,
     "metadata": {},
     "output_type": "execute_result"
    }
   ],
   "source": [
    "data_calls.isna().sum()"
   ]
  },
  {
   "cell_type": "code",
   "execution_count": 191,
   "metadata": {},
   "outputs": [
    {
     "data": {
      "text/plain": [
       "0"
      ]
     },
     "execution_count": 191,
     "metadata": {},
     "output_type": "execute_result"
    }
   ],
   "source": [
    "data_calls.duplicated().sum()"
   ]
  },
  {
   "cell_type": "markdown",
   "metadata": {},
   "source": [
    "Таблица вызывает 4 столбца, 202 607 строк.\n",
    "В двух столбцах таблицы необходимо изменить тип данных:\n",
    "- call_date object => datetime\n",
    "\n",
    "Все представленные столбцы таблицы имеют пропущенные значения, они должны быть обработаны.\n",
    "47 927 звонков имеют продолжительность менее 1 минуты. Чтобы не потерять около 20% данных нам нужно:\n",
    "\n",
    "- Примените метод np.ceil, чтобы указать продолжительность телефонного звонка. Функции np.ceil вернут нам верхнее ближайшее (округленное) значение в минутах;\n",
    "- Мы заменим нулевую продолжительность вызова на 1 минуту, поскольку минута является минимальным значением сеанса вызова для оператора, я не думаю, что это вызовет большой уклон в данных."
   ]
  },
  {
   "cell_type": "markdown",
   "metadata": {},
   "source": [
    "#### 4. Таблица internet (информация об интернет-сессиях):"
   ]
  },
  {
   "cell_type": "code",
   "execution_count": 192,
   "metadata": {},
   "outputs": [
    {
     "data": {
      "text/html": [
       "<div>\n",
       "<style scoped>\n",
       "    .dataframe tbody tr th:only-of-type {\n",
       "        vertical-align: middle;\n",
       "    }\n",
       "\n",
       "    .dataframe tbody tr th {\n",
       "        vertical-align: top;\n",
       "    }\n",
       "\n",
       "    .dataframe thead th {\n",
       "        text-align: right;\n",
       "    }\n",
       "</style>\n",
       "<table border=\"1\" class=\"dataframe\">\n",
       "  <thead>\n",
       "    <tr style=\"text-align: right;\">\n",
       "      <th></th>\n",
       "      <th>id</th>\n",
       "      <th>mb_used</th>\n",
       "      <th>session_date</th>\n",
       "      <th>user_id</th>\n",
       "    </tr>\n",
       "  </thead>\n",
       "  <tbody>\n",
       "    <tr>\n",
       "      <td>0</td>\n",
       "      <td>1000_0</td>\n",
       "      <td>112.95</td>\n",
       "      <td>2018-11-25</td>\n",
       "      <td>1000</td>\n",
       "    </tr>\n",
       "    <tr>\n",
       "      <td>1</td>\n",
       "      <td>1000_1</td>\n",
       "      <td>1052.81</td>\n",
       "      <td>2018-09-07</td>\n",
       "      <td>1000</td>\n",
       "    </tr>\n",
       "    <tr>\n",
       "      <td>2</td>\n",
       "      <td>1000_2</td>\n",
       "      <td>1197.26</td>\n",
       "      <td>2018-06-25</td>\n",
       "      <td>1000</td>\n",
       "    </tr>\n",
       "    <tr>\n",
       "      <td>3</td>\n",
       "      <td>1000_3</td>\n",
       "      <td>550.27</td>\n",
       "      <td>2018-08-22</td>\n",
       "      <td>1000</td>\n",
       "    </tr>\n",
       "    <tr>\n",
       "      <td>4</td>\n",
       "      <td>1000_4</td>\n",
       "      <td>302.56</td>\n",
       "      <td>2018-09-24</td>\n",
       "      <td>1000</td>\n",
       "    </tr>\n",
       "  </tbody>\n",
       "</table>\n",
       "</div>"
      ],
      "text/plain": [
       "       id  mb_used session_date  user_id\n",
       "0  1000_0   112.95   2018-11-25     1000\n",
       "1  1000_1  1052.81   2018-09-07     1000\n",
       "2  1000_2  1197.26   2018-06-25     1000\n",
       "3  1000_3   550.27   2018-08-22     1000\n",
       "4  1000_4   302.56   2018-09-24     1000"
      ]
     },
     "execution_count": 192,
     "metadata": {},
     "output_type": "execute_result"
    }
   ],
   "source": [
    "data_internet.head()"
   ]
  },
  {
   "cell_type": "code",
   "execution_count": 193,
   "metadata": {},
   "outputs": [
    {
     "name": "stdout",
     "output_type": "stream",
     "text": [
      "<class 'pandas.core.frame.DataFrame'>\n",
      "RangeIndex: 149396 entries, 0 to 149395\n",
      "Data columns (total 4 columns):\n",
      "id              149396 non-null object\n",
      "mb_used         149396 non-null float64\n",
      "session_date    149396 non-null object\n",
      "user_id         149396 non-null int64\n",
      "dtypes: float64(1), int64(1), object(2)\n",
      "memory usage: 4.6+ MB\n"
     ]
    }
   ],
   "source": [
    "data_internet.info()"
   ]
  },
  {
   "cell_type": "code",
   "execution_count": 194,
   "metadata": {},
   "outputs": [
    {
     "data": {
      "text/plain": [
       "19699"
      ]
     },
     "execution_count": 194,
     "metadata": {},
     "output_type": "execute_result"
    }
   ],
   "source": [
    "len(data_internet.query('mb_used < 1'))"
   ]
  },
  {
   "cell_type": "code",
   "execution_count": 195,
   "metadata": {},
   "outputs": [
    {
     "data": {
      "text/plain": [
       "id              0\n",
       "mb_used         0\n",
       "session_date    0\n",
       "user_id         0\n",
       "dtype: int64"
      ]
     },
     "execution_count": 195,
     "metadata": {},
     "output_type": "execute_result"
    }
   ],
   "source": [
    "data_internet.isna().sum()"
   ]
  },
  {
   "cell_type": "code",
   "execution_count": 196,
   "metadata": {},
   "outputs": [
    {
     "data": {
      "text/plain": [
       "0"
      ]
     },
     "execution_count": 196,
     "metadata": {},
     "output_type": "execute_result"
    }
   ],
   "source": [
    "data_internet.duplicated().sum()"
   ]
  },
  {
   "cell_type": "markdown",
   "metadata": {},
   "source": [
    "В таблице интернет 4 столбца, 149 396 строк.\n",
    "В двух столбцах таблицы необходимо изменить тип данных:\n",
    "- session_date object => datetime\n",
    "\n",
    "Все представленные столбцы таблицы имеют пропущенные значения, они должны быть обработаны.\n",
    "\n",
    "В столбце mb_used - объем интернет-трафика, потраченного за сеанс в мегабайтах, а в описании тарифа в таблице тарифов столбец данных mg_per_month_included в гигабайтах. Чтобы понять, в какой момент пользователь будет использовать объем интернет-трафика в соответствии со своим тарифом, нам необходимо представить данные об объеме затраченного трафика в формате гигабайта, чтобы мы могли рассчитать, сколько пользователь потратил.\n",
    "\n",
    "На 19 699 интернет-сессий расходуется менее 1 МБ интернет-трафика за одну сессию. Как и в случае звонков, оператор округляет значения в мегабайтах. Поэтому необходимо:\n",
    "- Примените метод np.ceil, чтобы указать продолжительность интернет-сессий. Функции np.ceil вернут нам верхнее ближайшее (округленное) значение в мб;\n",
    "- Мы заменим нулевую продолжительность интернет-сессий на 1 минуту, так как минута является минимальным значением интернет-сессии для оператора, я не думаю, что это приведет к большому уклону данных"
   ]
  },
  {
   "cell_type": "markdown",
   "metadata": {},
   "source": [
    "#### 5. Таблица internet (информация об интернет-сессиях):"
   ]
  },
  {
   "cell_type": "code",
   "execution_count": 197,
   "metadata": {},
   "outputs": [
    {
     "data": {
      "text/html": [
       "<div>\n",
       "<style scoped>\n",
       "    .dataframe tbody tr th:only-of-type {\n",
       "        vertical-align: middle;\n",
       "    }\n",
       "\n",
       "    .dataframe tbody tr th {\n",
       "        vertical-align: top;\n",
       "    }\n",
       "\n",
       "    .dataframe thead th {\n",
       "        text-align: right;\n",
       "    }\n",
       "</style>\n",
       "<table border=\"1\" class=\"dataframe\">\n",
       "  <thead>\n",
       "    <tr style=\"text-align: right;\">\n",
       "      <th></th>\n",
       "      <th>id</th>\n",
       "      <th>message_date</th>\n",
       "      <th>user_id</th>\n",
       "    </tr>\n",
       "  </thead>\n",
       "  <tbody>\n",
       "    <tr>\n",
       "      <td>0</td>\n",
       "      <td>1000_0</td>\n",
       "      <td>2018-06-27</td>\n",
       "      <td>1000</td>\n",
       "    </tr>\n",
       "    <tr>\n",
       "      <td>1</td>\n",
       "      <td>1000_1</td>\n",
       "      <td>2018-10-08</td>\n",
       "      <td>1000</td>\n",
       "    </tr>\n",
       "    <tr>\n",
       "      <td>2</td>\n",
       "      <td>1000_2</td>\n",
       "      <td>2018-08-04</td>\n",
       "      <td>1000</td>\n",
       "    </tr>\n",
       "    <tr>\n",
       "      <td>3</td>\n",
       "      <td>1000_3</td>\n",
       "      <td>2018-06-16</td>\n",
       "      <td>1000</td>\n",
       "    </tr>\n",
       "    <tr>\n",
       "      <td>4</td>\n",
       "      <td>1000_4</td>\n",
       "      <td>2018-12-05</td>\n",
       "      <td>1000</td>\n",
       "    </tr>\n",
       "  </tbody>\n",
       "</table>\n",
       "</div>"
      ],
      "text/plain": [
       "       id message_date  user_id\n",
       "0  1000_0   2018-06-27     1000\n",
       "1  1000_1   2018-10-08     1000\n",
       "2  1000_2   2018-08-04     1000\n",
       "3  1000_3   2018-06-16     1000\n",
       "4  1000_4   2018-12-05     1000"
      ]
     },
     "execution_count": 197,
     "metadata": {},
     "output_type": "execute_result"
    }
   ],
   "source": [
    "data_messages.head()"
   ]
  },
  {
   "cell_type": "code",
   "execution_count": 198,
   "metadata": {},
   "outputs": [
    {
     "name": "stdout",
     "output_type": "stream",
     "text": [
      "<class 'pandas.core.frame.DataFrame'>\n",
      "RangeIndex: 123036 entries, 0 to 123035\n",
      "Data columns (total 3 columns):\n",
      "id              123036 non-null object\n",
      "message_date    123036 non-null object\n",
      "user_id         123036 non-null int64\n",
      "dtypes: int64(1), object(2)\n",
      "memory usage: 2.8+ MB\n"
     ]
    }
   ],
   "source": [
    "data_messages.info()"
   ]
  },
  {
   "cell_type": "code",
   "execution_count": 199,
   "metadata": {},
   "outputs": [
    {
     "data": {
      "text/plain": [
       "id              0\n",
       "message_date    0\n",
       "user_id         0\n",
       "dtype: int64"
      ]
     },
     "execution_count": 199,
     "metadata": {},
     "output_type": "execute_result"
    }
   ],
   "source": [
    "data_messages.isna().sum()"
   ]
  },
  {
   "cell_type": "code",
   "execution_count": 200,
   "metadata": {},
   "outputs": [
    {
     "data": {
      "text/plain": [
       "0"
      ]
     },
     "execution_count": 200,
     "metadata": {},
     "output_type": "execute_result"
    }
   ],
   "source": [
    "data_messages.duplicated().sum()"
   ]
  },
  {
   "cell_type": "markdown",
   "metadata": {},
   "source": [
    "В таблице тарифов 8 столбцов, 2 строки. Это связано с тем, что мы рассматриваем только два тарифных плана: Smart и Ultra. В двух столбцах таблицы нет необходимости изменять типы данных. Необходимо изменить только имя столбца:\n",
    "- tariff_name => tariff\n",
    "\n",
    "Все представленные столбцы таблицы имеют пропущенные значения, они должны быть обработаны."
   ]
  },
  {
   "cell_type": "markdown",
   "metadata": {},
   "source": [
    "# Шаг 2. Предварительная обработка данных"
   ]
  },
  {
   "cell_type": "markdown",
   "metadata": {},
   "source": [
    "## Изменения типа данных"
   ]
  },
  {
   "cell_type": "markdown",
   "metadata": {},
   "source": [
    "#### Изменить тип данных\n",
    "Давайте приведем данные к необходимым типам. При изучении информации из таблиц мы обнаружили, что нам необходимо изменить тип данных в следующих таблицах и столбцах:\n",
    "- Таблица data_users      - churn_date object => datetime      - reg_date object => datetime\n",
    "- Таблица data_calls      - call_date object => datetime\n",
    "- Таблица data_messages      - message_date object => datetime\n",
    "- Таблица data_internet      - session_date object => datetime"
   ]
  },
  {
   "cell_type": "code",
   "execution_count": 201,
   "metadata": {},
   "outputs": [],
   "source": [
    "dateformat = '%Y-%m-%d'\n",
    "\n",
    "def to_datetime(df, columns):\n",
    "    for col in columns:\n",
    "        df[col] = pd.to_datetime(df[col], format=dateformat)\n",
    "\n",
    "to_datetime(data_users, ['churn_date'])\n",
    "to_datetime(data_users, ['reg_date'])\n",
    "to_datetime(data_calls, ['call_date'])\n",
    "to_datetime(data_messages, ['message_date'])\n",
    "to_datetime(data_internet, ['session_date'])"
   ]
  },
  {
   "cell_type": "markdown",
   "metadata": {},
   "source": [
    "#### Поиск и исправление ошибок в данных"
   ]
  },
  {
   "cell_type": "markdown",
   "metadata": {},
   "source": [
    "#### Восстановить упущения\n",
    "\n",
    "В таблицах data_calls и data_internet есть данные, которые нам нужно обработать, нам нужно:\n",
    "- В таблице data_calls - применить метод np.ceil для знака длительности телефонного звонка. Функции np.ceil вернет нам верхнее ближайшее (округленное) значение в минутах; - заменить нулевую продолжительность вызова на 1 минуту, так как минута является минимальным значением сеанса вызова для оператора, я не думаю, что это вызовет большой уклон в данных.\n",
    "- В таблице data_internet - применить метод np.ceil для знака продолжительности интернет-сессийmb_used. Функции np.ceil вернут нам верхнее ближайшее (округленное) значение в мб; - замените нулевую продолжительность интернет-сессий на 1 минуту, так как минута является минимальным значением интернет-сессии для оператора, я не думаю, что это вызовет большой уклон в данных."
   ]
  },
  {
   "cell_type": "code",
   "execution_count": 202,
   "metadata": {},
   "outputs": [],
   "source": [
    "data_calls['duration'] = data_calls['duration'].apply(np.ceil)\n",
    "nonzero_session = data_calls['duration'] > 0\n",
    "data_calls['duration'].where(nonzero_session, 1, inplace=True)"
   ]
  },
  {
   "cell_type": "code",
   "execution_count": 203,
   "metadata": {},
   "outputs": [],
   "source": [
    "data_internet['mb_used'] = data_internet['mb_used'].apply(np.ceil)\n",
    "nonzero_session = data_internet['mb_used'] > 0\n",
    "data_internet['mb_used'].where(nonzero_session, 1, inplace=True)"
   ]
  },
  {
   "cell_type": "markdown",
   "metadata": {},
   "source": [
    "#### Переименуйте столбец data_calls в таблице tariffs."
   ]
  },
  {
   "cell_type": "code",
   "execution_count": 204,
   "metadata": {},
   "outputs": [],
   "source": [
    "data_tariffs = data_tariffs.rename(columns={'tariff_name': 'tariff'})"
   ]
  },
  {
   "cell_type": "code",
   "execution_count": 205,
   "metadata": {},
   "outputs": [
    {
     "data": {
      "text/html": [
       "<div>\n",
       "<style scoped>\n",
       "    .dataframe tbody tr th:only-of-type {\n",
       "        vertical-align: middle;\n",
       "    }\n",
       "\n",
       "    .dataframe tbody tr th {\n",
       "        vertical-align: top;\n",
       "    }\n",
       "\n",
       "    .dataframe thead th {\n",
       "        text-align: right;\n",
       "    }\n",
       "</style>\n",
       "<table border=\"1\" class=\"dataframe\">\n",
       "  <thead>\n",
       "    <tr style=\"text-align: right;\">\n",
       "      <th></th>\n",
       "      <th>messages_included</th>\n",
       "      <th>mg_per_month_included</th>\n",
       "      <th>minutes_included</th>\n",
       "      <th>rub_monthly_fee</th>\n",
       "      <th>rub_per_gb</th>\n",
       "      <th>rub_per_message</th>\n",
       "      <th>rub_per_minute</th>\n",
       "      <th>tariff</th>\n",
       "    </tr>\n",
       "  </thead>\n",
       "  <tbody>\n",
       "    <tr>\n",
       "      <td>0</td>\n",
       "      <td>50</td>\n",
       "      <td>15360</td>\n",
       "      <td>500</td>\n",
       "      <td>550</td>\n",
       "      <td>200</td>\n",
       "      <td>3</td>\n",
       "      <td>3</td>\n",
       "      <td>smart</td>\n",
       "    </tr>\n",
       "    <tr>\n",
       "      <td>1</td>\n",
       "      <td>1000</td>\n",
       "      <td>30720</td>\n",
       "      <td>3000</td>\n",
       "      <td>1950</td>\n",
       "      <td>150</td>\n",
       "      <td>1</td>\n",
       "      <td>1</td>\n",
       "      <td>ultra</td>\n",
       "    </tr>\n",
       "  </tbody>\n",
       "</table>\n",
       "</div>"
      ],
      "text/plain": [
       "   messages_included  mg_per_month_included  minutes_included  \\\n",
       "0                 50                  15360               500   \n",
       "1               1000                  30720              3000   \n",
       "\n",
       "   rub_monthly_fee  rub_per_gb  rub_per_message  rub_per_minute tariff  \n",
       "0              550         200                3               3  smart  \n",
       "1             1950         150                1               1  ultra  "
      ]
     },
     "execution_count": 205,
     "metadata": {},
     "output_type": "execute_result"
    }
   ],
   "source": [
    "data_tariffs.head()"
   ]
  },
  {
   "cell_type": "markdown",
   "metadata": {},
   "source": [
    "В таблице тарифов я увидел одну интересную вещь:\n",
    "\n",
    "- В столбце mg_per_month_included приведены данные о тарифных планах. Ограничение по трафику, тариф смарт - 15 ГБ, тариф ультра - 30 ГБ. Данные таблицы представлены в мегабайтах. Так как в 1ГБ = 1024МБ."
   ]
  },
  {
   "cell_type": "code",
   "execution_count": 206,
   "metadata": {},
   "outputs": [
    {
     "name": "stdout",
     "output_type": "stream",
     "text": [
      "Ограничение по трафику тарифа smart: 15360\n",
      "Ограничение по трафику тарифа ultra: 30720\n"
     ]
    }
   ],
   "source": [
    "smart = 15 * 1024\n",
    "ultra = 30 * 1024\n",
    "\n",
    "print(\"Ограничение по трафику тарифа smart:\", smart)\n",
    "print(\"Ограничение по трафику тарифа ultra:\", ultra)"
   ]
  },
  {
   "cell_type": "markdown",
   "metadata": {},
   "source": [
    "Поскольку данные в мегабайтах находятся в таблице, переименуйте столбец."
   ]
  },
  {
   "cell_type": "code",
   "execution_count": 207,
   "metadata": {},
   "outputs": [],
   "source": [
    "data_tariffs = data_tariffs.rename(columns={'mg_per_month_included':'mb_per_month_included'})"
   ]
  },
  {
   "cell_type": "markdown",
   "metadata": {},
   "source": [
    "#### Переименуйте идентификатор столбца в таблице вызовов"
   ]
  },
  {
   "cell_type": "code",
   "execution_count": 208,
   "metadata": {},
   "outputs": [],
   "source": [
    "data_calls = data_calls.rename(columns={'id': 'id_calls'})"
   ]
  },
  {
   "cell_type": "code",
   "execution_count": 209,
   "metadata": {},
   "outputs": [
    {
     "data": {
      "text/html": [
       "<div>\n",
       "<style scoped>\n",
       "    .dataframe tbody tr th:only-of-type {\n",
       "        vertical-align: middle;\n",
       "    }\n",
       "\n",
       "    .dataframe tbody tr th {\n",
       "        vertical-align: top;\n",
       "    }\n",
       "\n",
       "    .dataframe thead th {\n",
       "        text-align: right;\n",
       "    }\n",
       "</style>\n",
       "<table border=\"1\" class=\"dataframe\">\n",
       "  <thead>\n",
       "    <tr style=\"text-align: right;\">\n",
       "      <th></th>\n",
       "      <th>id_calls</th>\n",
       "      <th>call_date</th>\n",
       "      <th>duration</th>\n",
       "      <th>user_id</th>\n",
       "    </tr>\n",
       "  </thead>\n",
       "  <tbody>\n",
       "    <tr>\n",
       "      <td>0</td>\n",
       "      <td>1000_0</td>\n",
       "      <td>2018-07-25</td>\n",
       "      <td>1.0</td>\n",
       "      <td>1000</td>\n",
       "    </tr>\n",
       "    <tr>\n",
       "      <td>1</td>\n",
       "      <td>1000_1</td>\n",
       "      <td>2018-08-17</td>\n",
       "      <td>1.0</td>\n",
       "      <td>1000</td>\n",
       "    </tr>\n",
       "    <tr>\n",
       "      <td>2</td>\n",
       "      <td>1000_2</td>\n",
       "      <td>2018-06-11</td>\n",
       "      <td>3.0</td>\n",
       "      <td>1000</td>\n",
       "    </tr>\n",
       "    <tr>\n",
       "      <td>3</td>\n",
       "      <td>1000_3</td>\n",
       "      <td>2018-09-21</td>\n",
       "      <td>14.0</td>\n",
       "      <td>1000</td>\n",
       "    </tr>\n",
       "    <tr>\n",
       "      <td>4</td>\n",
       "      <td>1000_4</td>\n",
       "      <td>2018-12-15</td>\n",
       "      <td>6.0</td>\n",
       "      <td>1000</td>\n",
       "    </tr>\n",
       "  </tbody>\n",
       "</table>\n",
       "</div>"
      ],
      "text/plain": [
       "  id_calls  call_date  duration  user_id\n",
       "0   1000_0 2018-07-25       1.0     1000\n",
       "1   1000_1 2018-08-17       1.0     1000\n",
       "2   1000_2 2018-06-11       3.0     1000\n",
       "3   1000_3 2018-09-21      14.0     1000\n",
       "4   1000_4 2018-12-15       6.0     1000"
      ]
     },
     "execution_count": 209,
     "metadata": {},
     "output_type": "execute_result"
    }
   ],
   "source": [
    "data_calls.head()"
   ]
  },
  {
   "cell_type": "markdown",
   "metadata": {},
   "source": [
    "#### Переименуйте идентификатор столбца в таблице сообщений"
   ]
  },
  {
   "cell_type": "code",
   "execution_count": 210,
   "metadata": {},
   "outputs": [],
   "source": [
    "data_messages = data_messages.rename(columns={'id': 'id_messages'})"
   ]
  },
  {
   "cell_type": "code",
   "execution_count": 211,
   "metadata": {},
   "outputs": [
    {
     "data": {
      "text/html": [
       "<div>\n",
       "<style scoped>\n",
       "    .dataframe tbody tr th:only-of-type {\n",
       "        vertical-align: middle;\n",
       "    }\n",
       "\n",
       "    .dataframe tbody tr th {\n",
       "        vertical-align: top;\n",
       "    }\n",
       "\n",
       "    .dataframe thead th {\n",
       "        text-align: right;\n",
       "    }\n",
       "</style>\n",
       "<table border=\"1\" class=\"dataframe\">\n",
       "  <thead>\n",
       "    <tr style=\"text-align: right;\">\n",
       "      <th></th>\n",
       "      <th>id_messages</th>\n",
       "      <th>message_date</th>\n",
       "      <th>user_id</th>\n",
       "    </tr>\n",
       "  </thead>\n",
       "  <tbody>\n",
       "    <tr>\n",
       "      <td>0</td>\n",
       "      <td>1000_0</td>\n",
       "      <td>2018-06-27</td>\n",
       "      <td>1000</td>\n",
       "    </tr>\n",
       "    <tr>\n",
       "      <td>1</td>\n",
       "      <td>1000_1</td>\n",
       "      <td>2018-10-08</td>\n",
       "      <td>1000</td>\n",
       "    </tr>\n",
       "    <tr>\n",
       "      <td>2</td>\n",
       "      <td>1000_2</td>\n",
       "      <td>2018-08-04</td>\n",
       "      <td>1000</td>\n",
       "    </tr>\n",
       "    <tr>\n",
       "      <td>3</td>\n",
       "      <td>1000_3</td>\n",
       "      <td>2018-06-16</td>\n",
       "      <td>1000</td>\n",
       "    </tr>\n",
       "    <tr>\n",
       "      <td>4</td>\n",
       "      <td>1000_4</td>\n",
       "      <td>2018-12-05</td>\n",
       "      <td>1000</td>\n",
       "    </tr>\n",
       "  </tbody>\n",
       "</table>\n",
       "</div>"
      ],
      "text/plain": [
       "  id_messages message_date  user_id\n",
       "0      1000_0   2018-06-27     1000\n",
       "1      1000_1   2018-10-08     1000\n",
       "2      1000_2   2018-08-04     1000\n",
       "3      1000_3   2018-06-16     1000\n",
       "4      1000_4   2018-12-05     1000"
      ]
     },
     "execution_count": 211,
     "metadata": {},
     "output_type": "execute_result"
    }
   ],
   "source": [
    "data_messages.head()"
   ]
  },
  {
   "cell_type": "markdown",
   "metadata": {},
   "source": [
    "#### Переименуйте идентификатор столбца в интернет-таблице"
   ]
  },
  {
   "cell_type": "code",
   "execution_count": 212,
   "metadata": {},
   "outputs": [],
   "source": [
    "data_internet = data_internet.rename(columns={'id': 'id_internet'})"
   ]
  },
  {
   "cell_type": "code",
   "execution_count": 213,
   "metadata": {},
   "outputs": [
    {
     "data": {
      "text/html": [
       "<div>\n",
       "<style scoped>\n",
       "    .dataframe tbody tr th:only-of-type {\n",
       "        vertical-align: middle;\n",
       "    }\n",
       "\n",
       "    .dataframe tbody tr th {\n",
       "        vertical-align: top;\n",
       "    }\n",
       "\n",
       "    .dataframe thead th {\n",
       "        text-align: right;\n",
       "    }\n",
       "</style>\n",
       "<table border=\"1\" class=\"dataframe\">\n",
       "  <thead>\n",
       "    <tr style=\"text-align: right;\">\n",
       "      <th></th>\n",
       "      <th>id_internet</th>\n",
       "      <th>mb_used</th>\n",
       "      <th>session_date</th>\n",
       "      <th>user_id</th>\n",
       "    </tr>\n",
       "  </thead>\n",
       "  <tbody>\n",
       "    <tr>\n",
       "      <td>0</td>\n",
       "      <td>1000_0</td>\n",
       "      <td>113.0</td>\n",
       "      <td>2018-11-25</td>\n",
       "      <td>1000</td>\n",
       "    </tr>\n",
       "    <tr>\n",
       "      <td>1</td>\n",
       "      <td>1000_1</td>\n",
       "      <td>1053.0</td>\n",
       "      <td>2018-09-07</td>\n",
       "      <td>1000</td>\n",
       "    </tr>\n",
       "    <tr>\n",
       "      <td>2</td>\n",
       "      <td>1000_2</td>\n",
       "      <td>1198.0</td>\n",
       "      <td>2018-06-25</td>\n",
       "      <td>1000</td>\n",
       "    </tr>\n",
       "    <tr>\n",
       "      <td>3</td>\n",
       "      <td>1000_3</td>\n",
       "      <td>551.0</td>\n",
       "      <td>2018-08-22</td>\n",
       "      <td>1000</td>\n",
       "    </tr>\n",
       "    <tr>\n",
       "      <td>4</td>\n",
       "      <td>1000_4</td>\n",
       "      <td>303.0</td>\n",
       "      <td>2018-09-24</td>\n",
       "      <td>1000</td>\n",
       "    </tr>\n",
       "  </tbody>\n",
       "</table>\n",
       "</div>"
      ],
      "text/plain": [
       "  id_internet  mb_used session_date  user_id\n",
       "0      1000_0    113.0   2018-11-25     1000\n",
       "1      1000_1   1053.0   2018-09-07     1000\n",
       "2      1000_2   1198.0   2018-06-25     1000\n",
       "3      1000_3    551.0   2018-08-22     1000\n",
       "4      1000_4    303.0   2018-09-24     1000"
      ]
     },
     "execution_count": 213,
     "metadata": {},
     "output_type": "execute_result"
    }
   ],
   "source": [
    "data_internet.head()"
   ]
  },
  {
   "cell_type": "markdown",
   "metadata": {},
   "source": [
    "### Подсчет для каждого пользователя"
   ]
  },
  {
   "cell_type": "markdown",
   "metadata": {},
   "source": [
    "#### Количество совершенных звонков и минут разговоров за месяц"
   ]
  },
  {
   "cell_type": "markdown",
   "metadata": {},
   "source": [
    "Я думаю, что самое простое решение этой проблемы - добавить новый столбец и создать сводную таблицу. Итак, я добавлю новый столбец с названиями месяцев, который определяется на основе столбца call_date. Затем мы создадим сводную таблицу для столбца month, также посчитав и суммировав значения columnduration."
   ]
  },
  {
   "cell_type": "code",
   "execution_count": 214,
   "metadata": {},
   "outputs": [],
   "source": [
    "data_calls['month'] = data_calls['call_date'].dt.month_name()"
   ]
  },
  {
   "cell_type": "code",
   "execution_count": 215,
   "metadata": {},
   "outputs": [
    {
     "data": {
      "text/html": [
       "<div>\n",
       "<style scoped>\n",
       "    .dataframe tbody tr th:only-of-type {\n",
       "        vertical-align: middle;\n",
       "    }\n",
       "\n",
       "    .dataframe tbody tr th {\n",
       "        vertical-align: top;\n",
       "    }\n",
       "\n",
       "    .dataframe thead th {\n",
       "        text-align: right;\n",
       "    }\n",
       "</style>\n",
       "<table border=\"1\" class=\"dataframe\">\n",
       "  <thead>\n",
       "    <tr style=\"text-align: right;\">\n",
       "      <th></th>\n",
       "      <th>id_calls</th>\n",
       "      <th>call_date</th>\n",
       "      <th>duration</th>\n",
       "      <th>user_id</th>\n",
       "      <th>month</th>\n",
       "    </tr>\n",
       "  </thead>\n",
       "  <tbody>\n",
       "    <tr>\n",
       "      <td>0</td>\n",
       "      <td>1000_0</td>\n",
       "      <td>2018-07-25</td>\n",
       "      <td>1.0</td>\n",
       "      <td>1000</td>\n",
       "      <td>July</td>\n",
       "    </tr>\n",
       "    <tr>\n",
       "      <td>1</td>\n",
       "      <td>1000_1</td>\n",
       "      <td>2018-08-17</td>\n",
       "      <td>1.0</td>\n",
       "      <td>1000</td>\n",
       "      <td>August</td>\n",
       "    </tr>\n",
       "    <tr>\n",
       "      <td>2</td>\n",
       "      <td>1000_2</td>\n",
       "      <td>2018-06-11</td>\n",
       "      <td>3.0</td>\n",
       "      <td>1000</td>\n",
       "      <td>June</td>\n",
       "    </tr>\n",
       "    <tr>\n",
       "      <td>3</td>\n",
       "      <td>1000_3</td>\n",
       "      <td>2018-09-21</td>\n",
       "      <td>14.0</td>\n",
       "      <td>1000</td>\n",
       "      <td>September</td>\n",
       "    </tr>\n",
       "    <tr>\n",
       "      <td>4</td>\n",
       "      <td>1000_4</td>\n",
       "      <td>2018-12-15</td>\n",
       "      <td>6.0</td>\n",
       "      <td>1000</td>\n",
       "      <td>December</td>\n",
       "    </tr>\n",
       "  </tbody>\n",
       "</table>\n",
       "</div>"
      ],
      "text/plain": [
       "  id_calls  call_date  duration  user_id      month\n",
       "0   1000_0 2018-07-25       1.0     1000       July\n",
       "1   1000_1 2018-08-17       1.0     1000     August\n",
       "2   1000_2 2018-06-11       3.0     1000       June\n",
       "3   1000_3 2018-09-21      14.0     1000  September\n",
       "4   1000_4 2018-12-15       6.0     1000   December"
      ]
     },
     "execution_count": 215,
     "metadata": {},
     "output_type": "execute_result"
    }
   ],
   "source": [
    "data_calls.head()"
   ]
  },
  {
   "cell_type": "code",
   "execution_count": 216,
   "metadata": {},
   "outputs": [],
   "source": [
    "calls_by_month = data_calls.pivot_table(\n",
    "    index=['month'],\n",
    "    values='duration',\n",
    "    aggfunc=['count', 'sum']\n",
    ")"
   ]
  },
  {
   "cell_type": "code",
   "execution_count": 217,
   "metadata": {},
   "outputs": [],
   "source": [
    "calls_by_month['n_month'] = ['4', '8', '12', '2', '1', '7', '6', '3', '5', '11', '10', '9']\n",
    "calls_by_month['n_month'] = calls_by_month['n_month'].astype('int').apply(abs)"
   ]
  },
  {
   "cell_type": "code",
   "execution_count": 218,
   "metadata": {},
   "outputs": [
    {
     "data": {
      "text/html": [
       "<div>\n",
       "<style scoped>\n",
       "    .dataframe tbody tr th:only-of-type {\n",
       "        vertical-align: middle;\n",
       "    }\n",
       "\n",
       "    .dataframe tbody tr th {\n",
       "        vertical-align: top;\n",
       "    }\n",
       "\n",
       "    .dataframe thead tr th {\n",
       "        text-align: left;\n",
       "    }\n",
       "\n",
       "    .dataframe thead tr:last-of-type th {\n",
       "        text-align: right;\n",
       "    }\n",
       "</style>\n",
       "<table border=\"1\" class=\"dataframe\">\n",
       "  <thead>\n",
       "    <tr>\n",
       "      <th></th>\n",
       "      <th>count</th>\n",
       "      <th>sum</th>\n",
       "      <th>n_month</th>\n",
       "    </tr>\n",
       "    <tr>\n",
       "      <th></th>\n",
       "      <th>duration</th>\n",
       "      <th>duration</th>\n",
       "      <th></th>\n",
       "    </tr>\n",
       "    <tr>\n",
       "      <th>month</th>\n",
       "      <th></th>\n",
       "      <th></th>\n",
       "      <th></th>\n",
       "    </tr>\n",
       "  </thead>\n",
       "  <tbody>\n",
       "    <tr>\n",
       "      <td>January</td>\n",
       "      <td>1476</td>\n",
       "      <td>11096.0</td>\n",
       "      <td>1</td>\n",
       "    </tr>\n",
       "    <tr>\n",
       "      <td>February</td>\n",
       "      <td>3328</td>\n",
       "      <td>25078.0</td>\n",
       "      <td>2</td>\n",
       "    </tr>\n",
       "    <tr>\n",
       "      <td>March</td>\n",
       "      <td>6687</td>\n",
       "      <td>49455.0</td>\n",
       "      <td>3</td>\n",
       "    </tr>\n",
       "    <tr>\n",
       "      <td>April</td>\n",
       "      <td>9272</td>\n",
       "      <td>68078.0</td>\n",
       "      <td>4</td>\n",
       "    </tr>\n",
       "    <tr>\n",
       "      <td>May</td>\n",
       "      <td>12647</td>\n",
       "      <td>91341.0</td>\n",
       "      <td>5</td>\n",
       "    </tr>\n",
       "    <tr>\n",
       "      <td>June</td>\n",
       "      <td>14716</td>\n",
       "      <td>108063.0</td>\n",
       "      <td>6</td>\n",
       "    </tr>\n",
       "    <tr>\n",
       "      <td>July</td>\n",
       "      <td>18298</td>\n",
       "      <td>135264.0</td>\n",
       "      <td>7</td>\n",
       "    </tr>\n",
       "    <tr>\n",
       "      <td>August</td>\n",
       "      <td>21488</td>\n",
       "      <td>157929.0</td>\n",
       "      <td>8</td>\n",
       "    </tr>\n",
       "    <tr>\n",
       "      <td>September</td>\n",
       "      <td>24061</td>\n",
       "      <td>178090.0</td>\n",
       "      <td>9</td>\n",
       "    </tr>\n",
       "    <tr>\n",
       "      <td>October</td>\n",
       "      <td>27146</td>\n",
       "      <td>199317.0</td>\n",
       "      <td>10</td>\n",
       "    </tr>\n",
       "    <tr>\n",
       "      <td>November</td>\n",
       "      <td>29501</td>\n",
       "      <td>215926.0</td>\n",
       "      <td>11</td>\n",
       "    </tr>\n",
       "    <tr>\n",
       "      <td>December</td>\n",
       "      <td>33987</td>\n",
       "      <td>250277.0</td>\n",
       "      <td>12</td>\n",
       "    </tr>\n",
       "  </tbody>\n",
       "</table>\n",
       "</div>"
      ],
      "text/plain": [
       "             count       sum n_month\n",
       "          duration  duration        \n",
       "month                               \n",
       "January       1476   11096.0       1\n",
       "February      3328   25078.0       2\n",
       "March         6687   49455.0       3\n",
       "April         9272   68078.0       4\n",
       "May          12647   91341.0       5\n",
       "June         14716  108063.0       6\n",
       "July         18298  135264.0       7\n",
       "August       21488  157929.0       8\n",
       "September    24061  178090.0       9\n",
       "October      27146  199317.0      10\n",
       "November     29501  215926.0      11\n",
       "December     33987  250277.0      12"
      ]
     },
     "execution_count": 218,
     "metadata": {},
     "output_type": "execute_result"
    }
   ],
   "source": [
    "calls_by_month.sort_values(by=['n_month'])"
   ]
  },
  {
   "cell_type": "markdown",
   "metadata": {},
   "source": [
    "длительность счета - количество звонков в месяц;\n",
    "сумма длительности - это продолжительность звонков в минутах в месяц."
   ]
  },
  {
   "cell_type": "markdown",
   "metadata": {},
   "source": [
    "### Количество отправленных сообщений за месяц"
   ]
  },
  {
   "cell_type": "markdown",
   "metadata": {},
   "source": [
    "Здесь я также считаю, что простым решением является добавление нового столбца и группировка по столбцам."
   ]
  },
  {
   "cell_type": "code",
   "execution_count": 219,
   "metadata": {},
   "outputs": [],
   "source": [
    "data_messages['month'] = data_messages['message_date'].dt.month_name()"
   ]
  },
  {
   "cell_type": "code",
   "execution_count": 220,
   "metadata": {},
   "outputs": [
    {
     "data": {
      "text/html": [
       "<div>\n",
       "<style scoped>\n",
       "    .dataframe tbody tr th:only-of-type {\n",
       "        vertical-align: middle;\n",
       "    }\n",
       "\n",
       "    .dataframe tbody tr th {\n",
       "        vertical-align: top;\n",
       "    }\n",
       "\n",
       "    .dataframe thead th {\n",
       "        text-align: right;\n",
       "    }\n",
       "</style>\n",
       "<table border=\"1\" class=\"dataframe\">\n",
       "  <thead>\n",
       "    <tr style=\"text-align: right;\">\n",
       "      <th></th>\n",
       "      <th>id_messages</th>\n",
       "      <th>message_date</th>\n",
       "      <th>user_id</th>\n",
       "      <th>month</th>\n",
       "    </tr>\n",
       "  </thead>\n",
       "  <tbody>\n",
       "    <tr>\n",
       "      <td>35693</td>\n",
       "      <td>1155_82</td>\n",
       "      <td>2018-01-02</td>\n",
       "      <td>1155</td>\n",
       "      <td>January</td>\n",
       "    </tr>\n",
       "    <tr>\n",
       "      <td>112561</td>\n",
       "      <td>1453_586</td>\n",
       "      <td>2018-01-02</td>\n",
       "      <td>1453</td>\n",
       "      <td>January</td>\n",
       "    </tr>\n",
       "    <tr>\n",
       "      <td>112248</td>\n",
       "      <td>1453_273</td>\n",
       "      <td>2018-01-02</td>\n",
       "      <td>1453</td>\n",
       "      <td>January</td>\n",
       "    </tr>\n",
       "    <tr>\n",
       "      <td>36021</td>\n",
       "      <td>1155_410</td>\n",
       "      <td>2018-01-02</td>\n",
       "      <td>1155</td>\n",
       "      <td>January</td>\n",
       "    </tr>\n",
       "    <tr>\n",
       "      <td>13096</td>\n",
       "      <td>1055_62</td>\n",
       "      <td>2018-01-02</td>\n",
       "      <td>1055</td>\n",
       "      <td>January</td>\n",
       "    </tr>\n",
       "  </tbody>\n",
       "</table>\n",
       "</div>"
      ],
      "text/plain": [
       "       id_messages message_date  user_id    month\n",
       "35693      1155_82   2018-01-02     1155  January\n",
       "112561    1453_586   2018-01-02     1453  January\n",
       "112248    1453_273   2018-01-02     1453  January\n",
       "36021     1155_410   2018-01-02     1155  January\n",
       "13096      1055_62   2018-01-02     1055  January"
      ]
     },
     "execution_count": 220,
     "metadata": {},
     "output_type": "execute_result"
    }
   ],
   "source": [
    "data_messages.sort_values('message_date').head()"
   ]
  },
  {
   "cell_type": "code",
   "execution_count": 221,
   "metadata": {},
   "outputs": [],
   "source": [
    "messages_by_month = data_messages.pivot_table(\n",
    "    index=['month'],\n",
    "    values='message_date',\n",
    "    aggfunc=['count']\n",
    ")"
   ]
  },
  {
   "cell_type": "code",
   "execution_count": 222,
   "metadata": {},
   "outputs": [],
   "source": [
    "messages_by_month['n_month'] = ['4', '8', '12', '2', '1', '7', '6', '3', '5', '11', '10', '9']\n",
    "messages_by_month['n_month'] = messages_by_month['n_month'].astype('int').apply(abs)"
   ]
  },
  {
   "cell_type": "code",
   "execution_count": 223,
   "metadata": {},
   "outputs": [
    {
     "data": {
      "text/html": [
       "<div>\n",
       "<style scoped>\n",
       "    .dataframe tbody tr th:only-of-type {\n",
       "        vertical-align: middle;\n",
       "    }\n",
       "\n",
       "    .dataframe tbody tr th {\n",
       "        vertical-align: top;\n",
       "    }\n",
       "\n",
       "    .dataframe thead tr th {\n",
       "        text-align: left;\n",
       "    }\n",
       "\n",
       "    .dataframe thead tr:last-of-type th {\n",
       "        text-align: right;\n",
       "    }\n",
       "</style>\n",
       "<table border=\"1\" class=\"dataframe\">\n",
       "  <thead>\n",
       "    <tr>\n",
       "      <th></th>\n",
       "      <th>count</th>\n",
       "      <th>n_month</th>\n",
       "    </tr>\n",
       "    <tr>\n",
       "      <th></th>\n",
       "      <th>message_date</th>\n",
       "      <th></th>\n",
       "    </tr>\n",
       "    <tr>\n",
       "      <th>month</th>\n",
       "      <th></th>\n",
       "      <th></th>\n",
       "    </tr>\n",
       "  </thead>\n",
       "  <tbody>\n",
       "    <tr>\n",
       "      <td>January</td>\n",
       "      <td>924</td>\n",
       "      <td>1</td>\n",
       "    </tr>\n",
       "    <tr>\n",
       "      <td>February</td>\n",
       "      <td>1924</td>\n",
       "      <td>2</td>\n",
       "    </tr>\n",
       "    <tr>\n",
       "      <td>March</td>\n",
       "      <td>3648</td>\n",
       "      <td>3</td>\n",
       "    </tr>\n",
       "    <tr>\n",
       "      <td>April</td>\n",
       "      <td>5179</td>\n",
       "      <td>4</td>\n",
       "    </tr>\n",
       "    <tr>\n",
       "      <td>May</td>\n",
       "      <td>7298</td>\n",
       "      <td>5</td>\n",
       "    </tr>\n",
       "    <tr>\n",
       "      <td>June</td>\n",
       "      <td>8983</td>\n",
       "      <td>6</td>\n",
       "    </tr>\n",
       "    <tr>\n",
       "      <td>July</td>\n",
       "      <td>11320</td>\n",
       "      <td>7</td>\n",
       "    </tr>\n",
       "    <tr>\n",
       "      <td>August</td>\n",
       "      <td>13088</td>\n",
       "      <td>8</td>\n",
       "    </tr>\n",
       "    <tr>\n",
       "      <td>September</td>\n",
       "      <td>14759</td>\n",
       "      <td>9</td>\n",
       "    </tr>\n",
       "    <tr>\n",
       "      <td>October</td>\n",
       "      <td>17114</td>\n",
       "      <td>10</td>\n",
       "    </tr>\n",
       "    <tr>\n",
       "      <td>November</td>\n",
       "      <td>18244</td>\n",
       "      <td>11</td>\n",
       "    </tr>\n",
       "    <tr>\n",
       "      <td>December</td>\n",
       "      <td>20555</td>\n",
       "      <td>12</td>\n",
       "    </tr>\n",
       "  </tbody>\n",
       "</table>\n",
       "</div>"
      ],
      "text/plain": [
       "                 count n_month\n",
       "          message_date        \n",
       "month                         \n",
       "January            924       1\n",
       "February          1924       2\n",
       "March             3648       3\n",
       "April             5179       4\n",
       "May               7298       5\n",
       "June              8983       6\n",
       "July             11320       7\n",
       "August           13088       8\n",
       "September        14759       9\n",
       "October          17114      10\n",
       "November         18244      11\n",
       "December         20555      12"
      ]
     },
     "execution_count": 223,
     "metadata": {},
     "output_type": "execute_result"
    }
   ],
   "source": [
    "messages_by_month.sort_values(by=['n_month'])"
   ]
  },
  {
   "cell_type": "markdown",
   "metadata": {},
   "source": [
    "count message_date - количество сообщений, отправленных за месяц."
   ]
  },
  {
   "cell_type": "markdown",
   "metadata": {},
   "source": [
    "### Ежемесячный трафик"
   ]
  },
  {
   "cell_type": "code",
   "execution_count": 224,
   "metadata": {},
   "outputs": [],
   "source": [
    "data_internet['month'] = data_internet['session_date'].dt.month_name()"
   ]
  },
  {
   "cell_type": "code",
   "execution_count": 225,
   "metadata": {},
   "outputs": [
    {
     "data": {
      "text/html": [
       "<div>\n",
       "<style scoped>\n",
       "    .dataframe tbody tr th:only-of-type {\n",
       "        vertical-align: middle;\n",
       "    }\n",
       "\n",
       "    .dataframe tbody tr th {\n",
       "        vertical-align: top;\n",
       "    }\n",
       "\n",
       "    .dataframe thead th {\n",
       "        text-align: right;\n",
       "    }\n",
       "</style>\n",
       "<table border=\"1\" class=\"dataframe\">\n",
       "  <thead>\n",
       "    <tr style=\"text-align: right;\">\n",
       "      <th></th>\n",
       "      <th>id_internet</th>\n",
       "      <th>mb_used</th>\n",
       "      <th>session_date</th>\n",
       "      <th>user_id</th>\n",
       "      <th>month</th>\n",
       "    </tr>\n",
       "  </thead>\n",
       "  <tbody>\n",
       "    <tr>\n",
       "      <td>0</td>\n",
       "      <td>1000_0</td>\n",
       "      <td>113.0</td>\n",
       "      <td>2018-11-25</td>\n",
       "      <td>1000</td>\n",
       "      <td>November</td>\n",
       "    </tr>\n",
       "    <tr>\n",
       "      <td>1</td>\n",
       "      <td>1000_1</td>\n",
       "      <td>1053.0</td>\n",
       "      <td>2018-09-07</td>\n",
       "      <td>1000</td>\n",
       "      <td>September</td>\n",
       "    </tr>\n",
       "    <tr>\n",
       "      <td>2</td>\n",
       "      <td>1000_2</td>\n",
       "      <td>1198.0</td>\n",
       "      <td>2018-06-25</td>\n",
       "      <td>1000</td>\n",
       "      <td>June</td>\n",
       "    </tr>\n",
       "    <tr>\n",
       "      <td>3</td>\n",
       "      <td>1000_3</td>\n",
       "      <td>551.0</td>\n",
       "      <td>2018-08-22</td>\n",
       "      <td>1000</td>\n",
       "      <td>August</td>\n",
       "    </tr>\n",
       "    <tr>\n",
       "      <td>4</td>\n",
       "      <td>1000_4</td>\n",
       "      <td>303.0</td>\n",
       "      <td>2018-09-24</td>\n",
       "      <td>1000</td>\n",
       "      <td>September</td>\n",
       "    </tr>\n",
       "  </tbody>\n",
       "</table>\n",
       "</div>"
      ],
      "text/plain": [
       "  id_internet  mb_used session_date  user_id      month\n",
       "0      1000_0    113.0   2018-11-25     1000   November\n",
       "1      1000_1   1053.0   2018-09-07     1000  September\n",
       "2      1000_2   1198.0   2018-06-25     1000       June\n",
       "3      1000_3    551.0   2018-08-22     1000     August\n",
       "4      1000_4    303.0   2018-09-24     1000  September"
      ]
     },
     "execution_count": 225,
     "metadata": {},
     "output_type": "execute_result"
    }
   ],
   "source": [
    "data_internet.head()"
   ]
  },
  {
   "cell_type": "code",
   "execution_count": 226,
   "metadata": {},
   "outputs": [],
   "source": [
    "internet_by_month = data_internet.pivot_table(\n",
    "    index=['month'],\n",
    "    values='mb_used',\n",
    "    aggfunc=['count', 'sum']\n",
    ")"
   ]
  },
  {
   "cell_type": "code",
   "execution_count": 227,
   "metadata": {},
   "outputs": [],
   "source": [
    "internet_by_month['n_month'] = ['4', '8', '12', '2', '1', '7', '6', '3', '5', '11', '10', '9']\n",
    "internet_by_month['n_month'] = internet_by_month['n_month'].astype('int').apply(abs)"
   ]
  },
  {
   "cell_type": "code",
   "execution_count": 228,
   "metadata": {},
   "outputs": [
    {
     "data": {
      "text/html": [
       "<div>\n",
       "<style scoped>\n",
       "    .dataframe tbody tr th:only-of-type {\n",
       "        vertical-align: middle;\n",
       "    }\n",
       "\n",
       "    .dataframe tbody tr th {\n",
       "        vertical-align: top;\n",
       "    }\n",
       "\n",
       "    .dataframe thead tr th {\n",
       "        text-align: left;\n",
       "    }\n",
       "\n",
       "    .dataframe thead tr:last-of-type th {\n",
       "        text-align: right;\n",
       "    }\n",
       "</style>\n",
       "<table border=\"1\" class=\"dataframe\">\n",
       "  <thead>\n",
       "    <tr>\n",
       "      <th></th>\n",
       "      <th>count</th>\n",
       "      <th>sum</th>\n",
       "      <th>n_month</th>\n",
       "    </tr>\n",
       "    <tr>\n",
       "      <th></th>\n",
       "      <th>mb_used</th>\n",
       "      <th>mb_used</th>\n",
       "      <th></th>\n",
       "    </tr>\n",
       "    <tr>\n",
       "      <th>month</th>\n",
       "      <th></th>\n",
       "      <th></th>\n",
       "      <th></th>\n",
       "    </tr>\n",
       "  </thead>\n",
       "  <tbody>\n",
       "    <tr>\n",
       "      <td>January</td>\n",
       "      <td>1117</td>\n",
       "      <td>408364.0</td>\n",
       "      <td>1</td>\n",
       "    </tr>\n",
       "    <tr>\n",
       "      <td>February</td>\n",
       "      <td>2641</td>\n",
       "      <td>956726.0</td>\n",
       "      <td>2</td>\n",
       "    </tr>\n",
       "    <tr>\n",
       "      <td>March</td>\n",
       "      <td>4885</td>\n",
       "      <td>1814583.0</td>\n",
       "      <td>3</td>\n",
       "    </tr>\n",
       "    <tr>\n",
       "      <td>April</td>\n",
       "      <td>6511</td>\n",
       "      <td>2436930.0</td>\n",
       "      <td>4</td>\n",
       "    </tr>\n",
       "    <tr>\n",
       "      <td>May</td>\n",
       "      <td>9408</td>\n",
       "      <td>3531092.0</td>\n",
       "      <td>5</td>\n",
       "    </tr>\n",
       "    <tr>\n",
       "      <td>June</td>\n",
       "      <td>11057</td>\n",
       "      <td>4186171.0</td>\n",
       "      <td>6</td>\n",
       "    </tr>\n",
       "    <tr>\n",
       "      <td>July</td>\n",
       "      <td>13548</td>\n",
       "      <td>5037059.0</td>\n",
       "      <td>7</td>\n",
       "    </tr>\n",
       "    <tr>\n",
       "      <td>August</td>\n",
       "      <td>16092</td>\n",
       "      <td>6007209.0</td>\n",
       "      <td>8</td>\n",
       "    </tr>\n",
       "    <tr>\n",
       "      <td>September</td>\n",
       "      <td>17512</td>\n",
       "      <td>6457245.0</td>\n",
       "      <td>9</td>\n",
       "    </tr>\n",
       "    <tr>\n",
       "      <td>October</td>\n",
       "      <td>20009</td>\n",
       "      <td>7403396.0</td>\n",
       "      <td>10</td>\n",
       "    </tr>\n",
       "    <tr>\n",
       "      <td>November</td>\n",
       "      <td>21817</td>\n",
       "      <td>8002759.0</td>\n",
       "      <td>11</td>\n",
       "    </tr>\n",
       "    <tr>\n",
       "      <td>December</td>\n",
       "      <td>24799</td>\n",
       "      <td>9147523.0</td>\n",
       "      <td>12</td>\n",
       "    </tr>\n",
       "  </tbody>\n",
       "</table>\n",
       "</div>"
      ],
      "text/plain": [
       "            count        sum n_month\n",
       "          mb_used    mb_used        \n",
       "month                               \n",
       "January      1117   408364.0       1\n",
       "February     2641   956726.0       2\n",
       "March        4885  1814583.0       3\n",
       "April        6511  2436930.0       4\n",
       "May          9408  3531092.0       5\n",
       "June        11057  4186171.0       6\n",
       "July        13548  5037059.0       7\n",
       "August      16092  6007209.0       8\n",
       "September   17512  6457245.0       9\n",
       "October     20009  7403396.0      10\n",
       "November    21817  8002759.0      11\n",
       "December    24799  9147523.0      12"
      ]
     },
     "execution_count": 228,
     "metadata": {},
     "output_type": "execute_result"
    }
   ],
   "source": [
    "internet_by_month.sort_values(by=['n_month'])"
   ]
  },
  {
   "cell_type": "markdown",
   "metadata": {},
   "source": [
    "count mb_used - количество интернет-сессий в месяц;\n",
    "sum mb_used - количество потребляемого ежемесячного интернет-трафика."
   ]
  },
  {
   "cell_type": "markdown",
   "metadata": {},
   "source": [
    "#### Объединенный стол\n",
    "Для визуального отображения, объединены три таблицы звонков by_month, messages_by_month, internet_by_month"
   ]
  },
  {
   "cell_type": "code",
   "execution_count": 229,
   "metadata": {},
   "outputs": [],
   "source": [
    "data_per_month = calls_by_month.merge(messages_by_month, on=['n_month','month'], how='outer')\\\n",
    "    .merge(internet_by_month, on=['n_month','month'], how='outer')"
   ]
  },
  {
   "cell_type": "code",
   "execution_count": 230,
   "metadata": {},
   "outputs": [
    {
     "data": {
      "text/html": [
       "<div>\n",
       "<style scoped>\n",
       "    .dataframe tbody tr th:only-of-type {\n",
       "        vertical-align: middle;\n",
       "    }\n",
       "\n",
       "    .dataframe tbody tr th {\n",
       "        vertical-align: top;\n",
       "    }\n",
       "\n",
       "    .dataframe thead th {\n",
       "        text-align: right;\n",
       "    }\n",
       "</style>\n",
       "<table border=\"1\" class=\"dataframe\">\n",
       "  <thead>\n",
       "    <tr style=\"text-align: right;\">\n",
       "      <th></th>\n",
       "      <th>calls</th>\n",
       "      <th>calls_duration</th>\n",
       "      <th>n_month</th>\n",
       "      <th>messages</th>\n",
       "      <th>internet_session</th>\n",
       "      <th>mb</th>\n",
       "    </tr>\n",
       "    <tr>\n",
       "      <th>month</th>\n",
       "      <th></th>\n",
       "      <th></th>\n",
       "      <th></th>\n",
       "      <th></th>\n",
       "      <th></th>\n",
       "      <th></th>\n",
       "    </tr>\n",
       "  </thead>\n",
       "  <tbody>\n",
       "    <tr>\n",
       "      <td>January</td>\n",
       "      <td>1476</td>\n",
       "      <td>11096.0</td>\n",
       "      <td>1</td>\n",
       "      <td>924</td>\n",
       "      <td>1117</td>\n",
       "      <td>408364.0</td>\n",
       "    </tr>\n",
       "    <tr>\n",
       "      <td>February</td>\n",
       "      <td>3328</td>\n",
       "      <td>25078.0</td>\n",
       "      <td>2</td>\n",
       "      <td>1924</td>\n",
       "      <td>2641</td>\n",
       "      <td>956726.0</td>\n",
       "    </tr>\n",
       "    <tr>\n",
       "      <td>March</td>\n",
       "      <td>6687</td>\n",
       "      <td>49455.0</td>\n",
       "      <td>3</td>\n",
       "      <td>3648</td>\n",
       "      <td>4885</td>\n",
       "      <td>1814583.0</td>\n",
       "    </tr>\n",
       "    <tr>\n",
       "      <td>April</td>\n",
       "      <td>9272</td>\n",
       "      <td>68078.0</td>\n",
       "      <td>4</td>\n",
       "      <td>5179</td>\n",
       "      <td>6511</td>\n",
       "      <td>2436930.0</td>\n",
       "    </tr>\n",
       "    <tr>\n",
       "      <td>May</td>\n",
       "      <td>12647</td>\n",
       "      <td>91341.0</td>\n",
       "      <td>5</td>\n",
       "      <td>7298</td>\n",
       "      <td>9408</td>\n",
       "      <td>3531092.0</td>\n",
       "    </tr>\n",
       "    <tr>\n",
       "      <td>June</td>\n",
       "      <td>14716</td>\n",
       "      <td>108063.0</td>\n",
       "      <td>6</td>\n",
       "      <td>8983</td>\n",
       "      <td>11057</td>\n",
       "      <td>4186171.0</td>\n",
       "    </tr>\n",
       "    <tr>\n",
       "      <td>July</td>\n",
       "      <td>18298</td>\n",
       "      <td>135264.0</td>\n",
       "      <td>7</td>\n",
       "      <td>11320</td>\n",
       "      <td>13548</td>\n",
       "      <td>5037059.0</td>\n",
       "    </tr>\n",
       "    <tr>\n",
       "      <td>August</td>\n",
       "      <td>21488</td>\n",
       "      <td>157929.0</td>\n",
       "      <td>8</td>\n",
       "      <td>13088</td>\n",
       "      <td>16092</td>\n",
       "      <td>6007209.0</td>\n",
       "    </tr>\n",
       "    <tr>\n",
       "      <td>September</td>\n",
       "      <td>24061</td>\n",
       "      <td>178090.0</td>\n",
       "      <td>9</td>\n",
       "      <td>14759</td>\n",
       "      <td>17512</td>\n",
       "      <td>6457245.0</td>\n",
       "    </tr>\n",
       "    <tr>\n",
       "      <td>October</td>\n",
       "      <td>27146</td>\n",
       "      <td>199317.0</td>\n",
       "      <td>10</td>\n",
       "      <td>17114</td>\n",
       "      <td>20009</td>\n",
       "      <td>7403396.0</td>\n",
       "    </tr>\n",
       "    <tr>\n",
       "      <td>November</td>\n",
       "      <td>29501</td>\n",
       "      <td>215926.0</td>\n",
       "      <td>11</td>\n",
       "      <td>18244</td>\n",
       "      <td>21817</td>\n",
       "      <td>8002759.0</td>\n",
       "    </tr>\n",
       "    <tr>\n",
       "      <td>December</td>\n",
       "      <td>33987</td>\n",
       "      <td>250277.0</td>\n",
       "      <td>12</td>\n",
       "      <td>20555</td>\n",
       "      <td>24799</td>\n",
       "      <td>9147523.0</td>\n",
       "    </tr>\n",
       "  </tbody>\n",
       "</table>\n",
       "</div>"
      ],
      "text/plain": [
       "           calls  calls_duration  n_month  messages  internet_session  \\\n",
       "month                                                                   \n",
       "January     1476         11096.0        1       924              1117   \n",
       "February    3328         25078.0        2      1924              2641   \n",
       "March       6687         49455.0        3      3648              4885   \n",
       "April       9272         68078.0        4      5179              6511   \n",
       "May        12647         91341.0        5      7298              9408   \n",
       "June       14716        108063.0        6      8983             11057   \n",
       "July       18298        135264.0        7     11320             13548   \n",
       "August     21488        157929.0        8     13088             16092   \n",
       "September  24061        178090.0        9     14759             17512   \n",
       "October    27146        199317.0       10     17114             20009   \n",
       "November   29501        215926.0       11     18244             21817   \n",
       "December   33987        250277.0       12     20555             24799   \n",
       "\n",
       "                  mb  \n",
       "month                 \n",
       "January     408364.0  \n",
       "February    956726.0  \n",
       "March      1814583.0  \n",
       "April      2436930.0  \n",
       "May        3531092.0  \n",
       "June       4186171.0  \n",
       "July       5037059.0  \n",
       "August     6007209.0  \n",
       "September  6457245.0  \n",
       "October    7403396.0  \n",
       "November   8002759.0  \n",
       "December   9147523.0  "
      ]
     },
     "execution_count": 230,
     "metadata": {},
     "output_type": "execute_result"
    }
   ],
   "source": [
    "data_per_month.columns = ['calls', 'calls_duration', 'n_month', 'messages', 'internet_session', 'mb']\n",
    "data_per_month.sort_values(by=['n_month'])"
   ]
  },
  {
   "cell_type": "markdown",
   "metadata": {},
   "source": [
    "### Ежемесячный доход с каждого пользователя"
   ]
  },
  {
   "cell_type": "markdown",
   "metadata": {},
   "source": [
    "<font color = green>Подсказка к заданию:</font> ежемесячный доход с каждого пользователя = вычитать свободный лимит из общего количества звонков, сообщений и интернет-трафика; умножить остаток на стоимость из тарифного плана; добавьте абонентскую плату, соответствующую тарифному плану.\n",
    "\n",
    "Поскольку ранее для идентификации я уже просматривал сводные таблицы:\n",
    "\n",
    "- по количеству совершенных звонков и минутам разговоров за месяц;\n",
    "- по количеству отправленных сообщений за месяц;\n",
    "- по объему потребляемого интернет-трафика по месяцам.\n",
    "\n",
    "Чтобы рассчитать доход, полученный оператором от каждого пользователя, мне нужно собрать все данные из 5 таблиц. Для начала я сгруппирую данные о звонках, сообщениях и потраченном интернет-трафике. После этого вы можете применить метод merge () и собрать все вместе."
   ]
  },
  {
   "cell_type": "code",
   "execution_count": 231,
   "metadata": {},
   "outputs": [],
   "source": [
    "user_calls = data_calls.groupby(['user_id', 'month'])\\\n",
    "                  .agg({'duration':'sum', 'id_calls':'count'})\\\n",
    "                  .reset_index()\\\n",
    "                  .rename(columns={'duration':'minutes','id_calls':'calls'})"
   ]
  },
  {
   "cell_type": "code",
   "execution_count": 232,
   "metadata": {},
   "outputs": [],
   "source": [
    "user_messages = data_messages.groupby(['user_id', 'month'])\\\n",
    "                        .agg({'id_messages':'count'})\\\n",
    "                        .reset_index()\\\n",
    "                        .rename(columns={'id_messages':'sms'})"
   ]
  },
  {
   "cell_type": "code",
   "execution_count": 233,
   "metadata": {},
   "outputs": [],
   "source": [
    "user_internet = data_internet.groupby(['user_id', 'month'])\\\n",
    "                        .agg({'mb_used':'sum'})\\\n",
    "                        .reset_index()"
   ]
  },
  {
   "cell_type": "code",
   "execution_count": 234,
   "metadata": {},
   "outputs": [],
   "source": [
    "df = user_calls.merge(user_messages, on=['user_id','month'], how='outer')\\\n",
    "    .merge(user_internet, on=['user_id','month'], how = 'outer')\\\n",
    "    .merge(data_users, on='user_id', how='left')\\\n",
    "    .merge(data_tariffs, on='tariff', how='left')"
   ]
  },
  {
   "cell_type": "code",
   "execution_count": 235,
   "metadata": {},
   "outputs": [
    {
     "data": {
      "text/html": [
       "<div>\n",
       "<style scoped>\n",
       "    .dataframe tbody tr th:only-of-type {\n",
       "        vertical-align: middle;\n",
       "    }\n",
       "\n",
       "    .dataframe tbody tr th {\n",
       "        vertical-align: top;\n",
       "    }\n",
       "\n",
       "    .dataframe thead th {\n",
       "        text-align: right;\n",
       "    }\n",
       "</style>\n",
       "<table border=\"1\" class=\"dataframe\">\n",
       "  <thead>\n",
       "    <tr style=\"text-align: right;\">\n",
       "      <th></th>\n",
       "      <th>user_id</th>\n",
       "      <th>month</th>\n",
       "      <th>minutes</th>\n",
       "      <th>calls</th>\n",
       "      <th>sms</th>\n",
       "      <th>mb_used</th>\n",
       "      <th>age</th>\n",
       "      <th>churn_date</th>\n",
       "      <th>city</th>\n",
       "      <th>first_name</th>\n",
       "      <th>last_name</th>\n",
       "      <th>reg_date</th>\n",
       "      <th>tariff</th>\n",
       "      <th>messages_included</th>\n",
       "      <th>mb_per_month_included</th>\n",
       "      <th>minutes_included</th>\n",
       "      <th>rub_monthly_fee</th>\n",
       "      <th>rub_per_gb</th>\n",
       "      <th>rub_per_message</th>\n",
       "      <th>rub_per_minute</th>\n",
       "    </tr>\n",
       "  </thead>\n",
       "  <tbody>\n",
       "    <tr>\n",
       "      <td>0</td>\n",
       "      <td>1000</td>\n",
       "      <td>August</td>\n",
       "      <td>418.0</td>\n",
       "      <td>52.0</td>\n",
       "      <td>81.0</td>\n",
       "      <td>14072.0</td>\n",
       "      <td>52</td>\n",
       "      <td>NaT</td>\n",
       "      <td>Краснодар</td>\n",
       "      <td>Рафаил</td>\n",
       "      <td>Верещагин</td>\n",
       "      <td>2018-05-25</td>\n",
       "      <td>ultra</td>\n",
       "      <td>1000</td>\n",
       "      <td>30720</td>\n",
       "      <td>3000</td>\n",
       "      <td>1950</td>\n",
       "      <td>150</td>\n",
       "      <td>1</td>\n",
       "      <td>1</td>\n",
       "    </tr>\n",
       "    <tr>\n",
       "      <td>1</td>\n",
       "      <td>1000</td>\n",
       "      <td>December</td>\n",
       "      <td>341.0</td>\n",
       "      <td>46.0</td>\n",
       "      <td>70.0</td>\n",
       "      <td>9829.0</td>\n",
       "      <td>52</td>\n",
       "      <td>NaT</td>\n",
       "      <td>Краснодар</td>\n",
       "      <td>Рафаил</td>\n",
       "      <td>Верещагин</td>\n",
       "      <td>2018-05-25</td>\n",
       "      <td>ultra</td>\n",
       "      <td>1000</td>\n",
       "      <td>30720</td>\n",
       "      <td>3000</td>\n",
       "      <td>1950</td>\n",
       "      <td>150</td>\n",
       "      <td>1</td>\n",
       "      <td>1</td>\n",
       "    </tr>\n",
       "    <tr>\n",
       "      <td>2</td>\n",
       "      <td>1000</td>\n",
       "      <td>July</td>\n",
       "      <td>346.0</td>\n",
       "      <td>47.0</td>\n",
       "      <td>75.0</td>\n",
       "      <td>14017.0</td>\n",
       "      <td>52</td>\n",
       "      <td>NaT</td>\n",
       "      <td>Краснодар</td>\n",
       "      <td>Рафаил</td>\n",
       "      <td>Верещагин</td>\n",
       "      <td>2018-05-25</td>\n",
       "      <td>ultra</td>\n",
       "      <td>1000</td>\n",
       "      <td>30720</td>\n",
       "      <td>3000</td>\n",
       "      <td>1950</td>\n",
       "      <td>150</td>\n",
       "      <td>1</td>\n",
       "      <td>1</td>\n",
       "    </tr>\n",
       "    <tr>\n",
       "      <td>3</td>\n",
       "      <td>1000</td>\n",
       "      <td>June</td>\n",
       "      <td>187.0</td>\n",
       "      <td>43.0</td>\n",
       "      <td>60.0</td>\n",
       "      <td>23262.0</td>\n",
       "      <td>52</td>\n",
       "      <td>NaT</td>\n",
       "      <td>Краснодар</td>\n",
       "      <td>Рафаил</td>\n",
       "      <td>Верещагин</td>\n",
       "      <td>2018-05-25</td>\n",
       "      <td>ultra</td>\n",
       "      <td>1000</td>\n",
       "      <td>30720</td>\n",
       "      <td>3000</td>\n",
       "      <td>1950</td>\n",
       "      <td>150</td>\n",
       "      <td>1</td>\n",
       "      <td>1</td>\n",
       "    </tr>\n",
       "    <tr>\n",
       "      <td>4</td>\n",
       "      <td>1000</td>\n",
       "      <td>May</td>\n",
       "      <td>164.0</td>\n",
       "      <td>22.0</td>\n",
       "      <td>22.0</td>\n",
       "      <td>2257.0</td>\n",
       "      <td>52</td>\n",
       "      <td>NaT</td>\n",
       "      <td>Краснодар</td>\n",
       "      <td>Рафаил</td>\n",
       "      <td>Верещагин</td>\n",
       "      <td>2018-05-25</td>\n",
       "      <td>ultra</td>\n",
       "      <td>1000</td>\n",
       "      <td>30720</td>\n",
       "      <td>3000</td>\n",
       "      <td>1950</td>\n",
       "      <td>150</td>\n",
       "      <td>1</td>\n",
       "      <td>1</td>\n",
       "    </tr>\n",
       "  </tbody>\n",
       "</table>\n",
       "</div>"
      ],
      "text/plain": [
       "   user_id     month  minutes  calls   sms  mb_used  age churn_date  \\\n",
       "0     1000    August    418.0   52.0  81.0  14072.0   52        NaT   \n",
       "1     1000  December    341.0   46.0  70.0   9829.0   52        NaT   \n",
       "2     1000      July    346.0   47.0  75.0  14017.0   52        NaT   \n",
       "3     1000      June    187.0   43.0  60.0  23262.0   52        NaT   \n",
       "4     1000       May    164.0   22.0  22.0   2257.0   52        NaT   \n",
       "\n",
       "        city first_name  last_name   reg_date tariff  messages_included  \\\n",
       "0  Краснодар     Рафаил  Верещагин 2018-05-25  ultra               1000   \n",
       "1  Краснодар     Рафаил  Верещагин 2018-05-25  ultra               1000   \n",
       "2  Краснодар     Рафаил  Верещагин 2018-05-25  ultra               1000   \n",
       "3  Краснодар     Рафаил  Верещагин 2018-05-25  ultra               1000   \n",
       "4  Краснодар     Рафаил  Верещагин 2018-05-25  ultra               1000   \n",
       "\n",
       "   mb_per_month_included  minutes_included  rub_monthly_fee  rub_per_gb  \\\n",
       "0                  30720              3000             1950         150   \n",
       "1                  30720              3000             1950         150   \n",
       "2                  30720              3000             1950         150   \n",
       "3                  30720              3000             1950         150   \n",
       "4                  30720              3000             1950         150   \n",
       "\n",
       "   rub_per_message  rub_per_minute  \n",
       "0                1               1  \n",
       "1                1               1  \n",
       "2                1               1  \n",
       "3                1               1  \n",
       "4                1               1  "
      ]
     },
     "execution_count": 235,
     "metadata": {},
     "output_type": "execute_result"
    }
   ],
   "source": [
    "df.head()"
   ]
  },
  {
   "cell_type": "code",
   "execution_count": 236,
   "metadata": {},
   "outputs": [
    {
     "name": "stdout",
     "output_type": "stream",
     "text": [
      "<class 'pandas.core.frame.DataFrame'>\n",
      "Int64Index: 3214 entries, 0 to 3213\n",
      "Data columns (total 20 columns):\n",
      "user_id                  3214 non-null int64\n",
      "month                    3214 non-null object\n",
      "minutes                  3174 non-null float64\n",
      "calls                    3174 non-null float64\n",
      "sms                      2717 non-null float64\n",
      "mb_used                  3203 non-null float64\n",
      "age                      3214 non-null int64\n",
      "churn_date               187 non-null datetime64[ns]\n",
      "city                     3214 non-null object\n",
      "first_name               3214 non-null object\n",
      "last_name                3214 non-null object\n",
      "reg_date                 3214 non-null datetime64[ns]\n",
      "tariff                   3214 non-null object\n",
      "messages_included        3214 non-null int64\n",
      "mb_per_month_included    3214 non-null int64\n",
      "minutes_included         3214 non-null int64\n",
      "rub_monthly_fee          3214 non-null int64\n",
      "rub_per_gb               3214 non-null int64\n",
      "rub_per_message          3214 non-null int64\n",
      "rub_per_minute           3214 non-null int64\n",
      "dtypes: datetime64[ns](2), float64(4), int64(9), object(5)\n",
      "memory usage: 527.3+ KB\n"
     ]
    }
   ],
   "source": [
    "df.info()"
   ]
  },
  {
   "cell_type": "markdown",
   "metadata": {},
   "source": [
    "В итоговой таблице нам нужно проверить наличие пробелов и дубликатов."
   ]
  },
  {
   "cell_type": "code",
   "execution_count": 237,
   "metadata": {},
   "outputs": [
    {
     "data": {
      "text/plain": [
       "0"
      ]
     },
     "execution_count": 237,
     "metadata": {},
     "output_type": "execute_result"
    }
   ],
   "source": [
    "df.duplicated().sum()"
   ]
  },
  {
   "cell_type": "code",
   "execution_count": 238,
   "metadata": {},
   "outputs": [
    {
     "data": {
      "text/plain": [
       "user_id                     0\n",
       "month                       0\n",
       "minutes                    40\n",
       "calls                      40\n",
       "sms                       497\n",
       "mb_used                    11\n",
       "age                         0\n",
       "churn_date               3027\n",
       "city                        0\n",
       "first_name                  0\n",
       "last_name                   0\n",
       "reg_date                    0\n",
       "tariff                      0\n",
       "messages_included           0\n",
       "mb_per_month_included       0\n",
       "minutes_included            0\n",
       "rub_monthly_fee             0\n",
       "rub_per_gb                  0\n",
       "rub_per_message             0\n",
       "rub_per_minute              0\n",
       "dtype: int64"
      ]
     },
     "execution_count": 238,
     "metadata": {},
     "output_type": "execute_result"
    }
   ],
   "source": [
    "df.isna().sum()"
   ]
  },
  {
   "cell_type": "markdown",
   "metadata": {},
   "source": [
    "Новая таблица содержит пробелы в 4 столбцах. Количество пробелов невелико, поэтому я думаю, что могу заменить все пробелы нулевыми значениями."
   ]
  },
  {
   "cell_type": "code",
   "execution_count": 239,
   "metadata": {},
   "outputs": [],
   "source": [
    "df['minutes'] = df['minutes'].fillna(0)\n",
    "df['calls'] = df['calls'].fillna(0)\n",
    "df['sms'] = df['sms'].fillna(0)\n",
    "df['mb_used'] = df['mb_used'].fillna(0)"
   ]
  },
  {
   "cell_type": "markdown",
   "metadata": {},
   "source": [
    "<font color = green> Подсказка из квеста:\n",
    "\n",
    "- ежемесячный доход с каждого пользователя = вычитать бесплатный лимит из общего количества звонков, сообщений и интернет-трафика;\n",
    "- умножить остаток на стоимость из тарифного плана;\n",
    "- добавьте абонентскую плату, соответствующую тарифному плану.</font>\n",
    "\n",
    "Чтобы рассчитать ежемесячный доход от каждого пользователя, мне нужно выяснить разницу между количеством услуг, предоставляемых в тарифе, и использованием пользователей. Для этого я добавляю три столбца в таблицу. В этих столбцах я узнаю, как пользователи используют предоставляемый пакет услуг. То есть из ограничений, предусмотренных в тарифе, я вычитаю потраченное количество минут, смс и мегабайт."
   ]
  },
  {
   "cell_type": "code",
   "execution_count": 240,
   "metadata": {},
   "outputs": [],
   "source": [
    "df['minutes_over']  = df['minutes'] - df['minutes_included']\n",
    "df['messages_over'] = df['sms'] - df['messages_included']\n",
    "df['mb_used_over']  = df['mb_used'] - df['mb_per_month_included']"
   ]
  },
  {
   "cell_type": "code",
   "execution_count": 241,
   "metadata": {},
   "outputs": [
    {
     "data": {
      "text/html": [
       "<div>\n",
       "<style scoped>\n",
       "    .dataframe tbody tr th:only-of-type {\n",
       "        vertical-align: middle;\n",
       "    }\n",
       "\n",
       "    .dataframe tbody tr th {\n",
       "        vertical-align: top;\n",
       "    }\n",
       "\n",
       "    .dataframe thead th {\n",
       "        text-align: right;\n",
       "    }\n",
       "</style>\n",
       "<table border=\"1\" class=\"dataframe\">\n",
       "  <thead>\n",
       "    <tr style=\"text-align: right;\">\n",
       "      <th></th>\n",
       "      <th>user_id</th>\n",
       "      <th>month</th>\n",
       "      <th>minutes</th>\n",
       "      <th>calls</th>\n",
       "      <th>sms</th>\n",
       "      <th>mb_used</th>\n",
       "      <th>age</th>\n",
       "      <th>churn_date</th>\n",
       "      <th>city</th>\n",
       "      <th>first_name</th>\n",
       "      <th>...</th>\n",
       "      <th>messages_included</th>\n",
       "      <th>mb_per_month_included</th>\n",
       "      <th>minutes_included</th>\n",
       "      <th>rub_monthly_fee</th>\n",
       "      <th>rub_per_gb</th>\n",
       "      <th>rub_per_message</th>\n",
       "      <th>rub_per_minute</th>\n",
       "      <th>minutes_over</th>\n",
       "      <th>messages_over</th>\n",
       "      <th>mb_used_over</th>\n",
       "    </tr>\n",
       "  </thead>\n",
       "  <tbody>\n",
       "    <tr>\n",
       "      <td>0</td>\n",
       "      <td>1000</td>\n",
       "      <td>August</td>\n",
       "      <td>418.0</td>\n",
       "      <td>52.0</td>\n",
       "      <td>81.0</td>\n",
       "      <td>14072.0</td>\n",
       "      <td>52</td>\n",
       "      <td>NaT</td>\n",
       "      <td>Краснодар</td>\n",
       "      <td>Рафаил</td>\n",
       "      <td>...</td>\n",
       "      <td>1000</td>\n",
       "      <td>30720</td>\n",
       "      <td>3000</td>\n",
       "      <td>1950</td>\n",
       "      <td>150</td>\n",
       "      <td>1</td>\n",
       "      <td>1</td>\n",
       "      <td>-2582.0</td>\n",
       "      <td>-919.0</td>\n",
       "      <td>-16648.0</td>\n",
       "    </tr>\n",
       "    <tr>\n",
       "      <td>1</td>\n",
       "      <td>1000</td>\n",
       "      <td>December</td>\n",
       "      <td>341.0</td>\n",
       "      <td>46.0</td>\n",
       "      <td>70.0</td>\n",
       "      <td>9829.0</td>\n",
       "      <td>52</td>\n",
       "      <td>NaT</td>\n",
       "      <td>Краснодар</td>\n",
       "      <td>Рафаил</td>\n",
       "      <td>...</td>\n",
       "      <td>1000</td>\n",
       "      <td>30720</td>\n",
       "      <td>3000</td>\n",
       "      <td>1950</td>\n",
       "      <td>150</td>\n",
       "      <td>1</td>\n",
       "      <td>1</td>\n",
       "      <td>-2659.0</td>\n",
       "      <td>-930.0</td>\n",
       "      <td>-20891.0</td>\n",
       "    </tr>\n",
       "    <tr>\n",
       "      <td>2</td>\n",
       "      <td>1000</td>\n",
       "      <td>July</td>\n",
       "      <td>346.0</td>\n",
       "      <td>47.0</td>\n",
       "      <td>75.0</td>\n",
       "      <td>14017.0</td>\n",
       "      <td>52</td>\n",
       "      <td>NaT</td>\n",
       "      <td>Краснодар</td>\n",
       "      <td>Рафаил</td>\n",
       "      <td>...</td>\n",
       "      <td>1000</td>\n",
       "      <td>30720</td>\n",
       "      <td>3000</td>\n",
       "      <td>1950</td>\n",
       "      <td>150</td>\n",
       "      <td>1</td>\n",
       "      <td>1</td>\n",
       "      <td>-2654.0</td>\n",
       "      <td>-925.0</td>\n",
       "      <td>-16703.0</td>\n",
       "    </tr>\n",
       "    <tr>\n",
       "      <td>3</td>\n",
       "      <td>1000</td>\n",
       "      <td>June</td>\n",
       "      <td>187.0</td>\n",
       "      <td>43.0</td>\n",
       "      <td>60.0</td>\n",
       "      <td>23262.0</td>\n",
       "      <td>52</td>\n",
       "      <td>NaT</td>\n",
       "      <td>Краснодар</td>\n",
       "      <td>Рафаил</td>\n",
       "      <td>...</td>\n",
       "      <td>1000</td>\n",
       "      <td>30720</td>\n",
       "      <td>3000</td>\n",
       "      <td>1950</td>\n",
       "      <td>150</td>\n",
       "      <td>1</td>\n",
       "      <td>1</td>\n",
       "      <td>-2813.0</td>\n",
       "      <td>-940.0</td>\n",
       "      <td>-7458.0</td>\n",
       "    </tr>\n",
       "    <tr>\n",
       "      <td>4</td>\n",
       "      <td>1000</td>\n",
       "      <td>May</td>\n",
       "      <td>164.0</td>\n",
       "      <td>22.0</td>\n",
       "      <td>22.0</td>\n",
       "      <td>2257.0</td>\n",
       "      <td>52</td>\n",
       "      <td>NaT</td>\n",
       "      <td>Краснодар</td>\n",
       "      <td>Рафаил</td>\n",
       "      <td>...</td>\n",
       "      <td>1000</td>\n",
       "      <td>30720</td>\n",
       "      <td>3000</td>\n",
       "      <td>1950</td>\n",
       "      <td>150</td>\n",
       "      <td>1</td>\n",
       "      <td>1</td>\n",
       "      <td>-2836.0</td>\n",
       "      <td>-978.0</td>\n",
       "      <td>-28463.0</td>\n",
       "    </tr>\n",
       "  </tbody>\n",
       "</table>\n",
       "<p>5 rows × 23 columns</p>\n",
       "</div>"
      ],
      "text/plain": [
       "   user_id     month  minutes  calls   sms  mb_used  age churn_date  \\\n",
       "0     1000    August    418.0   52.0  81.0  14072.0   52        NaT   \n",
       "1     1000  December    341.0   46.0  70.0   9829.0   52        NaT   \n",
       "2     1000      July    346.0   47.0  75.0  14017.0   52        NaT   \n",
       "3     1000      June    187.0   43.0  60.0  23262.0   52        NaT   \n",
       "4     1000       May    164.0   22.0  22.0   2257.0   52        NaT   \n",
       "\n",
       "        city first_name  ... messages_included mb_per_month_included  \\\n",
       "0  Краснодар     Рафаил  ...              1000                 30720   \n",
       "1  Краснодар     Рафаил  ...              1000                 30720   \n",
       "2  Краснодар     Рафаил  ...              1000                 30720   \n",
       "3  Краснодар     Рафаил  ...              1000                 30720   \n",
       "4  Краснодар     Рафаил  ...              1000                 30720   \n",
       "\n",
       "  minutes_included  rub_monthly_fee  rub_per_gb  rub_per_message  \\\n",
       "0             3000             1950         150                1   \n",
       "1             3000             1950         150                1   \n",
       "2             3000             1950         150                1   \n",
       "3             3000             1950         150                1   \n",
       "4             3000             1950         150                1   \n",
       "\n",
       "   rub_per_minute  minutes_over  messages_over  mb_used_over  \n",
       "0               1       -2582.0         -919.0      -16648.0  \n",
       "1               1       -2659.0         -930.0      -20891.0  \n",
       "2               1       -2654.0         -925.0      -16703.0  \n",
       "3               1       -2813.0         -940.0       -7458.0  \n",
       "4               1       -2836.0         -978.0      -28463.0  \n",
       "\n",
       "[5 rows x 23 columns]"
      ]
     },
     "execution_count": 241,
     "metadata": {},
     "output_type": "execute_result"
    }
   ],
   "source": [
    "df.head()"
   ]
  },
  {
   "cell_type": "markdown",
   "metadata": {},
   "source": [
    "В столбцах minutes_over, messages_over, mb_used_over в таблице приведены данные об отклонениях от тарифных ограничений. Отрицательные значения в столбцах указывают, что у пользователя есть баланс в рамках тарифа. Положительные значения указывают на перерасход средств."
   ]
  },
  {
   "cell_type": "code",
   "execution_count": 242,
   "metadata": {},
   "outputs": [
    {
     "data": {
      "text/plain": [
       "Index(['user_id', 'month', 'minutes', 'calls', 'sms', 'mb_used', 'age',\n",
       "       'churn_date', 'city', 'first_name', 'last_name', 'reg_date', 'tariff',\n",
       "       'messages_included', 'mb_per_month_included', 'minutes_included',\n",
       "       'rub_monthly_fee', 'rub_per_gb', 'rub_per_message', 'rub_per_minute',\n",
       "       'minutes_over', 'messages_over', 'mb_used_over'],\n",
       "      dtype='object')"
      ]
     },
     "execution_count": 242,
     "metadata": {},
     "output_type": "execute_result"
    }
   ],
   "source": [
    "df.columns"
   ]
  },
  {
   "cell_type": "markdown",
   "metadata": {},
   "source": [
    "Теперь вам нужно:\n",
    "\n",
    "- остаток от тарифного плана (minutes_over), умноженный на значение из тарифного плана (rub_per_minute);\n",
    "- и затем добавьте ежемесячную плату, соответствующую тарифному плану.\n",
    "\n",
    "Поскольку в тарифных планах стоимость дополнительного гигабайта интернет-трафика сверх тарифного пакета указывается в гигабайтах. Необходимо разделить количество оставшихся мегабайт на 1024, так как 1 гигабайт = 1024 мегабайта."
   ]
  },
  {
   "cell_type": "code",
   "execution_count": 243,
   "metadata": {},
   "outputs": [],
   "source": [
    "def month_revenue(row):\n",
    "    \n",
    "    minutes_price = 0\n",
    "    messages_price = 0\n",
    "    mb_used_price = 0\n",
    "    \n",
    "    if row['minutes_over'] > 0:\n",
    "        minutes_price = row['minutes_over'] * row['rub_per_minute']\n",
    "\n",
    "    if row['messages_over'] > 0:\n",
    "        messages_price = row['messages_over'] * row['rub_per_message']\n",
    "\n",
    "    if row['mb_used_over'] > 0:\n",
    "        mb_used_price = (row['mb_used_over'] / 1024) * row['rub_per_gb']\n",
    "    \n",
    "    return minutes_price + messages_price + mb_used_price"
   ]
  },
  {
   "cell_type": "markdown",
   "metadata": {},
   "source": [
    "Мы добавляем в нашу таблицу два столбца, в которых будет переплата за месяц и общая сумма за месяц."
   ]
  },
  {
   "cell_type": "code",
   "execution_count": 244,
   "metadata": {},
   "outputs": [],
   "source": [
    "df['rub_monthly_fee_over'] = df.apply(month_revenue, axis=1)\n",
    "df['rub_monthly_fee_total'] = df['rub_monthly_fee'] + df['rub_monthly_fee_over']"
   ]
  },
  {
   "cell_type": "markdown",
   "metadata": {},
   "source": [
    "Для удобства просмотра таблицы мы убираем лишние столбцы и оставляем только те, которые нам нужны для анализа."
   ]
  },
  {
   "cell_type": "code",
   "execution_count": 245,
   "metadata": {},
   "outputs": [],
   "source": [
    "df = pd.DataFrame(\n",
    "    df[['month', 'tariff', 'user_id', 'city',\n",
    "        'calls', 'minutes', 'sms', 'mb_used',\n",
    "        'minutes_over', 'messages_over', 'mb_used_over',\n",
    "        'rub_monthly_fee_over', 'rub_monthly_fee_total']]\n",
    ")"
   ]
  },
  {
   "cell_type": "code",
   "execution_count": 246,
   "metadata": {},
   "outputs": [
    {
     "data": {
      "text/html": [
       "<div>\n",
       "<style scoped>\n",
       "    .dataframe tbody tr th:only-of-type {\n",
       "        vertical-align: middle;\n",
       "    }\n",
       "\n",
       "    .dataframe tbody tr th {\n",
       "        vertical-align: top;\n",
       "    }\n",
       "\n",
       "    .dataframe thead th {\n",
       "        text-align: right;\n",
       "    }\n",
       "</style>\n",
       "<table border=\"1\" class=\"dataframe\">\n",
       "  <thead>\n",
       "    <tr style=\"text-align: right;\">\n",
       "      <th></th>\n",
       "      <th>month</th>\n",
       "      <th>tariff</th>\n",
       "      <th>user_id</th>\n",
       "      <th>city</th>\n",
       "      <th>calls</th>\n",
       "      <th>minutes</th>\n",
       "      <th>sms</th>\n",
       "      <th>mb_used</th>\n",
       "      <th>minutes_over</th>\n",
       "      <th>messages_over</th>\n",
       "      <th>mb_used_over</th>\n",
       "      <th>rub_monthly_fee_over</th>\n",
       "      <th>rub_monthly_fee_total</th>\n",
       "    </tr>\n",
       "  </thead>\n",
       "  <tbody>\n",
       "    <tr>\n",
       "      <td>3209</td>\n",
       "      <td>December</td>\n",
       "      <td>smart</td>\n",
       "      <td>1489</td>\n",
       "      <td>Санкт-Петербург</td>\n",
       "      <td>0.0</td>\n",
       "      <td>0.0</td>\n",
       "      <td>35.0</td>\n",
       "      <td>17349.0</td>\n",
       "      <td>-500.0</td>\n",
       "      <td>-15.0</td>\n",
       "      <td>1989.0</td>\n",
       "      <td>388.476562</td>\n",
       "      <td>938.476562</td>\n",
       "    </tr>\n",
       "    <tr>\n",
       "      <td>3210</td>\n",
       "      <td>November</td>\n",
       "      <td>smart</td>\n",
       "      <td>1489</td>\n",
       "      <td>Санкт-Петербург</td>\n",
       "      <td>0.0</td>\n",
       "      <td>0.0</td>\n",
       "      <td>20.0</td>\n",
       "      <td>17526.0</td>\n",
       "      <td>-500.0</td>\n",
       "      <td>-30.0</td>\n",
       "      <td>2166.0</td>\n",
       "      <td>423.046875</td>\n",
       "      <td>973.046875</td>\n",
       "    </tr>\n",
       "    <tr>\n",
       "      <td>3211</td>\n",
       "      <td>October</td>\n",
       "      <td>smart</td>\n",
       "      <td>1489</td>\n",
       "      <td>Санкт-Петербург</td>\n",
       "      <td>0.0</td>\n",
       "      <td>0.0</td>\n",
       "      <td>21.0</td>\n",
       "      <td>19599.0</td>\n",
       "      <td>-500.0</td>\n",
       "      <td>-29.0</td>\n",
       "      <td>4239.0</td>\n",
       "      <td>827.929688</td>\n",
       "      <td>1377.929688</td>\n",
       "    </tr>\n",
       "    <tr>\n",
       "      <td>3212</td>\n",
       "      <td>September</td>\n",
       "      <td>smart</td>\n",
       "      <td>1489</td>\n",
       "      <td>Санкт-Петербург</td>\n",
       "      <td>0.0</td>\n",
       "      <td>0.0</td>\n",
       "      <td>32.0</td>\n",
       "      <td>17246.0</td>\n",
       "      <td>-500.0</td>\n",
       "      <td>-18.0</td>\n",
       "      <td>1886.0</td>\n",
       "      <td>368.359375</td>\n",
       "      <td>918.359375</td>\n",
       "    </tr>\n",
       "    <tr>\n",
       "      <td>3213</td>\n",
       "      <td>April</td>\n",
       "      <td>ultra</td>\n",
       "      <td>1476</td>\n",
       "      <td>Москва</td>\n",
       "      <td>0.0</td>\n",
       "      <td>0.0</td>\n",
       "      <td>0.0</td>\n",
       "      <td>531.0</td>\n",
       "      <td>-3000.0</td>\n",
       "      <td>-1000.0</td>\n",
       "      <td>-30189.0</td>\n",
       "      <td>0.000000</td>\n",
       "      <td>1950.000000</td>\n",
       "    </tr>\n",
       "  </tbody>\n",
       "</table>\n",
       "</div>"
      ],
      "text/plain": [
       "          month tariff  user_id             city  calls  minutes   sms  \\\n",
       "3209   December  smart     1489  Санкт-Петербург    0.0      0.0  35.0   \n",
       "3210   November  smart     1489  Санкт-Петербург    0.0      0.0  20.0   \n",
       "3211    October  smart     1489  Санкт-Петербург    0.0      0.0  21.0   \n",
       "3212  September  smart     1489  Санкт-Петербург    0.0      0.0  32.0   \n",
       "3213      April  ultra     1476           Москва    0.0      0.0   0.0   \n",
       "\n",
       "      mb_used  minutes_over  messages_over  mb_used_over  \\\n",
       "3209  17349.0        -500.0          -15.0        1989.0   \n",
       "3210  17526.0        -500.0          -30.0        2166.0   \n",
       "3211  19599.0        -500.0          -29.0        4239.0   \n",
       "3212  17246.0        -500.0          -18.0        1886.0   \n",
       "3213    531.0       -3000.0        -1000.0      -30189.0   \n",
       "\n",
       "      rub_monthly_fee_over  rub_monthly_fee_total  \n",
       "3209            388.476562             938.476562  \n",
       "3210            423.046875             973.046875  \n",
       "3211            827.929688            1377.929688  \n",
       "3212            368.359375             918.359375  \n",
       "3213              0.000000            1950.000000  "
      ]
     },
     "execution_count": 246,
     "metadata": {},
     "output_type": "execute_result"
    }
   ],
   "source": [
    "df.tail()"
   ]
  },
  {
   "cell_type": "markdown",
   "metadata": {},
   "source": [
    "На основании полученной таблицы мы можем увидеть объем проанализированных данных.\n",
    "Нас интересуют пользователи ультра и смарт-тарифов."
   ]
  },
  {
   "cell_type": "code",
   "execution_count": 247,
   "metadata": {},
   "outputs": [],
   "source": [
    "tariff_smart = df.query(\"tariff == 'smart'\")"
   ]
  },
  {
   "cell_type": "code",
   "execution_count": 248,
   "metadata": {},
   "outputs": [
    {
     "data": {
      "text/plain": [
       "350"
      ]
     },
     "execution_count": 248,
     "metadata": {},
     "output_type": "execute_result"
    }
   ],
   "source": [
    "len(tariff_smart.groupby('user_id'))"
   ]
  },
  {
   "cell_type": "code",
   "execution_count": 249,
   "metadata": {},
   "outputs": [],
   "source": [
    "tariff_ultra = df.query(\"tariff == 'ultra'\")"
   ]
  },
  {
   "cell_type": "code",
   "execution_count": 250,
   "metadata": {},
   "outputs": [
    {
     "data": {
      "text/plain": [
       "148"
      ]
     },
     "execution_count": 250,
     "metadata": {},
     "output_type": "execute_result"
    }
   ],
   "source": [
    "len(tariff_ultra.groupby('user_id'))"
   ]
  },
  {
   "cell_type": "markdown",
   "metadata": {},
   "source": [
    "В итоговой таблице после наших конверсий мы видим, что есть пользователи, которые превысили тарифные лимиты на потребление трафика, звонков и смс. Но есть и те, кто не пользовался услугами, предоставляемыми по тарифу в полном объеме.\n",
    "\n",
    "В общей таблице пользователей тарифа Smart 350, пользователей тарифа Ultra 148. Я потерял информацию о расходах двух пользователей, до сих пор не понимаю, как это произошло."
   ]
  },
  {
   "cell_type": "markdown",
   "metadata": {},
   "source": [
    "# Проанализируйте данные"
   ]
  },
  {
   "cell_type": "markdown",
   "metadata": {},
   "source": [
    "## Описание поведения клиента оператора на основе выборки"
   ]
  },
  {
   "cell_type": "markdown",
   "metadata": {},
   "source": [
    "#### Сводная таблица тарифов по месяцам"
   ]
  },
  {
   "cell_type": "code",
   "execution_count": 251,
   "metadata": {},
   "outputs": [],
   "source": [
    "values = ['minutes', 'sms', 'mb_used', 'rub_monthly_fee_over', 'rub_monthly_fee_total']"
   ]
  },
  {
   "cell_type": "code",
   "execution_count": 252,
   "metadata": {},
   "outputs": [],
   "source": [
    "tariff_monthly_costs = df.pivot_table(\n",
    "    index=['tariff', 'month'],\n",
    "    values=values\n",
    ")"
   ]
  },
  {
   "cell_type": "code",
   "execution_count": 253,
   "metadata": {},
   "outputs": [
    {
     "data": {
      "text/html": [
       "<div>\n",
       "<style scoped>\n",
       "    .dataframe tbody tr th:only-of-type {\n",
       "        vertical-align: middle;\n",
       "    }\n",
       "\n",
       "    .dataframe tbody tr th {\n",
       "        vertical-align: top;\n",
       "    }\n",
       "\n",
       "    .dataframe thead th {\n",
       "        text-align: right;\n",
       "    }\n",
       "</style>\n",
       "<table border=\"1\" class=\"dataframe\">\n",
       "  <thead>\n",
       "    <tr style=\"text-align: right;\">\n",
       "      <th></th>\n",
       "      <th>mb_used</th>\n",
       "      <th>minutes</th>\n",
       "      <th>rub_monthly_fee_over</th>\n",
       "      <th>rub_monthly_fee_total</th>\n",
       "      <th>sms</th>\n",
       "    </tr>\n",
       "    <tr>\n",
       "      <th>month</th>\n",
       "      <th></th>\n",
       "      <th></th>\n",
       "      <th></th>\n",
       "      <th></th>\n",
       "      <th></th>\n",
       "    </tr>\n",
       "  </thead>\n",
       "  <tbody>\n",
       "    <tr>\n",
       "      <td>April</td>\n",
       "      <td>13486.080357</td>\n",
       "      <td>377.000000</td>\n",
       "      <td>384.781878</td>\n",
       "      <td>934.781878</td>\n",
       "      <td>30.741071</td>\n",
       "    </tr>\n",
       "    <tr>\n",
       "      <td>August</td>\n",
       "      <td>16640.212766</td>\n",
       "      <td>433.191489</td>\n",
       "      <td>726.647008</td>\n",
       "      <td>1276.647008</td>\n",
       "      <td>33.638298</td>\n",
       "    </tr>\n",
       "    <tr>\n",
       "      <td>December</td>\n",
       "      <td>18145.824926</td>\n",
       "      <td>491.418398</td>\n",
       "      <td>979.434927</td>\n",
       "      <td>1529.434927</td>\n",
       "      <td>35.994065</td>\n",
       "    </tr>\n",
       "    <tr>\n",
       "      <td>February</td>\n",
       "      <td>11617.344828</td>\n",
       "      <td>306.310345</td>\n",
       "      <td>262.159752</td>\n",
       "      <td>812.159752</td>\n",
       "      <td>24.086207</td>\n",
       "    </tr>\n",
       "    <tr>\n",
       "      <td>January</td>\n",
       "      <td>8528.588235</td>\n",
       "      <td>209.647059</td>\n",
       "      <td>154.895910</td>\n",
       "      <td>704.895910</td>\n",
       "      <td>18.235294</td>\n",
       "    </tr>\n",
       "    <tr>\n",
       "      <td>July</td>\n",
       "      <td>15771.398010</td>\n",
       "      <td>419.288557</td>\n",
       "      <td>635.629392</td>\n",
       "      <td>1185.629392</td>\n",
       "      <td>33.751244</td>\n",
       "    </tr>\n",
       "    <tr>\n",
       "      <td>June</td>\n",
       "      <td>15822.445122</td>\n",
       "      <td>406.701220</td>\n",
       "      <td>614.601038</td>\n",
       "      <td>1164.601038</td>\n",
       "      <td>33.402439</td>\n",
       "    </tr>\n",
       "    <tr>\n",
       "      <td>March</td>\n",
       "      <td>15131.207792</td>\n",
       "      <td>400.532468</td>\n",
       "      <td>583.213271</td>\n",
       "      <td>1133.213271</td>\n",
       "      <td>31.857143</td>\n",
       "    </tr>\n",
       "    <tr>\n",
       "      <td>May</td>\n",
       "      <td>15832.751773</td>\n",
       "      <td>398.404255</td>\n",
       "      <td>611.004377</td>\n",
       "      <td>1161.004377</td>\n",
       "      <td>33.773050</td>\n",
       "    </tr>\n",
       "    <tr>\n",
       "      <td>November</td>\n",
       "      <td>16925.962025</td>\n",
       "      <td>447.620253</td>\n",
       "      <td>754.095703</td>\n",
       "      <td>1304.095703</td>\n",
       "      <td>34.075949</td>\n",
       "    </tr>\n",
       "    <tr>\n",
       "      <td>October</td>\n",
       "      <td>16786.853741</td>\n",
       "      <td>438.295918</td>\n",
       "      <td>773.870669</td>\n",
       "      <td>1323.870669</td>\n",
       "      <td>33.765306</td>\n",
       "    </tr>\n",
       "    <tr>\n",
       "      <td>September</td>\n",
       "      <td>16332.615385</td>\n",
       "      <td>440.080769</td>\n",
       "      <td>667.753456</td>\n",
       "      <td>1217.753456</td>\n",
       "      <td>33.638462</td>\n",
       "    </tr>\n",
       "  </tbody>\n",
       "</table>\n",
       "</div>"
      ],
      "text/plain": [
       "                mb_used     minutes  rub_monthly_fee_over  \\\n",
       "month                                                       \n",
       "April      13486.080357  377.000000            384.781878   \n",
       "August     16640.212766  433.191489            726.647008   \n",
       "December   18145.824926  491.418398            979.434927   \n",
       "February   11617.344828  306.310345            262.159752   \n",
       "January     8528.588235  209.647059            154.895910   \n",
       "July       15771.398010  419.288557            635.629392   \n",
       "June       15822.445122  406.701220            614.601038   \n",
       "March      15131.207792  400.532468            583.213271   \n",
       "May        15832.751773  398.404255            611.004377   \n",
       "November   16925.962025  447.620253            754.095703   \n",
       "October    16786.853741  438.295918            773.870669   \n",
       "September  16332.615385  440.080769            667.753456   \n",
       "\n",
       "           rub_monthly_fee_total        sms  \n",
       "month                                        \n",
       "April                 934.781878  30.741071  \n",
       "August               1276.647008  33.638298  \n",
       "December             1529.434927  35.994065  \n",
       "February              812.159752  24.086207  \n",
       "January               704.895910  18.235294  \n",
       "July                 1185.629392  33.751244  \n",
       "June                 1164.601038  33.402439  \n",
       "March                1133.213271  31.857143  \n",
       "May                  1161.004377  33.773050  \n",
       "November             1304.095703  34.075949  \n",
       "October              1323.870669  33.765306  \n",
       "September            1217.753456  33.638462  "
      ]
     },
     "execution_count": 253,
     "metadata": {},
     "output_type": "execute_result"
    }
   ],
   "source": [
    "smart_monthly_costs = tariff_monthly_costs.loc['smart']\n",
    "smart_monthly_costs"
   ]
  },
  {
   "cell_type": "code",
   "execution_count": 254,
   "metadata": {},
   "outputs": [
    {
     "data": {
      "text/html": [
       "<div>\n",
       "<style scoped>\n",
       "    .dataframe tbody tr th:only-of-type {\n",
       "        vertical-align: middle;\n",
       "    }\n",
       "\n",
       "    .dataframe tbody tr th {\n",
       "        vertical-align: top;\n",
       "    }\n",
       "\n",
       "    .dataframe thead th {\n",
       "        text-align: right;\n",
       "    }\n",
       "</style>\n",
       "<table border=\"1\" class=\"dataframe\">\n",
       "  <thead>\n",
       "    <tr style=\"text-align: right;\">\n",
       "      <th></th>\n",
       "      <th>mb_used</th>\n",
       "      <th>minutes</th>\n",
       "      <th>rub_monthly_fee_over</th>\n",
       "      <th>rub_monthly_fee_total</th>\n",
       "      <th>sms</th>\n",
       "    </tr>\n",
       "    <tr>\n",
       "      <th>month</th>\n",
       "      <th></th>\n",
       "      <th></th>\n",
       "      <th></th>\n",
       "      <th></th>\n",
       "      <th></th>\n",
       "    </tr>\n",
       "  </thead>\n",
       "  <tbody>\n",
       "    <tr>\n",
       "      <td>April</td>\n",
       "      <td>16845.254545</td>\n",
       "      <td>470.072727</td>\n",
       "      <td>45.474077</td>\n",
       "      <td>1995.474077</td>\n",
       "      <td>31.563636</td>\n",
       "    </tr>\n",
       "    <tr>\n",
       "      <td>August</td>\n",
       "      <td>19595.878505</td>\n",
       "      <td>524.570093</td>\n",
       "      <td>121.230195</td>\n",
       "      <td>2071.230195</td>\n",
       "      <td>48.439252</td>\n",
       "    </tr>\n",
       "    <tr>\n",
       "      <td>December</td>\n",
       "      <td>21815.683453</td>\n",
       "      <td>609.129496</td>\n",
       "      <td>176.322926</td>\n",
       "      <td>2126.322926</td>\n",
       "      <td>60.611511</td>\n",
       "    </tr>\n",
       "    <tr>\n",
       "      <td>February</td>\n",
       "      <td>11788.333333</td>\n",
       "      <td>304.666667</td>\n",
       "      <td>23.095703</td>\n",
       "      <td>1973.095703</td>\n",
       "      <td>21.958333</td>\n",
       "    </tr>\n",
       "    <tr>\n",
       "      <td>January</td>\n",
       "      <td>13154.666667</td>\n",
       "      <td>440.888889</td>\n",
       "      <td>0.000000</td>\n",
       "      <td>1950.000000</td>\n",
       "      <td>33.777778</td>\n",
       "    </tr>\n",
       "    <tr>\n",
       "      <td>July</td>\n",
       "      <td>20516.571429</td>\n",
       "      <td>560.296703</td>\n",
       "      <td>158.562092</td>\n",
       "      <td>2108.562092</td>\n",
       "      <td>49.846154</td>\n",
       "    </tr>\n",
       "    <tr>\n",
       "      <td>June</td>\n",
       "      <td>18943.928571</td>\n",
       "      <td>492.428571</td>\n",
       "      <td>82.109724</td>\n",
       "      <td>2032.109724</td>\n",
       "      <td>41.726190</td>\n",
       "    </tr>\n",
       "    <tr>\n",
       "      <td>March</td>\n",
       "      <td>17553.513514</td>\n",
       "      <td>503.081081</td>\n",
       "      <td>54.254645</td>\n",
       "      <td>2004.254645</td>\n",
       "      <td>32.297297</td>\n",
       "    </tr>\n",
       "    <tr>\n",
       "      <td>May</td>\n",
       "      <td>19383.194030</td>\n",
       "      <td>524.865672</td>\n",
       "      <td>105.022738</td>\n",
       "      <td>2055.022738</td>\n",
       "      <td>37.850746</td>\n",
       "    </tr>\n",
       "    <tr>\n",
       "      <td>November</td>\n",
       "      <td>19807.126866</td>\n",
       "      <td>555.805970</td>\n",
       "      <td>130.850994</td>\n",
       "      <td>2080.850994</td>\n",
       "      <td>55.791045</td>\n",
       "    </tr>\n",
       "    <tr>\n",
       "      <td>October</td>\n",
       "      <td>20065.536585</td>\n",
       "      <td>572.829268</td>\n",
       "      <td>106.975276</td>\n",
       "      <td>2056.975276</td>\n",
       "      <td>58.430894</td>\n",
       "    </tr>\n",
       "    <tr>\n",
       "      <td>September</td>\n",
       "      <td>19224.043478</td>\n",
       "      <td>553.643478</td>\n",
       "      <td>63.776749</td>\n",
       "      <td>2013.776749</td>\n",
       "      <td>52.286957</td>\n",
       "    </tr>\n",
       "  </tbody>\n",
       "</table>\n",
       "</div>"
      ],
      "text/plain": [
       "                mb_used     minutes  rub_monthly_fee_over  \\\n",
       "month                                                       \n",
       "April      16845.254545  470.072727             45.474077   \n",
       "August     19595.878505  524.570093            121.230195   \n",
       "December   21815.683453  609.129496            176.322926   \n",
       "February   11788.333333  304.666667             23.095703   \n",
       "January    13154.666667  440.888889              0.000000   \n",
       "July       20516.571429  560.296703            158.562092   \n",
       "June       18943.928571  492.428571             82.109724   \n",
       "March      17553.513514  503.081081             54.254645   \n",
       "May        19383.194030  524.865672            105.022738   \n",
       "November   19807.126866  555.805970            130.850994   \n",
       "October    20065.536585  572.829268            106.975276   \n",
       "September  19224.043478  553.643478             63.776749   \n",
       "\n",
       "           rub_monthly_fee_total        sms  \n",
       "month                                        \n",
       "April                1995.474077  31.563636  \n",
       "August               2071.230195  48.439252  \n",
       "December             2126.322926  60.611511  \n",
       "February             1973.095703  21.958333  \n",
       "January              1950.000000  33.777778  \n",
       "July                 2108.562092  49.846154  \n",
       "June                 2032.109724  41.726190  \n",
       "March                2004.254645  32.297297  \n",
       "May                  2055.022738  37.850746  \n",
       "November             2080.850994  55.791045  \n",
       "October              2056.975276  58.430894  \n",
       "September            2013.776749  52.286957  "
      ]
     },
     "execution_count": 254,
     "metadata": {},
     "output_type": "execute_result"
    }
   ],
   "source": [
    "ultra_monthly_costs = tariff_monthly_costs.loc['ultra']\n",
    "ultra_monthly_costs"
   ]
  },
  {
   "cell_type": "markdown",
   "metadata": {},
   "source": [
    "#### Сводная таблица тарифов"
   ]
  },
  {
   "cell_type": "code",
   "execution_count": 255,
   "metadata": {},
   "outputs": [
    {
     "data": {
      "text/html": [
       "<div>\n",
       "<style scoped>\n",
       "    .dataframe tbody tr th:only-of-type {\n",
       "        vertical-align: middle;\n",
       "    }\n",
       "\n",
       "    .dataframe tbody tr th {\n",
       "        vertical-align: top;\n",
       "    }\n",
       "\n",
       "    .dataframe thead th {\n",
       "        text-align: right;\n",
       "    }\n",
       "</style>\n",
       "<table border=\"1\" class=\"dataframe\">\n",
       "  <thead>\n",
       "    <tr style=\"text-align: right;\">\n",
       "      <th></th>\n",
       "      <th>mb_used</th>\n",
       "      <th>minutes</th>\n",
       "      <th>rub_monthly_fee_over</th>\n",
       "      <th>rub_monthly_fee_total</th>\n",
       "      <th>sms</th>\n",
       "    </tr>\n",
       "    <tr>\n",
       "      <th>tariff</th>\n",
       "      <th></th>\n",
       "      <th></th>\n",
       "      <th></th>\n",
       "      <th></th>\n",
       "      <th></th>\n",
       "    </tr>\n",
       "  </thead>\n",
       "  <tbody>\n",
       "    <tr>\n",
       "      <td>smart</td>\n",
       "      <td>15085.107080</td>\n",
       "      <td>397.374228</td>\n",
       "      <td>595.673948</td>\n",
       "      <td>1145.673948</td>\n",
       "      <td>31.413211</td>\n",
       "    </tr>\n",
       "    <tr>\n",
       "      <td>ultra</td>\n",
       "      <td>18224.477581</td>\n",
       "      <td>509.356551</td>\n",
       "      <td>88.972927</td>\n",
       "      <td>2038.972927</td>\n",
       "      <td>43.714983</td>\n",
       "    </tr>\n",
       "  </tbody>\n",
       "</table>\n",
       "</div>"
      ],
      "text/plain": [
       "             mb_used     minutes  rub_monthly_fee_over  rub_monthly_fee_total  \\\n",
       "tariff                                                                          \n",
       "smart   15085.107080  397.374228            595.673948            1145.673948   \n",
       "ultra   18224.477581  509.356551             88.972927            2038.972927   \n",
       "\n",
       "              sms  \n",
       "tariff             \n",
       "smart   31.413211  \n",
       "ultra   43.714983  "
      ]
     },
     "execution_count": 255,
     "metadata": {},
     "output_type": "execute_result"
    }
   ],
   "source": [
    "tariff_usage = tariff_monthly_costs.pivot_table(\n",
    "    index='tariff',\n",
    "    values=values\n",
    ")\n",
    "\n",
    "tariff_usage"
   ]
  },
  {
   "cell_type": "markdown",
   "metadata": {},
   "source": [
    "#### Вывод\n",
    "\n",
    "- Пользователи ультра-тарифов более активны, но пользователи смарт-тарифов тратят в среднем в 6 раз больше на дополнительные пакеты услуг. Оператор может использовать это для маркетинговой компании.\n",
    "- Тариф Ultra приносит оператору больше денег, даже принимая во внимание тот факт, что в среднем пользователи не выходят за пределы тарифных ограничений, а пользователи тарифа Smart не тратят столько денег, чтобы опередить стоимость тарифа Ultra. Таким образом, тариф Smart более выгоден для пользователя."
   ]
  },
  {
   "cell_type": "markdown",
   "metadata": {},
   "source": [
    "## Расчет среднего количества, дисперсии и стандартного отклонения"
   ]
  },
  {
   "cell_type": "markdown",
   "metadata": {},
   "source": [
    "#### Анализ данных звонка и минут разговора\n",
    "Мы находим среднее, дисперсию и стандартное отклонение в использовании звонков пользователями, по двум тарифам: smart и ultra."
   ]
  },
  {
   "cell_type": "code",
   "execution_count": 256,
   "metadata": {},
   "outputs": [
    {
     "data": {
      "text/plain": [
       "count     12.000000\n",
       "mean     397.374228\n",
       "std       74.270865\n",
       "min      209.647059\n",
       "25%      393.053191\n",
       "50%      412.994888\n",
       "75%      438.742131\n",
       "max      491.418398\n",
       "Name: minutes, dtype: float64"
      ]
     },
     "execution_count": 256,
     "metadata": {},
     "output_type": "execute_result"
    }
   ],
   "source": [
    "smart_monthly_costs['minutes'].describe()"
   ]
  },
  {
   "cell_type": "code",
   "execution_count": 257,
   "metadata": {},
   "outputs": [
    {
     "data": {
      "text/plain": [
       "count     12.000000\n",
       "mean     509.356551\n",
       "std       79.557936\n",
       "min      304.666667\n",
       "25%      486.839610\n",
       "50%      524.717883\n",
       "75%      556.928653\n",
       "max      609.129496\n",
       "Name: minutes, dtype: float64"
      ]
     },
     "execution_count": 257,
     "metadata": {},
     "output_type": "execute_result"
    }
   ],
   "source": [
    "ultra_monthly_costs['minutes'].describe()"
   ]
  },
  {
   "cell_type": "code",
   "execution_count": 258,
   "metadata": {},
   "outputs": [
    {
     "data": {
      "text/html": [
       "<style  type=\"text/css\" >\n",
       "</style><table id=\"T_d4a33252_50f8_11ea_850d_02420a00196d\" ><thead>    <tr>        <th class=\"blank level0\" ></th>        <th class=\"col_heading level0 col0\" colspan=4>minutes</th>    </tr>    <tr>        <th class=\"blank level1\" ></th>        <th class=\"col_heading level1 col0\" >median</th>        <th class=\"col_heading level1 col1\" >mean</th>        <th class=\"col_heading level1 col2\" >var</th>        <th class=\"col_heading level1 col3\" >std</th>    </tr>    <tr>        <th class=\"index_name level0\" >tariff</th>        <th class=\"blank\" ></th>        <th class=\"blank\" ></th>        <th class=\"blank\" ></th>        <th class=\"blank\" ></th>    </tr></thead><tbody>\n",
       "                <tr>\n",
       "                        <th id=\"T_d4a33252_50f8_11ea_850d_02420a00196dlevel0_row0\" class=\"row_heading level0 row0\" >smart</th>\n",
       "                        <td id=\"T_d4a33252_50f8_11ea_850d_02420a00196drow0_col0\" class=\"data row0 col0\" >435.00</td>\n",
       "                        <td id=\"T_d4a33252_50f8_11ea_850d_02420a00196drow0_col1\" class=\"data row0 col1\" >429.45</td>\n",
       "                        <td id=\"T_d4a33252_50f8_11ea_850d_02420a00196drow0_col2\" class=\"data row0 col2\" >37974.77</td>\n",
       "                        <td id=\"T_d4a33252_50f8_11ea_850d_02420a00196drow0_col3\" class=\"data row0 col3\" >194.87</td>\n",
       "            </tr>\n",
       "            <tr>\n",
       "                        <th id=\"T_d4a33252_50f8_11ea_850d_02420a00196dlevel0_row1\" class=\"row_heading level0 row1\" >ultra</th>\n",
       "                        <td id=\"T_d4a33252_50f8_11ea_850d_02420a00196drow1_col0\" class=\"data row1 col0\" >532.00</td>\n",
       "                        <td id=\"T_d4a33252_50f8_11ea_850d_02420a00196drow1_col1\" class=\"data row1 col1\" >540.78</td>\n",
       "                        <td id=\"T_d4a33252_50f8_11ea_850d_02420a00196drow1_col2\" class=\"data row1 col2\" >106105.73</td>\n",
       "                        <td id=\"T_d4a33252_50f8_11ea_850d_02420a00196drow1_col3\" class=\"data row1 col3\" >325.74</td>\n",
       "            </tr>\n",
       "    </tbody></table>"
      ],
      "text/plain": [
       "<pandas.io.formats.style.Styler at 0x7ff4e6f375d0>"
      ]
     },
     "execution_count": 258,
     "metadata": {},
     "output_type": "execute_result"
    }
   ],
   "source": [
    "df.groupby('tariff').agg({'minutes':['median','mean','var','std']}).style.format(\"{:.2f}\")"
   ]
  },
  {
   "cell_type": "markdown",
   "metadata": {},
   "source": [
    "#### Анализ данных сообщения\n",
    "Мы находим среднее, дисперсию и стандартное отклонение в использовании смс пользователями, по двум тарифам: smart и ultra."
   ]
  },
  {
   "cell_type": "code",
   "execution_count": 259,
   "metadata": {},
   "outputs": [
    {
     "data": {
      "text/plain": [
       "count    12.000000\n",
       "mean     31.413211\n",
       "std       5.103413\n",
       "min      18.235294\n",
       "25%      31.578125\n",
       "50%      33.638380\n",
       "75%      33.767242\n",
       "max      35.994065\n",
       "Name: sms, dtype: float64"
      ]
     },
     "execution_count": 259,
     "metadata": {},
     "output_type": "execute_result"
    }
   ],
   "source": [
    "smart_monthly_costs['sms'].describe()"
   ]
  },
  {
   "cell_type": "code",
   "execution_count": 260,
   "metadata": {},
   "outputs": [
    {
     "data": {
      "text/plain": [
       "count    12.000000\n",
       "mean     43.714983\n",
       "std      12.320470\n",
       "min      21.958333\n",
       "25%      33.407658\n",
       "50%      45.082721\n",
       "75%      53.162979\n",
       "max      60.611511\n",
       "Name: sms, dtype: float64"
      ]
     },
     "execution_count": 260,
     "metadata": {},
     "output_type": "execute_result"
    }
   ],
   "source": [
    "ultra_monthly_costs['sms'].describe()"
   ]
  },
  {
   "cell_type": "code",
   "execution_count": 261,
   "metadata": {},
   "outputs": [
    {
     "data": {
      "text/html": [
       "<style  type=\"text/css\" >\n",
       "</style><table id=\"T_d4aa706c_50f8_11ea_850d_02420a00196d\" ><thead>    <tr>        <th class=\"blank level0\" ></th>        <th class=\"col_heading level0 col0\" colspan=4>sms</th>    </tr>    <tr>        <th class=\"blank level1\" ></th>        <th class=\"col_heading level1 col0\" >median</th>        <th class=\"col_heading level1 col1\" >mean</th>        <th class=\"col_heading level1 col2\" >var</th>        <th class=\"col_heading level1 col3\" >std</th>    </tr>    <tr>        <th class=\"index_name level0\" >tariff</th>        <th class=\"blank\" ></th>        <th class=\"blank\" ></th>        <th class=\"blank\" ></th>        <th class=\"blank\" ></th>    </tr></thead><tbody>\n",
       "                <tr>\n",
       "                        <th id=\"T_d4aa706c_50f8_11ea_850d_02420a00196dlevel0_row0\" class=\"row_heading level0 row0\" >smart</th>\n",
       "                        <td id=\"T_d4aa706c_50f8_11ea_850d_02420a00196drow0_col0\" class=\"data row0 col0\" >28.00</td>\n",
       "                        <td id=\"T_d4aa706c_50f8_11ea_850d_02420a00196drow0_col1\" class=\"data row0 col1\" >33.38</td>\n",
       "                        <td id=\"T_d4aa706c_50f8_11ea_850d_02420a00196drow0_col2\" class=\"data row0 col2\" >796.81</td>\n",
       "                        <td id=\"T_d4aa706c_50f8_11ea_850d_02420a00196drow0_col3\" class=\"data row0 col3\" >28.23</td>\n",
       "            </tr>\n",
       "            <tr>\n",
       "                        <th id=\"T_d4aa706c_50f8_11ea_850d_02420a00196dlevel0_row1\" class=\"row_heading level0 row1\" >ultra</th>\n",
       "                        <td id=\"T_d4aa706c_50f8_11ea_850d_02420a00196drow1_col0\" class=\"data row1 col0\" >38.00</td>\n",
       "                        <td id=\"T_d4aa706c_50f8_11ea_850d_02420a00196drow1_col1\" class=\"data row1 col1\" >49.36</td>\n",
       "                        <td id=\"T_d4aa706c_50f8_11ea_850d_02420a00196drow1_col2\" class=\"data row1 col2\" >2285.27</td>\n",
       "                        <td id=\"T_d4aa706c_50f8_11ea_850d_02420a00196drow1_col3\" class=\"data row1 col3\" >47.80</td>\n",
       "            </tr>\n",
       "    </tbody></table>"
      ],
      "text/plain": [
       "<pandas.io.formats.style.Styler at 0x7ff4ea451510>"
      ]
     },
     "execution_count": 261,
     "metadata": {},
     "output_type": "execute_result"
    }
   ],
   "source": [
    "df.groupby('tariff').agg({'sms':['median','mean','var','std']}).style.format(\"{:.2f}\")"
   ]
  },
  {
   "cell_type": "markdown",
   "metadata": {},
   "source": [
    "3. Анализ веб-трафика\n",
    "Мы находим среднее, дисперсию и стандартное отклонение в использовании интернет-трафика пользователями по двум тарифам: smart и ultra."
   ]
  },
  {
   "cell_type": "code",
   "execution_count": 262,
   "metadata": {},
   "outputs": [
    {
     "data": {
      "text/plain": [
       "count       12.000000\n",
       "mean     15085.107080\n",
       "std       2676.043117\n",
       "min       8528.588235\n",
       "25%      14719.925933\n",
       "50%      15827.598448\n",
       "75%      16676.873010\n",
       "max      18145.824926\n",
       "Name: mb_used, dtype: float64"
      ]
     },
     "execution_count": 262,
     "metadata": {},
     "output_type": "execute_result"
    }
   ],
   "source": [
    "smart_monthly_costs['mb_used'].describe()"
   ]
  },
  {
   "cell_type": "code",
   "execution_count": 263,
   "metadata": {},
   "outputs": [
    {
     "data": {
      "text/plain": [
       "count       12.000000\n",
       "mean     18224.477581\n",
       "std       2988.831047\n",
       "min      11788.333333\n",
       "25%      17376.448771\n",
       "50%      19303.618754\n",
       "75%      19871.729296\n",
       "max      21815.683453\n",
       "Name: mb_used, dtype: float64"
      ]
     },
     "execution_count": 263,
     "metadata": {},
     "output_type": "execute_result"
    }
   ],
   "source": [
    "ultra_monthly_costs['mb_used'].describe()"
   ]
  },
  {
   "cell_type": "code",
   "execution_count": 264,
   "metadata": {},
   "outputs": [
    {
     "data": {
      "text/html": [
       "<style  type=\"text/css\" >\n",
       "</style><table id=\"T_d4b630a0_50f8_11ea_850d_02420a00196d\" ><thead>    <tr>        <th class=\"blank level0\" ></th>        <th class=\"col_heading level0 col0\" colspan=4>mb_used</th>    </tr>    <tr>        <th class=\"blank level1\" ></th>        <th class=\"col_heading level1 col0\" >median</th>        <th class=\"col_heading level1 col1\" >mean</th>        <th class=\"col_heading level1 col2\" >var</th>        <th class=\"col_heading level1 col3\" >std</th>    </tr>    <tr>        <th class=\"index_name level0\" >tariff</th>        <th class=\"blank\" ></th>        <th class=\"blank\" ></th>        <th class=\"blank\" ></th>        <th class=\"blank\" ></th>    </tr></thead><tbody>\n",
       "                <tr>\n",
       "                        <th id=\"T_d4b630a0_50f8_11ea_850d_02420a00196dlevel0_row0\" class=\"row_heading level0 row0\" >smart</th>\n",
       "                        <td id=\"T_d4b630a0_50f8_11ea_850d_02420a00196drow0_col0\" class=\"data row0 col0\" >16540.00</td>\n",
       "                        <td id=\"T_d4b630a0_50f8_11ea_850d_02420a00196drow0_col1\" class=\"data row0 col1\" >16237.18</td>\n",
       "                        <td id=\"T_d4b630a0_50f8_11ea_850d_02420a00196drow0_col2\" class=\"data row0 col2\" >34571991.09</td>\n",
       "                        <td id=\"T_d4b630a0_50f8_11ea_850d_02420a00196drow0_col3\" class=\"data row0 col3\" >5879.80</td>\n",
       "            </tr>\n",
       "            <tr>\n",
       "                        <th id=\"T_d4b630a0_50f8_11ea_850d_02420a00196dlevel0_row1\" class=\"row_heading level0 row1\" >ultra</th>\n",
       "                        <td id=\"T_d4b630a0_50f8_11ea_850d_02420a00196drow1_col0\" class=\"data row1 col0\" >19324.00</td>\n",
       "                        <td id=\"T_d4b630a0_50f8_11ea_850d_02420a00196drow1_col1\" class=\"data row1 col1\" >19488.70</td>\n",
       "                        <td id=\"T_d4b630a0_50f8_11ea_850d_02420a00196drow1_col2\" class=\"data row1 col2\" >101951580.69</td>\n",
       "                        <td id=\"T_d4b630a0_50f8_11ea_850d_02420a00196drow1_col3\" class=\"data row1 col3\" >10097.11</td>\n",
       "            </tr>\n",
       "    </tbody></table>"
      ],
      "text/plain": [
       "<pandas.io.formats.style.Styler at 0x7ff4e6f41cd0>"
      ]
     },
     "execution_count": 264,
     "metadata": {},
     "output_type": "execute_result"
    }
   ],
   "source": [
    "df.groupby('tariff').agg({'mb_used':['median','mean','var','std']}).style.format(\"{:.2f}\")"
   ]
  },
  {
   "cell_type": "markdown",
   "metadata": {},
   "source": [
    "## Распределение гистограмм"
   ]
  },
  {
   "cell_type": "markdown",
   "metadata": {},
   "source": [
    "#### Анализ данных звонка и минут разговора\n",
    "Нормальное распределение определяется средним и дисперсией. Они позволяют понять, насколько шумны данные сейчас."
   ]
  },
  {
   "cell_type": "code",
   "execution_count": 265,
   "metadata": {},
   "outputs": [
    {
     "data": {
      "text/plain": [
       "Text(0.5, 1.0, 'Звонки в минутах в месяц')"
      ]
     },
     "execution_count": 265,
     "metadata": {},
     "output_type": "execute_result"
    },
    {
     "data": {
      "image/png": "[encoded data removed]",
      "text/plain": [
       "<Figure size 432x288 with 1 Axes>"
      ]
     },
     "metadata": {
      "needs_background": "light"
     },
     "output_type": "display_data"
    }
   ],
   "source": [
    "df[df['tariff'] == 'smart']['minutes'].plot(kind='hist', label='smart', bins=10)\n",
    "df[df['tariff'] == 'ultra']['minutes'].plot(kind='hist', label='ultra', bins=10, alpha=0.7)\n",
    "plt.legend(loc='upper right')\n",
    "plt.title('Звонки в минутах в месяц')"
   ]
  },
  {
   "cell_type": "markdown",
   "metadata": {},
   "source": [
    "#### Анализ данных сообщения\n",
    "Нормальное распределение определяется средним и дисперсией. Они позволяют понять, насколько шумны данные сейчас."
   ]
  },
  {
   "cell_type": "code",
   "execution_count": 266,
   "metadata": {},
   "outputs": [
    {
     "data": {
      "text/plain": [
       "Text(0.5, 1.0, 'Количество sms в месяц')"
      ]
     },
     "execution_count": 266,
     "metadata": {},
     "output_type": "execute_result"
    },
    {
     "data": {
      "image/png": "[encoded data removed]",
      "text/plain": [
       "<Figure size 432x288 with 1 Axes>"
      ]
     },
     "metadata": {
      "needs_background": "light"
     },
     "output_type": "display_data"
    }
   ],
   "source": [
    "df[df['tariff'] == 'smart']['sms'].plot(kind='hist', label='smart', bins=10)\n",
    "df[df['tariff'] == 'ultra']['sms'].plot(kind='hist', label='ultra', bins=10, alpha=0.7)\n",
    "plt.legend(loc='upper right')\n",
    "plt.title('Количество sms в месяц')"
   ]
  },
  {
   "cell_type": "markdown",
   "metadata": {},
   "source": [
    "#### Анализ веб-трафика\n",
    "Нормальное распределение определяется средним и дисперсией. Они позволяют понять, насколько шумны данные сейчас."
   ]
  },
  {
   "cell_type": "code",
   "execution_count": 267,
   "metadata": {},
   "outputs": [
    {
     "data": {
      "text/plain": [
       "Text(0.5, 1.0, 'Расход интернет-трафика в месяц')"
      ]
     },
     "execution_count": 267,
     "metadata": {},
     "output_type": "execute_result"
    },
    {
     "data": {
      "image/png": "[encoded data removed]",
      "text/plain": [
       "<Figure size 432x288 with 1 Axes>"
      ]
     },
     "metadata": {
      "needs_background": "light"
     },
     "output_type": "display_data"
    }
   ],
   "source": [
    "df[df['tariff'] == 'smart']['mb_used'].plot(kind='hist', label='smart', bins=10)\n",
    "df[df['tariff'] == 'ultra']['mb_used'].plot(kind='hist', label='ultra', bins=10, alpha=0.7)\n",
    "plt.legend(loc='upper right')\n",
    "plt.title('Расход интернет-трафика в месяц')"
   ]
  },
  {
   "cell_type": "markdown",
   "metadata": {},
   "source": [
    "## Описание полученных распределений"
   ]
  },
  {
   "cell_type": "markdown",
   "metadata": {},
   "source": [
    "#### Анализ данных звонка и минут разговора\n",
    "Нормальное распределение определяется средним и дисперсией. Они дают вам знать, насколько шумные данные сейчас.\n",
    "\n",
    "- Пользователи, подключенные к тарифу Smart, тратят около 429 минут в месяц на телефонные звонки. Поскольку тарифный лимит составляет 500 минут разговора, пользователи вписываются в рамки тарифного плана.\n",
    "- Пользователи, подключенные к тарифному плану Ultra, тратят около 540 минут в месяц на телефонные звонки. Поскольку тарифный лимит составляет 3000 минут разговора, пользователи по-прежнему имеют большую часть минут в пределах тарифа.\n",
    "\n",
    "#### Анализ данных сообщения\n",
    "Нормальное распределение определяется средним и дисперсией. Они дают вам знать, насколько шумные данные сейчас.\n",
    "\n",
    "- Пользователи, подключенные к тарифу Smart, тратят около 33 сообщений в месяц. Поскольку тарифный лимит составляет 50 сообщений, пользователи по-прежнему имеют большую часть неиспользованных сообщений в рамках тарифа.\n",
    "- Пользователи, подключенные к тарифному плану Ultra, тратят около 49 сообщений в месяц. Поскольку тарифный лимит составляет 1000 сообщений, пользователи по-прежнему имеют большую часть неиспользованных сообщений в рамках тарифа.\n",
    "\n",
    "#### Анализ веб-трафика\n",
    "Нормальное распределение определяется средним и дисперсией. Они дают вам знать, насколько шумные данные сейчас.\n",
    "\n",
    "- Пользователи, подключенные к тарифу Smart, тратят около 16237 МБ = 15 ГБ в месяц. Поскольку тарифный лимит составляет 15 ГБ, пользователи вписываются в рамки тарифного плана.\n",
    "- Пользователи, подключенные к тарифному плану Ultra, тратят около 19488 МБ = 19 ГБ в месяц. Поскольку тарифный лимит составляет 30 ГБ, пользователи по-прежнему имеют большую часть неиспользованного интернет-трафика в рамках тарифа."
   ]
  },
  {
   "cell_type": "markdown",
   "metadata": {},
   "source": [
    "# Проверка гипотез"
   ]
  },
  {
   "cell_type": "markdown",
   "metadata": {},
   "source": [
    "Мы рассматриваем два основных агрегата - пользователей разных тарифов оператора мобильной связи. Мы проверяем две (двусторонние) гипотезы о равенстве среднего двух популяций из выборок, взятых у них. Чтобы понять, отличаются ли средние доходы пользователей разных тарифов и расчетов, значительна ли разница между средними значениями, проведем статистические тесты."
   ]
  },
  {
   "cell_type": "markdown",
   "metadata": {},
   "source": [
    "### Гипотеза 1. Средний доход пользователей по тарифам Ultra и Smart различен"
   ]
  },
  {
   "cell_type": "markdown",
   "metadata": {},
   "source": [
    "H₀- нулевая гипотеза: \n",
    "#### Средний доход по тарифам Ultra и Smart не отличается"
   ]
  },
  {
   "cell_type": "markdown",
   "metadata": {},
   "source": [
    "H₁ - альтернативная гипотеза:\n",
    "#### Средний доход для тарифов Ultra и Smart отличается"
   ]
  },
  {
   "cell_type": "markdown",
   "metadata": {},
   "source": [
    "Порог альфа, критический уровень статистической значимости = 1%."
   ]
  },
  {
   "cell_type": "code",
   "execution_count": 268,
   "metadata": {},
   "outputs": [
    {
     "name": "stdout",
     "output_type": "stream",
     "text": [
      "p-значение: 6.8954572985407385e-12\n",
      "Отвергаем нулевую гипотезу\n"
     ]
    }
   ],
   "source": [
    "alpha = .01\n",
    "\n",
    "results = st.ttest_ind(\n",
    "    smart_monthly_costs['rub_monthly_fee_total'], \n",
    "    ultra_monthly_costs['rub_monthly_fee_total'])\n",
    "\n",
    "print('p-значение:', results.pvalue)\n",
    "\n",
    "if (results.pvalue < alpha):\n",
    "    print(\"Отвергаем нулевую гипотезу\")\n",
    "else:\n",
    "    print(\"Подтверждаем нулевую гипотезу\")"
   ]
  },
  {
   "cell_type": "markdown",
   "metadata": {},
   "source": [
    "- Получили значение р, равное 6,895;\n",
    "- Средний доход для тарифов Ultra и Smart не одинаков, поэтому средний доход для пользователей тарифов Ultra и Smart действительно отличается, и наша гипотеза подтвердилась."
   ]
  },
  {
   "cell_type": "markdown",
   "metadata": {},
   "source": [
    "### Гипотеза 2. Средний доход пользователей из Москвы отличается от выручки пользователей из других регионов"
   ]
  },
  {
   "cell_type": "markdown",
   "metadata": {},
   "source": [
    "H₀- нулевая гипотеза:\n",
    "#### Средняя выручка в Москве не отличается от выручки других регионов\n",
    "\n",
    "H₁ - альтернативная гипотеза:\n",
    "#### Средний доход в Москве отличается от доходов из других регионов\n",
    "\n",
    "Порог альфа, критический уровень статистической значимости = 5%."
   ]
  },
  {
   "cell_type": "code",
   "execution_count": 269,
   "metadata": {},
   "outputs": [
    {
     "data": {
      "text/plain": [
       "array(['Краснодар', 'Москва', 'Стерлитамак', 'Новокузнецк',\n",
       "       'Набережные Челны', 'Ульяновск', 'Челябинск', 'Пермь', 'Тюмень',\n",
       "       'Самара', 'Санкт-Петербург', 'Иваново', 'Чебоксары', 'Омск', 'Уфа',\n",
       "       'Томск', 'Чита', 'Мурманск', 'Петрозаводск', 'Тверь',\n",
       "       'Екатеринбург', 'Махачкала', 'Вологда', 'Череповец', 'Ярославль',\n",
       "       'Сочи', 'Хабаровск', 'Ставрополь', 'Рязань', 'Улан-Удэ', 'Тула',\n",
       "       'Саратов', 'Ростов-на-Дону', 'Казань', 'Иркутск', 'Курск',\n",
       "       'Калуга', 'Якутск', 'Астрахань', 'Химки', 'Владикавказ',\n",
       "       'Волгоград', 'Саранск', 'Ижевск', 'Новосибирск', 'Брянск',\n",
       "       'Тольятти', 'Нижний Тагил', 'Орёл', 'Белгород', 'Воронеж',\n",
       "       'Курган', 'Барнаул', 'Красноярск', 'Архангельск', 'Липецк',\n",
       "       'Кемерово', 'Киров', 'Сургут', 'Пенза', 'Волжский', 'Магнитогорск',\n",
       "       'Нижний Новгород', 'Кострома', 'Владивосток', 'Тамбов', 'Балашиха',\n",
       "       'Севастополь', 'Калининград', 'Оренбург', 'Смоленск',\n",
       "       'Нижневартовск', 'Владимир', 'Новороссийск', 'Грозный', 'Подольск'],\n",
       "      dtype=object)"
      ]
     },
     "execution_count": 269,
     "metadata": {},
     "output_type": "execute_result"
    }
   ],
   "source": [
    "df['city'].unique()"
   ]
  },
  {
   "cell_type": "code",
   "execution_count": 270,
   "metadata": {},
   "outputs": [
    {
     "name": "stdout",
     "output_type": "stream",
     "text": [
      "p-значение: 0.2599724143101045\n",
      "Не получилось отвергнуть нулевую гипотезу\n"
     ]
    }
   ],
   "source": [
    "alpha = .05\n",
    "\n",
    "moscow = df.query(\"city == 'Москва'\")['rub_monthly_fee_total']\n",
    "other_cities = df.query(\"city == 'Санкт-Петербург'\")['rub_monthly_fee_total']\n",
    "\n",
    "results = st.ttest_ind(moscow, other_cities)\n",
    "\n",
    "print('p-значение:', results.pvalue)\n",
    "\n",
    "if (results.pvalue < alpha):\n",
    "    print(\"Отвергаем нулевую гипотезу\")\n",
    "else:\n",
    "    print(\"Не получилось отвергнуть нулевую гипотезу\")"
   ]
  },
  {
   "cell_type": "markdown",
   "metadata": {},
   "source": [
    "- Получили значение р, равное 0,259;\n",
    "- Средний доход в Москве и Санкт-Петербурге не одинаков, с вероятностью 25% такая разница может быть получена случайно;\n",
    "- Таким образом, наша гипотеза о том, что средний доход пользователей из Москвы отличается от доходов пользователей из других регионов, не подтвердилась."
   ]
  },
  {
   "cell_type": "markdown",
   "metadata": {},
   "source": [
    "# Общий вывод"
   ]
  },
  {
   "cell_type": "markdown",
   "metadata": {},
   "source": [
    "На основании анализа поведения клиентов федерального оператора сотовой связи Megaline можно сделать следующие выводы:\n",
    "\n",
    "- Для пользователей тариф Smart более выгоден, поскольку: - Пользователи, подключенные к тарифу Smart, тратят около 429 минут в месяц на телефонные звонки. Поскольку тарифный лимит составляет 500 минут разговора, пользователи вписываются в рамки тарифного плана; - Пользователи, подключенные к тарифу Smart, тратят около 33 сообщений в месяц. Поскольку тарифный лимит составляет 50 сообщений, пользователи по-прежнему имеют большую часть неиспользованных сообщений в рамках тарифа. - Пользователи, подключенные к тарифу Smart, тратят около 16237 МБ = 15 ГБ в месяц. Поскольку тарифный лимит составляет 15 ГБ, пользователи вписываются в рамки тарифного плана.\n",
    "\n",
    "- Для оператора мобильной связи тариф Ultra более выгоден, поскольку: - Пользователи, подключенные к тарифному плану Ultra, тратят около 540 минут в месяц на телефонные звонки. Так как тарифный лимит составляет 3000 минут разговора, у пользователей все еще есть большая часть минут в пределах тарифа; - Пользователи, подключенные к тарифному плану Ultra, тратят около 49 сообщений в месяц. Поскольку тарифный лимит составляет 1000 сообщений, пользователи по-прежнему имеют большинство неиспользуемых сообщений в рамках тарифа; - Пользователи, подключенные к тарифу Ultra, тратят около 19488 МБ = 19 ГБ в месяц. Поскольку тарифный лимит составляет 30 ГБ, пользователи по-прежнему имеют большую часть неиспользованного интернет-трафика в рамках тарифа. - В целом, у всех пользователей тарифа Ultra всегда есть доля неизрасходованных минут, смс и интернет-трафика. Из двух гипотез была подтверждена только первая: \n",
    "средний доход пользователей тарифов Ultra и Smart отличается\n",
    "\n",
    "#### Рекомендации мобильному оператору:\n",
    "\n",
    "- Необходимо скорректировать округление / отследить правильность выгрузки знаков с нулевыми значениями в столбцах;\n",
    "- Обнаженные знания в знаках минут и мб должны быть округлены до 1;\n",
    "- Необходимо оптимизировать тариф Ultra, так как большинство услуг по этому тарифу остаются свободными."
   ]
  }
 ],
 "metadata": {
  "kernelspec": {
   "display_name": "Python 3",
   "language": "python",
   "name": "python3"
  },
  "language_info": {
   "codemirror_mode": {
    "name": "ipython",
    "version": 3
   },
   "file_extension": ".py",
   "mimetype": "text/x-python",
   "name": "python",
   "nbconvert_exporter": "python",
   "pygments_lexer": "ipython3",
   "version": "3.7.6"
  }
 },
 "nbformat": 4,
 "nbformat_minor": 2
}
