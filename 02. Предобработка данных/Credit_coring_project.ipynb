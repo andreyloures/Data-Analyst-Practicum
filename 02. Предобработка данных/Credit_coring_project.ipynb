{
 "cells": [
  {
   "cell_type": "markdown",
   "metadata": {},
   "source": [
    "# Исследование надёжности заёмщиков\n",
    "\n",
    "Заказчик — кредитный отдел банка. Нужно разобраться, влияет ли семейное положение и количество детей клиента на факт погашения кредита в срок. Входные данные от банка — статистика о платёжеспособности клиентов.\n",
    "\n",
    "Результаты исследования будут учтены при построении модели **кредитного скоринга** — специальной системы, которая оценивает способность потенциального заёмщика вернуть кредит банку."
   ]
  },
  {
   "cell_type": "markdown",
   "metadata": {},
   "source": [
    "### Шаг 1. Откройте файл с данными и изучите общую информацию. "
   ]
  },
  {
   "cell_type": "code",
   "execution_count": 96,
   "metadata": {
    "scrolled": false
   },
   "outputs": [
    {
     "data": {
      "text/html": [
       "<div>\n",
       "<style scoped>\n",
       "    .dataframe tbody tr th:only-of-type {\n",
       "        vertical-align: middle;\n",
       "    }\n",
       "\n",
       "    .dataframe tbody tr th {\n",
       "        vertical-align: top;\n",
       "    }\n",
       "\n",
       "    .dataframe thead th {\n",
       "        text-align: right;\n",
       "    }\n",
       "</style>\n",
       "<table border=\"1\" class=\"dataframe\">\n",
       "  <thead>\n",
       "    <tr style=\"text-align: right;\">\n",
       "      <th></th>\n",
       "      <th>children</th>\n",
       "      <th>days_employed</th>\n",
       "      <th>dob_years</th>\n",
       "      <th>education</th>\n",
       "      <th>education_id</th>\n",
       "      <th>family_status</th>\n",
       "      <th>family_status_id</th>\n",
       "      <th>gender</th>\n",
       "      <th>income_type</th>\n",
       "      <th>debt</th>\n",
       "      <th>total_income</th>\n",
       "      <th>purpose</th>\n",
       "    </tr>\n",
       "  </thead>\n",
       "  <tbody>\n",
       "    <tr>\n",
       "      <td>0</td>\n",
       "      <td>1</td>\n",
       "      <td>-8437.673028</td>\n",
       "      <td>42</td>\n",
       "      <td>высшее</td>\n",
       "      <td>0</td>\n",
       "      <td>женат / замужем</td>\n",
       "      <td>0</td>\n",
       "      <td>F</td>\n",
       "      <td>сотрудник</td>\n",
       "      <td>0</td>\n",
       "      <td>253875.639453</td>\n",
       "      <td>покупка жилья</td>\n",
       "    </tr>\n",
       "    <tr>\n",
       "      <td>1</td>\n",
       "      <td>1</td>\n",
       "      <td>-4024.803754</td>\n",
       "      <td>36</td>\n",
       "      <td>среднее</td>\n",
       "      <td>1</td>\n",
       "      <td>женат / замужем</td>\n",
       "      <td>0</td>\n",
       "      <td>F</td>\n",
       "      <td>сотрудник</td>\n",
       "      <td>0</td>\n",
       "      <td>112080.014102</td>\n",
       "      <td>приобретение автомобиля</td>\n",
       "    </tr>\n",
       "    <tr>\n",
       "      <td>2</td>\n",
       "      <td>0</td>\n",
       "      <td>-5623.422610</td>\n",
       "      <td>33</td>\n",
       "      <td>Среднее</td>\n",
       "      <td>1</td>\n",
       "      <td>женат / замужем</td>\n",
       "      <td>0</td>\n",
       "      <td>M</td>\n",
       "      <td>сотрудник</td>\n",
       "      <td>0</td>\n",
       "      <td>145885.952297</td>\n",
       "      <td>покупка жилья</td>\n",
       "    </tr>\n",
       "    <tr>\n",
       "      <td>3</td>\n",
       "      <td>3</td>\n",
       "      <td>-4124.747207</td>\n",
       "      <td>32</td>\n",
       "      <td>среднее</td>\n",
       "      <td>1</td>\n",
       "      <td>женат / замужем</td>\n",
       "      <td>0</td>\n",
       "      <td>M</td>\n",
       "      <td>сотрудник</td>\n",
       "      <td>0</td>\n",
       "      <td>267628.550329</td>\n",
       "      <td>дополнительное образование</td>\n",
       "    </tr>\n",
       "    <tr>\n",
       "      <td>4</td>\n",
       "      <td>0</td>\n",
       "      <td>340266.072047</td>\n",
       "      <td>53</td>\n",
       "      <td>среднее</td>\n",
       "      <td>1</td>\n",
       "      <td>гражданский брак</td>\n",
       "      <td>1</td>\n",
       "      <td>F</td>\n",
       "      <td>пенсионер</td>\n",
       "      <td>0</td>\n",
       "      <td>158616.077870</td>\n",
       "      <td>сыграть свадьбу</td>\n",
       "    </tr>\n",
       "    <tr>\n",
       "      <td>5</td>\n",
       "      <td>0</td>\n",
       "      <td>-926.185831</td>\n",
       "      <td>27</td>\n",
       "      <td>высшее</td>\n",
       "      <td>0</td>\n",
       "      <td>гражданский брак</td>\n",
       "      <td>1</td>\n",
       "      <td>M</td>\n",
       "      <td>компаньон</td>\n",
       "      <td>0</td>\n",
       "      <td>255763.565419</td>\n",
       "      <td>покупка жилья</td>\n",
       "    </tr>\n",
       "    <tr>\n",
       "      <td>6</td>\n",
       "      <td>0</td>\n",
       "      <td>-2879.202052</td>\n",
       "      <td>43</td>\n",
       "      <td>высшее</td>\n",
       "      <td>0</td>\n",
       "      <td>женат / замужем</td>\n",
       "      <td>0</td>\n",
       "      <td>F</td>\n",
       "      <td>компаньон</td>\n",
       "      <td>0</td>\n",
       "      <td>240525.971920</td>\n",
       "      <td>операции с жильем</td>\n",
       "    </tr>\n",
       "    <tr>\n",
       "      <td>7</td>\n",
       "      <td>0</td>\n",
       "      <td>-152.779569</td>\n",
       "      <td>50</td>\n",
       "      <td>СРЕДНЕЕ</td>\n",
       "      <td>1</td>\n",
       "      <td>женат / замужем</td>\n",
       "      <td>0</td>\n",
       "      <td>M</td>\n",
       "      <td>сотрудник</td>\n",
       "      <td>0</td>\n",
       "      <td>135823.934197</td>\n",
       "      <td>образование</td>\n",
       "    </tr>\n",
       "    <tr>\n",
       "      <td>8</td>\n",
       "      <td>2</td>\n",
       "      <td>-6929.865299</td>\n",
       "      <td>35</td>\n",
       "      <td>ВЫСШЕЕ</td>\n",
       "      <td>0</td>\n",
       "      <td>гражданский брак</td>\n",
       "      <td>1</td>\n",
       "      <td>F</td>\n",
       "      <td>сотрудник</td>\n",
       "      <td>0</td>\n",
       "      <td>95856.832424</td>\n",
       "      <td>на проведение свадьбы</td>\n",
       "    </tr>\n",
       "    <tr>\n",
       "      <td>9</td>\n",
       "      <td>0</td>\n",
       "      <td>-2188.756445</td>\n",
       "      <td>41</td>\n",
       "      <td>среднее</td>\n",
       "      <td>1</td>\n",
       "      <td>женат / замужем</td>\n",
       "      <td>0</td>\n",
       "      <td>M</td>\n",
       "      <td>сотрудник</td>\n",
       "      <td>0</td>\n",
       "      <td>144425.938277</td>\n",
       "      <td>покупка жилья для семьи</td>\n",
       "    </tr>\n",
       "    <tr>\n",
       "      <td>10</td>\n",
       "      <td>2</td>\n",
       "      <td>-4171.483647</td>\n",
       "      <td>36</td>\n",
       "      <td>высшее</td>\n",
       "      <td>0</td>\n",
       "      <td>женат / замужем</td>\n",
       "      <td>0</td>\n",
       "      <td>M</td>\n",
       "      <td>компаньон</td>\n",
       "      <td>0</td>\n",
       "      <td>113943.491460</td>\n",
       "      <td>покупка недвижимости</td>\n",
       "    </tr>\n",
       "    <tr>\n",
       "      <td>11</td>\n",
       "      <td>0</td>\n",
       "      <td>-792.701887</td>\n",
       "      <td>40</td>\n",
       "      <td>среднее</td>\n",
       "      <td>1</td>\n",
       "      <td>женат / замужем</td>\n",
       "      <td>0</td>\n",
       "      <td>F</td>\n",
       "      <td>сотрудник</td>\n",
       "      <td>0</td>\n",
       "      <td>77069.234271</td>\n",
       "      <td>покупка коммерческой недвижимости</td>\n",
       "    </tr>\n",
       "    <tr>\n",
       "      <td>12</td>\n",
       "      <td>0</td>\n",
       "      <td>NaN</td>\n",
       "      <td>65</td>\n",
       "      <td>среднее</td>\n",
       "      <td>1</td>\n",
       "      <td>гражданский брак</td>\n",
       "      <td>1</td>\n",
       "      <td>M</td>\n",
       "      <td>пенсионер</td>\n",
       "      <td>0</td>\n",
       "      <td>NaN</td>\n",
       "      <td>сыграть свадьбу</td>\n",
       "    </tr>\n",
       "    <tr>\n",
       "      <td>13</td>\n",
       "      <td>0</td>\n",
       "      <td>-1846.641941</td>\n",
       "      <td>54</td>\n",
       "      <td>неоконченное высшее</td>\n",
       "      <td>2</td>\n",
       "      <td>женат / замужем</td>\n",
       "      <td>0</td>\n",
       "      <td>F</td>\n",
       "      <td>сотрудник</td>\n",
       "      <td>0</td>\n",
       "      <td>130458.228857</td>\n",
       "      <td>приобретение автомобиля</td>\n",
       "    </tr>\n",
       "    <tr>\n",
       "      <td>14</td>\n",
       "      <td>0</td>\n",
       "      <td>-1844.956182</td>\n",
       "      <td>56</td>\n",
       "      <td>высшее</td>\n",
       "      <td>0</td>\n",
       "      <td>гражданский брак</td>\n",
       "      <td>1</td>\n",
       "      <td>F</td>\n",
       "      <td>компаньон</td>\n",
       "      <td>1</td>\n",
       "      <td>165127.911772</td>\n",
       "      <td>покупка жилой недвижимости</td>\n",
       "    </tr>\n",
       "  </tbody>\n",
       "</table>\n",
       "</div>"
      ],
      "text/plain": [
       "    children  days_employed  dob_years            education  education_id  \\\n",
       "0          1   -8437.673028         42               высшее             0   \n",
       "1          1   -4024.803754         36              среднее             1   \n",
       "2          0   -5623.422610         33              Среднее             1   \n",
       "3          3   -4124.747207         32              среднее             1   \n",
       "4          0  340266.072047         53              среднее             1   \n",
       "5          0    -926.185831         27               высшее             0   \n",
       "6          0   -2879.202052         43               высшее             0   \n",
       "7          0    -152.779569         50              СРЕДНЕЕ             1   \n",
       "8          2   -6929.865299         35               ВЫСШЕЕ             0   \n",
       "9          0   -2188.756445         41              среднее             1   \n",
       "10         2   -4171.483647         36               высшее             0   \n",
       "11         0    -792.701887         40              среднее             1   \n",
       "12         0            NaN         65              среднее             1   \n",
       "13         0   -1846.641941         54  неоконченное высшее             2   \n",
       "14         0   -1844.956182         56               высшее             0   \n",
       "\n",
       "       family_status  family_status_id gender income_type  debt  \\\n",
       "0    женат / замужем                 0      F   сотрудник     0   \n",
       "1    женат / замужем                 0      F   сотрудник     0   \n",
       "2    женат / замужем                 0      M   сотрудник     0   \n",
       "3    женат / замужем                 0      M   сотрудник     0   \n",
       "4   гражданский брак                 1      F   пенсионер     0   \n",
       "5   гражданский брак                 1      M   компаньон     0   \n",
       "6    женат / замужем                 0      F   компаньон     0   \n",
       "7    женат / замужем                 0      M   сотрудник     0   \n",
       "8   гражданский брак                 1      F   сотрудник     0   \n",
       "9    женат / замужем                 0      M   сотрудник     0   \n",
       "10   женат / замужем                 0      M   компаньон     0   \n",
       "11   женат / замужем                 0      F   сотрудник     0   \n",
       "12  гражданский брак                 1      M   пенсионер     0   \n",
       "13   женат / замужем                 0      F   сотрудник     0   \n",
       "14  гражданский брак                 1      F   компаньон     1   \n",
       "\n",
       "     total_income                            purpose  \n",
       "0   253875.639453                      покупка жилья  \n",
       "1   112080.014102            приобретение автомобиля  \n",
       "2   145885.952297                      покупка жилья  \n",
       "3   267628.550329         дополнительное образование  \n",
       "4   158616.077870                    сыграть свадьбу  \n",
       "5   255763.565419                      покупка жилья  \n",
       "6   240525.971920                  операции с жильем  \n",
       "7   135823.934197                        образование  \n",
       "8    95856.832424              на проведение свадьбы  \n",
       "9   144425.938277            покупка жилья для семьи  \n",
       "10  113943.491460               покупка недвижимости  \n",
       "11   77069.234271  покупка коммерческой недвижимости  \n",
       "12            NaN                    сыграть свадьбу  \n",
       "13  130458.228857            приобретение автомобиля  \n",
       "14  165127.911772         покупка жилой недвижимости  "
      ]
     },
     "execution_count": 96,
     "metadata": {},
     "output_type": "execute_result"
    }
   ],
   "source": [
    "import pandas as pd\n",
    "df = pd.read_csv('/datasets/data.csv')\n",
    "df.head(10)"
   ]
  },
  {
   "cell_type": "markdown",
   "metadata": {},
   "source": [
    "### Вывод"
   ]
  },
  {
   "cell_type": "markdown",
   "metadata": {},
   "source": [
    "- в стобцах days_employed и total_income имеються пропуски\n",
    "- в столбце education значения разного регистра\n",
    "- в стобце days_employed значения отрицательные"
   ]
  },
  {
   "cell_type": "markdown",
   "metadata": {},
   "source": [
    "### Шаг 2. Предобработка данных"
   ]
  },
  {
   "cell_type": "markdown",
   "metadata": {},
   "source": []
  },
  {
   "cell_type": "code",
   "execution_count": 97,
   "metadata": {},
   "outputs": [
    {
     "name": "stdout",
     "output_type": "stream",
     "text": [
      "<class 'pandas.core.frame.DataFrame'>\n",
      "RangeIndex: 21525 entries, 0 to 21524\n",
      "Data columns (total 12 columns):\n",
      "children            21525 non-null int64\n",
      "days_employed       21525 non-null float64\n",
      "dob_years           21525 non-null int64\n",
      "education           21525 non-null object\n",
      "education_id        21525 non-null int64\n",
      "family_status       21525 non-null object\n",
      "family_status_id    21525 non-null int64\n",
      "gender              21525 non-null object\n",
      "income_type         21525 non-null object\n",
      "debt                21525 non-null int64\n",
      "total_income        21525 non-null float64\n",
      "purpose             21525 non-null object\n",
      "dtypes: float64(2), int64(5), object(5)\n",
      "memory usage: 2.0+ MB\n"
     ]
    }
   ],
   "source": [
    "# сделаю отдельный дата для каждого типа занятости, чтобы не ошибиться посмотрим какие типы занятости есть?\n",
    "\n",
    "# print(df['income_type'].unique())\n",
    "\n",
    "#['сотрудник' 'пенсионер' 'компаньон' 'госслужащий' 'безработный' 'предприниматель' 'студент' 'в декрете']\n",
    "\n",
    "df_sotrudnik = df[(df['income_type'] == 'сотрудник')]\n",
    "df_penciober = df[(df['income_type'] == 'пенсионер')]\n",
    "df_companion = df[(df['income_type'] == 'компаньон')]\n",
    "df_gosslujaci = df[(df['income_type'] == 'госслужащий')]\n",
    "df_unemployed = df[(df['income_type'] == 'безработный')]\n",
    "df_bisnesmen = df[(df['income_type'] == 'предприниматель')]\n",
    "df_student = df[(df['income_type'] == 'студент')]\n",
    "df_dikret = df[(df['income_type'] == 'в декрете')]\n",
    "\n",
    "#print(df_sotrudnik.info())\n",
    "#print(df_penciober.info())\n",
    "#print(df_companion.info())\n",
    "#print(df_gosslujaci.info())\n",
    "#print(df_unemployed.info())\n",
    "#print(df_bisnesmen.info())\n",
    "#print(df_student.info())\n",
    "#print(df_dikret.info())\n",
    "\n",
    "# среди сотрудников 1105 из 11119 человек без стажа и дохода, среди пенсионеров 413 из 3856\n",
    "# среди компаньонов 508 из 5085, среди госслужащих 147 из 1459, из предпринимателей 1 из 2-х\n",
    "\n",
    "\n",
    "# буду полагать что пропуски появились по причине того что люди либо только устроились на работу, \n",
    "# либо взяли кредит под залог имущества, или же не успели принести справку в любом случае у них нет стажа и дохода, \n",
    "# поэтому заполним 0\n",
    "# заполняю целиком таблицу, так как пропущенные значения только в столбцах ['days_employed'] ['total_income']\n",
    "df = df.fillna(0) \n",
    "df.info()"
   ]
  },
  {
   "cell_type": "markdown",
   "metadata": {},
   "source": [
    "### Вывод"
   ]
  },
  {
   "cell_type": "markdown",
   "metadata": {},
   "source": [
    "- Пропущенных значения заменил на 0, так как люди либо только устроились на работу, либо взяли кредит под залог имущества, или же не успели принести справку в любом случае у них не указан стаж и доход."
   ]
  },
  {
   "cell_type": "markdown",
   "metadata": {},
   "source": [
    "### Замена типа данных"
   ]
  },
  {
   "cell_type": "code",
   "execution_count": 98,
   "metadata": {},
   "outputs": [
    {
     "name": "stdout",
     "output_type": "stream",
     "text": [
      "<class 'pandas.core.frame.DataFrame'>\n",
      "RangeIndex: 21525 entries, 0 to 21524\n",
      "Data columns (total 12 columns):\n",
      "children            21525 non-null int64\n",
      "days_employed       21525 non-null int64\n",
      "dob_years           21525 non-null int64\n",
      "education           21525 non-null object\n",
      "education_id        21525 non-null int64\n",
      "family_status       21525 non-null object\n",
      "family_status_id    21525 non-null int64\n",
      "gender              21525 non-null object\n",
      "income_type         21525 non-null object\n",
      "debt                21525 non-null int64\n",
      "total_income        21525 non-null int64\n",
      "purpose             21525 non-null object\n",
      "dtypes: int64(7), object(5)\n",
      "memory usage: 2.0+ MB\n"
     ]
    }
   ],
   "source": [
    "# замените вещественный тип данных на целочисленный.\n",
    "# переведем тип данных из float в int в столбцах: ['days_employed'] и ['total_income']\n",
    "\n",
    "df['days_employed'] = df['days_employed'].astype('int')\n",
    "df['total_income'] = df['total_income'].astype('int')\n",
    "df.info()\n",
    "\n",
    "# df.head()\n",
    "\n",
    "# рассмотрим графу ['days_employed'], в ней есть отрицательные и положительные значения, стаж у нас не бывает отрицательным.\n",
    "\n",
    "# df_plus = df[df['days_employed'] > 0]\n",
    "# df_minus = df[df['days_employed'] < 0]\n",
    "\n",
    "#просмотрим минимальные и максимальные значения в каждом случае\n",
    "\n",
    "# print(df_plus['days_employed'].min(), df_plus['days_employed'].max())\n",
    "# print(df_minus['days_employed'].min(), df_minus['days_employed'].max())\n",
    "\n",
    "# трудовой стаж исчисляется в днях, в связи с этим в положительных данных ошибка.\n",
    "\n",
    "# print(df_plus['days_employed'].count())\n",
    "# print(df_minus['days_employed'].count())\n",
    "\n",
    "# положительных данных намного меньше, поэтому ими мы можем пожертвовать, чтобы можно было использовать более понятную информацию\n",
    "\n",
    "df = df[df['days_employed'] <= 0]\n",
    "df['days_employed'] = df['days_employed'] * -1\n",
    "\n",
    "# print(df.head())\n",
    "# print(df['days_employed'].min(), df['days_employed'].max())"
   ]
  },
  {
   "cell_type": "markdown",
   "metadata": {},
   "source": [
    "### Вывод"
   ]
  },
  {
   "cell_type": "markdown",
   "metadata": {},
   "source": [
    "- Теперь в графе ['days_employed'] со стажем только правельные показатели."
   ]
  },
  {
   "cell_type": "markdown",
   "metadata": {},
   "source": [
    "### Обработка дубликатов"
   ]
  },
  {
   "cell_type": "code",
   "execution_count": 99,
   "metadata": {},
   "outputs": [
    {
     "name": "stdout",
     "output_type": "stream",
     "text": [
      "Уникальные значения в графе education: ['высшее' 'среднее' 'неоконченное высшее' 'начальное' 'ученая степень']\n",
      "\n",
      "Уникальные значения в графе family_status: ['женат / замужем' 'гражданский брак' 'в разводе' 'не женат / не замужем'\n",
      " 'вдовец / вдова']\n",
      "\n",
      "Уникальные значения в графе gender: ['f' 'm' 'xna']\n",
      "\n",
      "Уникальные значения в графе income_type: ['сотрудник' 'компаньон' 'пенсионер' 'госслужащий' 'предприниматель'\n",
      " 'студент' 'в декрете']\n",
      "\n",
      "Уникальные значения в графе purpose: ['покупка жилья' 'приобретение автомобиля' 'дополнительное образование'\n",
      " 'операции с жильем' 'образование' 'на проведение свадьбы'\n",
      " 'покупка жилья для семьи' 'покупка недвижимости'\n",
      " 'покупка коммерческой недвижимости' 'сыграть свадьбу'\n",
      " 'покупка жилой недвижимости' 'строительство собственной недвижимости'\n",
      " 'недвижимость' 'строительство недвижимости'\n",
      " 'на покупку своего автомобиля' 'на покупку подержанного автомобиля'\n",
      " 'строительство жилой недвижимости' 'жилье'\n",
      " 'операции со своей недвижимостью' 'автомобили' 'заняться образованием'\n",
      " 'сделка с подержанным автомобилем' 'получение образования' 'автомобиль'\n",
      " 'свадьба' 'получение дополнительного образования' 'покупка своего жилья'\n",
      " 'операции с недвижимостью' 'получение высшего образования'\n",
      " 'операции с коммерческой недвижимостью' 'свой автомобиль'\n",
      " 'сделка с автомобилем' 'профильное образование' 'высшее образование'\n",
      " 'на покупку автомобиля' 'покупка жилья для сдачи' 'ремонт жилью'\n",
      " 'заняться высшим образованием']\n",
      "\n"
     ]
    }
   ],
   "source": [
    "# определим где и какие дубликаты есть\n",
    "# приведем все данные типа object к нижнему регистру для дальнейшей простоты обработки данных\n",
    "df['education'] = df['education'].str.lower()\n",
    "df['family_status'] = df['family_status'].str.lower()\n",
    "df['gender'] = df['gender'].str.lower()\n",
    "df['income_type'] = df['income_type'].str.lower()\n",
    "df['purpose'] = df['purpose'].str.lower()\n",
    "# Все данные типа object приведены к нижнему регистру для простоты обработки данных и упрощения дальнейшего поиска дубликатов.\n",
    "\n",
    "\n",
    "\n",
    "# Посмотрим общее количество заемщиков с разным уровнем образования.\n",
    "df.sort_values('education')['education'].value_counts()\n",
    "\n",
    "# Удалим те же строки в массиве данных.\n",
    "df = df.drop_duplicates().reset_index(drop = True)\n",
    "\n",
    "# Теперь посмотрим общее количество дубликатов\n",
    "df.duplicated(keep=False).reset_index(drop=True).sum()\n",
    "\n",
    "\n",
    "\n",
    "\n",
    "print('Уникальные значения в графе education:', df['education'].unique())\n",
    "print()\n",
    "print('Уникальные значения в графе family_status:', df['family_status'].unique())\n",
    "print()\n",
    "print('Уникальные значения в графе gender:', df['gender'].unique())\n",
    "print()\n",
    "print('Уникальные значения в графе income_type:', df['income_type'].unique())\n",
    "print()\n",
    "print('Уникальные значения в графе purpose:', df['purpose'].unique())\n",
    "print()\n",
    "# оказывается в колонке 'gender' есть значения 'xna' (не изветсен пол) в колонке 'purpose' много взаимозаменяемых значений, \n",
    "# например 'приобретение автомобиля' и 'автомобиль'"
   ]
  },
  {
   "cell_type": "markdown",
   "metadata": {},
   "source": [
    "- Преобразованные значения в столбце ['education'] к одиному регистру. Используя метод .duplicated(), мы рассчитали количество дубликатов, строк с повторяющимися значениями в индексах. Убрали все те же строки.\n",
    "- Оказывается в колонке ['gender'] есть значения 'xna' (не изветсен пол)\n",
    "в колонке ['purpose'] много взаимозаменяемых значений, например 'приобретение автомобиля' и 'автомобиль'"
   ]
  },
  {
   "cell_type": "markdown",
   "metadata": {},
   "source": [
    "### Лемматизация"
   ]
  },
  {
   "cell_type": "code",
   "execution_count": 100,
   "metadata": {},
   "outputs": [
    {
     "name": "stdout",
     "output_type": "stream",
     "text": [
      "[list(['покупка', ' ', 'жилье', '\\n'])\n",
      " list(['приобретение', ' ', 'автомобиль', '\\n'])\n",
      " list(['покупка', ' ', 'жилье', '\\n']) ... list(['недвижимость', '\\n'])\n",
      " list(['на', ' ', 'покупка', ' ', 'свой', ' ', 'автомобиль', '\\n'])\n",
      " list(['на', ' ', 'покупка', ' ', 'автомобиль', '\\n'])]\n",
      "Посчитаем самые популярные леммы в графе purpose: Counter({' ': 28191, '\\n': 18009, 'недвижимость': 5341, 'покупка': 4964, 'жилье': 3768, 'автомобиль': 3591, 'образование': 3359, 'с': 2449, 'операция': 2191, 'свадьба': 1950, 'свой': 1907, 'на': 1857, 'строительство': 1568, 'высокий': 1160, 'коммерческий': 1099, 'получение': 1092, 'для': 1080, 'жилой': 1033, 'сделка': 788, 'заниматься': 769, 'дополнительный': 744, 'проведение': 642, 'сыграть': 638, 'сдача': 549, 'собственный': 533, 'семья': 531, 'со': 530, 'ремонт': 516, 'подержанный': 407, 'подержать': 394, 'приобретение': 384, 'профильный': 366})\n",
      "Cоздадим словарь с категориями в графе purpose, вдальнейшем его можно будет пополнять: ['жилье', 'недвижимость', 'образование', 'автомобиль', 'свадьба']\n"
     ]
    }
   ],
   "source": [
    "# для добавления создания лемм\n",
    "from pymystem3 import Mystem\n",
    "m = Mystem()\n",
    "\n",
    "def do_lemma(row):\n",
    "    lemma = m.lemmatize(row)\n",
    "    return lemma\n",
    "\n",
    "# создадим дополнительный столбец с лемматизированными целями\n",
    "df['purpose_lemma'] = df['purpose'].apply(do_lemma)\n",
    "\n",
    "# создадим строку из уникальных целей\n",
    "all_lemmas_list = df['purpose_lemma'].values\n",
    "flat_lemmas_list = []\n",
    "for sublist in all_lemmas_list:\n",
    "   for item in sublist:\n",
    "       flat_lemmas_list.append(item)\n",
    "        \n",
    "print(all_lemmas_list)\n",
    "from collections import Counter\n",
    "\n",
    "# посчитаем самые популярные слова, чтобы обобщить цели кредитов, это: недвижимость, образование, автомобиль, свадьба\n",
    "print('Посчитаем самые популярные леммы в графе purpose:', Counter(flat_lemmas_list))\n",
    "\n",
    "# функция для создания словаря\n",
    "def dictionary(world, data):\n",
    "    for row in data:\n",
    "        if world == row:\n",
    "            return row\n",
    "\n",
    "# создадим словарь с категориями, вдальнейшем его можно будет пополнять\n",
    "\n",
    "dict = [] # вручную добавим выбранные мною слова\n",
    "dict.append(dictionary('жилье', flat_lemmas_list))\n",
    "dict.append(dictionary('недвижимость', flat_lemmas_list))\n",
    "dict.append(dictionary('образование', flat_lemmas_list))\n",
    "dict.append(dictionary('автомобиль', flat_lemmas_list))\n",
    "dict.append(dictionary('свадьба', flat_lemmas_list))\n",
    "\n",
    "print('Cоздадим словарь с категориями в графе purpose, вдальнейшем его можно будет пополнять:', dict)"
   ]
  },
  {
   "cell_type": "markdown",
   "metadata": {},
   "source": [
    "### Вывод"
   ]
  },
  {
   "cell_type": "markdown",
   "metadata": {},
   "source": []
  },
  {
   "cell_type": "markdown",
   "metadata": {},
   "source": [
    "### Категоризация данных"
   ]
  },
  {
   "cell_type": "code",
   "execution_count": 101,
   "metadata": {},
   "outputs": [
    {
     "name": "stdout",
     "output_type": "stream",
     "text": [
      "                      purpose category_purpose\n",
      "0               покупка жилья            жилье\n",
      "1     приобретение автомобиля       автомобиль\n",
      "2               покупка жилья            жилье\n",
      "3  дополнительное образование      образование\n",
      "4               покупка жилья            жилье\n",
      "5           операции с жильем            жилье\n",
      "6                 образование      образование\n",
      "7       на проведение свадьбы          свадьба\n",
      "8     покупка жилья для семьи            жилье\n",
      "9        покупка недвижимости     недвижимость\n",
      "   total_income category_income\n",
      "0        253875         250-500\n",
      "1        112080         100-250\n",
      "2        145885         100-250\n",
      "3        267628         250-500\n",
      "4        255763         250-500\n",
      "5        240525         100-250\n",
      "6        135823         100-250\n",
      "7         95856          50-100\n",
      "8        144425         100-250\n",
      "9        113943         100-250\n"
     ]
    }
   ],
   "source": [
    "# создаем столбец с категориями\n",
    "# функция которая выдает категории\n",
    "def category(data):\n",
    "    if dict[0] in data:\n",
    "        return dict[0]\n",
    "    elif dict[1] in data:\n",
    "        return dict[1]\n",
    "    elif dict[2] in data:\n",
    "        return dict[2]\n",
    "    elif dict[3] in data:\n",
    "        return dict[3]\n",
    "    else:\n",
    "        return dict[4]\n",
    "    \n",
    "# Cоздаем столбец с категориями целей получения кредита\n",
    "df['category_purpose'] = df['purpose_lemma'].apply(category)\n",
    "print(df.loc[:, ['purpose', 'category_purpose']].head(10))\n",
    "\n",
    "# функция которая выдает категории дохода\n",
    "# Разобьем доход на уровни: 0, 0-20, 20-50, 50-100, 100-250, 250-500, 500\n",
    "# Выбрал такое деление на доходность для более детального среза информации.\n",
    "\n",
    "def income(data):\n",
    "    if data == 0:\n",
    "        return '0'\n",
    "    elif data <= 20000:\n",
    "        return '0-20'\n",
    "    elif data <= 50000:\n",
    "        return '20-50'\n",
    "    elif data <= 100000:\n",
    "        return '50-100'\n",
    "    elif data <= 250000:\n",
    "        return '100-250'\n",
    "    elif data <= 500000:\n",
    "        return '250-500'\n",
    "    else:\n",
    "        return '500+'\n",
    "\n",
    "df['category_income'] = df['total_income'].apply(income)\n",
    "\n",
    "# Cоздаем столбец с категориями\n",
    "print(df.loc[:, ['total_income', 'category_income']] .head(10))"
   ]
  },
  {
   "cell_type": "markdown",
   "metadata": {},
   "source": [
    "### Вывод"
   ]
  },
  {
   "cell_type": "markdown",
   "metadata": {},
   "source": [
    "- cоздал столбец с категориями целей получения кредита\n",
    "+ cоздал столбец с категориями доходности"
   ]
  },
  {
   "cell_type": "markdown",
   "metadata": {},
   "source": [
    "### Шаг 3. Ответьте на вопросы"
   ]
  },
  {
   "cell_type": "markdown",
   "metadata": {},
   "source": [
    "- Есть ли зависимость между наличием детей и возвратом кредита в срок?"
   ]
  },
  {
   "cell_type": "code",
   "execution_count": 102,
   "metadata": {},
   "outputs": [
    {
     "name": "stdout",
     "output_type": "stream",
     "text": [
      "Процент среди людей с детьми, которые имели задолжности: 9.4%\n",
      "Процент среди бездетных, которые имели задолжности: 8.2%\n"
     ]
    }
   ],
   "source": [
    "df_kindred = df[df['children'] != 0]\n",
    "df_freekind = df[df['children'] == 0]\n",
    "\n",
    "kindred_debit = df_kindred['debt'].sum() / len(df_kindred)\n",
    "freekind_debit = df_freekind['debt'].sum() / len(df_freekind)\n",
    "\n",
    "print('Процент среди людей с детьми, которые имели задолжности: {:.1%}'.format(kindred_debit))\n",
    "print('Процент среди бездетных, которые имели задолжности: {:.1%}'.format(freekind_debit))"
   ]
  },
  {
   "cell_type": "markdown",
   "metadata": {},
   "source": [
    "### Вывод"
   ]
  },
  {
   "cell_type": "markdown",
   "metadata": {},
   "source": [
    "Казалось бы что люди, которые заводят детей более ответственно относятся к выплате долгов, но на деле оказалось наоборот."
   ]
  },
  {
   "cell_type": "markdown",
   "metadata": {},
   "source": [
    "- Есть ли зависимость между семейным положением и возвратом кредита в срок?"
   ]
  },
  {
   "cell_type": "code",
   "execution_count": 103,
   "metadata": {},
   "outputs": [
    {
     "name": "stdout",
     "output_type": "stream",
     "text": [
      "['женат / замужем' 'гражданский брак' 'в разводе' 'не женат / не замужем'\n",
      " 'вдовец / вдова']\n",
      "[0 1 3 4 2]\n",
      "debt                   ratio %    sum\n",
      "family_status                        \n",
      "в разводе                    8    997\n",
      "вдовец / вдова               6    475\n",
      "гражданский брак            11   3574\n",
      "женат / замужем              8  10466\n",
      "не женат / не замужем       11   2497\n"
     ]
    }
   ],
   "source": [
    "# Типы семейного положения и их id соответственно:\n",
    "print(df['family_status'].unique())\n",
    "print(df['family_status_id'].unique())\n",
    "# ['женат / замужем' 'гражданский брак' 'вдовец / вдова' 'в разводе' 'не женат / не замужем']\n",
    "# [0 1 2 3 4]\n",
    "\n",
    "# создаем таблицу data_pivot_family_status где смотрим дожников по категории семейного положения\n",
    "data_pivot_family_status = df.pivot_table(index='family_status', columns='debt', values='family_status_id', aggfunc='count')\n",
    "# считаем процент должников\n",
    "data_pivot_family_status['ratio %'] = (data_pivot_family_status[1] / data_pivot_family_status[0]) * 100\n",
    "data_pivot_family_status['ratio %'] = data_pivot_family_status['ratio %'].astype('int')\n",
    "# cчитаем сумму клиентов каждой категории\n",
    "data_pivot_family_status['sum'] = data_pivot_family_status[1] + data_pivot_family_status[0]\n",
    "\n",
    "\n",
    "print(data_pivot_family_status.loc[:, ['ratio %', 'sum']])"
   ]
  },
  {
   "cell_type": "markdown",
   "metadata": {},
   "source": [
    "### Вывод"
   ]
  },
  {
   "cell_type": "markdown",
   "metadata": {},
   "source": [
    "Из таблицы видно что те люди кто никогда не был в официальном браке более склонны к задолжностям: Гражданский брак, не женат / не замужем - 10% с задолжностями. В разводе, вдовец / вдова, женат / замужем - 7-8% с задолжностями."
   ]
  },
  {
   "cell_type": "markdown",
   "metadata": {},
   "source": [
    "- Есть ли зависимость между уровнем дохода и возвратом кредита в срок?"
   ]
  },
  {
   "cell_type": "code",
   "execution_count": 104,
   "metadata": {
    "scrolled": true
   },
   "outputs": [
    {
     "name": "stdout",
     "output_type": "stream",
     "text": [
      "debt             ratio %    sum\n",
      "category_income                \n",
      "0                      8   2103\n",
      "100-250                9  10199\n",
      "20-50                  7    192\n",
      "250-500                7   2328\n",
      "50-100                10   2984\n",
      "500+                   7    203\n"
     ]
    }
   ],
   "source": [
    "# Разобьем доход на уровни: 0, 0-20, 20-50, 50-100, 100-250, 250-500, 500\n",
    "# Выбрал такое деление на доходность для более детального среза информации.\n",
    "#создаем таблицу data_pivot_income где смотрим дожников по категории заработка\n",
    "data_pivot_income = df.pivot_table(index='category_income', columns='debt', values='total_income', aggfunc='count')\n",
    "#считаем процент должников\n",
    "data_pivot_income['ratio %'] = (data_pivot_income[1] / data_pivot_income[0]) * 100\n",
    "data_pivot_income['ratio %'] = data_pivot_income['ratio %'].astype('int')\n",
    "#cчитаем сумму клиентов каждой категории\n",
    "data_pivot_income['sum'] = data_pivot_income[1] + data_pivot_income[0]\n",
    "\n",
    "print(data_pivot_income.loc[:, ['ratio %', 'sum']])"
   ]
  },
  {
   "cell_type": "markdown",
   "metadata": {},
   "source": []
  },
  {
   "cell_type": "markdown",
   "metadata": {},
   "source": [
    "Из таблицы видно что те люди кто имеет заработок выше среднего более склонны к задолжностям: 50-250 тысяч рублей в месяц - 9-10% с задолжностями до 50 и свыше 250 тысяч рублей в месяц - 7% с задолжностями."
   ]
  },
  {
   "cell_type": "markdown",
   "metadata": {},
   "source": [
    "- Как разные цели кредита влияют на его возврат в срок?"
   ]
  },
  {
   "cell_type": "code",
   "execution_count": 105,
   "metadata": {},
   "outputs": [
    {
     "name": "stdout",
     "output_type": "stream",
     "text": [
      "debt              ratio %   sum\n",
      "category_purpose               \n",
      "автомобиль             11  3591\n",
      "жилье                   7  3768\n",
      "недвижимость            8  5341\n",
      "образование            10  3359\n",
      "свадьба                 9  1950\n"
     ]
    }
   ],
   "source": [
    "#создаем таблицу data_pivot_income где смотрим дожников по цели кредита\n",
    "data_pivot_purpose = df.pivot_table(index='category_purpose', columns='debt', values='purpose', aggfunc='count')\n",
    "#считаем процент должников\n",
    "data_pivot_purpose['ratio %'] = (data_pivot_purpose[1] / data_pivot_purpose[0]) * 100\n",
    "data_pivot_purpose['ratio %'] = data_pivot_purpose['ratio %'].astype('int')\n",
    "#cчитаем сумму клиентов каждой категории\n",
    "data_pivot_purpose['sum'] = data_pivot_purpose[1] + data_pivot_purpose[0]\n",
    "\n",
    "print(data_pivot_purpose.loc[:, ['ratio %', 'sum']])"
   ]
  },
  {
   "cell_type": "markdown",
   "metadata": {},
   "source": [
    "### Вывод"
   ]
  },
  {
   "cell_type": "markdown",
   "metadata": {},
   "source": [
    "Из таблицы видно что те люди кто берет кредит на более мелкие цели более склонны к задолжностям: Автомобиль, образование, свадьба - 9-11% с задолжностями: Жилье, недвижимость - 7-8% с задолжностями."
   ]
  },
  {
   "cell_type": "markdown",
   "metadata": {},
   "source": [
    "### Шаг 4. Общий вывод"
   ]
  },
  {
   "cell_type": "markdown",
   "metadata": {},
   "source": [
    "Из выше указанных исследований видно что более надежными оказались люди, которые были или состоят в браке, имеют ЗП, до 50 и свыше 250 тысяч рублей в месяц и с более масштабной целью кредита, например жилье или недвижимость."
   ]
  },
  {
   "cell_type": "markdown",
   "metadata": {},
   "source": [
    "### Чек-лист готовности проекта\n",
    "\n",
    "Поставьте 'x' в выполненных пунктах. Далее нажмите Shift+Enter."
   ]
  },
  {
   "cell_type": "markdown",
   "metadata": {},
   "source": [
    "- [x]  открыт файл;\n",
    "- [x]  файл изучен;\n",
    "- [x]  определены пропущенные значения;\n",
    "- [x]  заполнены пропущенные значения;\n",
    "- [x]  есть пояснение какие пропущенные значения обнаружены;\n",
    "- [x]  описаны возможные причины появления пропусков в данных;\n",
    "- [x]  объяснено по какому принципу заполнены пропуски;\n",
    "- [x]  заменен вещественный тип данных на целочисленный;\n",
    "- [x]  есть пояснение какой метод используется для изменения типа данных и почему;\n",
    "- [x]  удалены дубликаты;\n",
    "- [x]  есть пояснение какой метод используется для поиска и удаления дубликатов;\n",
    "- [x]  описаны возможные причины появления дубликатов в данных;\n",
    "- [x]  выделены леммы в значениях столбца с целями получения кредита;\n",
    "- [x]  описан процесс лемматизации;\n",
    "- [x]  данные категоризированы;\n",
    "- [x]  есть объяснение принципа категоризации данных;\n",
    "- [x]  есть ответ на вопрос \"Есть ли зависимость между наличием детей и возвратом кредита в срок?\";\n",
    "- [x]  есть ответ на вопрос \"Есть ли зависимость между семейным положением и возвратом кредита в срок?\";\n",
    "- [x]  есть ответ на вопрос \"Есть ли зависимость между уровнем дохода и возвратом кредита в срок?\";\n",
    "- [x]  есть ответ на вопрос \"Как разные цели кредита влияют на его возврат в срок?\";\n",
    "- [x]  в каждом этапе есть выводы;\n",
    "- [x]  есть общий вывод."
   ]
  }
 ],
 "metadata": {
  "kernelspec": {
   "display_name": "Python 3",
   "language": "python",
   "name": "python3"
  },
  "language_info": {
   "codemirror_mode": {
    "name": "ipython",
    "version": 3
   },
   "file_extension": ".py",
   "mimetype": "text/x-python",
   "name": "python",
   "nbconvert_exporter": "python",
   "pygments_lexer": "ipython3",
   "version": "3.7.6"
  }
 },
 "nbformat": 4,
 "nbformat_minor": 2
}
