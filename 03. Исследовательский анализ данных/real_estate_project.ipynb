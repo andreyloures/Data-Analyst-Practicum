{
 "cells": [
  {
   "cell_type": "markdown",
   "metadata": {},
   "source": [
    "# Исследование объявлений о продаже квартир\n",
    "\n",
    "В вашем распоряжении данные сервиса Яндекс.Недвижимость — архив объявлений о продаже квартир в Санкт-Петербурге и соседних населённых пунктов за несколько лет. Нужно научиться определять рыночную стоимость объектов недвижимости. Ваша задача — установить параметры. Это позволит построить автоматизированную систему: она отследит аномалии и мошенническую деятельность. \n",
    "\n",
    "По каждой квартире на продажу доступны два вида данных. Первые вписаны пользователем, вторые — получены автоматически на основе картографических данных. Например, расстояние до центра, аэропорта, ближайшего парка и водоёма. "
   ]
  },
  {
   "cell_type": "markdown",
   "metadata": {},
   "source": [
    "# Инструкция по выполнению проекта"
   ]
  },
  {
   "cell_type": "markdown",
   "metadata": {},
   "source": [
    "- Шаг 1. Откройте файл с данными и изучите общую информацию\n",
    "\n",
    "- Шаг 2. Предобработка данных\n",
    "определите и изучите пропущенные значения:\n",
    "для некоторых пропущенных значений можно предположить логичную замену. Например, если человек не указал число балконов — скорее всего, их нет. Такие пропуски правильно заменить на 0. Для других типов данных нет подходящего значения на замену. В этом случае правильно оставить эти значения пустыми. Отсутствие значения — тоже важный сигнал, который не нужно прятать;\n",
    "заполните пропуски, где это уместно. Опишите, почему вы решили заполнить пропуски именно в этих столбцах и как выбрали значения;\n",
    "укажите причины, которые могли привести к пропускам в данных.\n",
    "приведите данные к нужным типам:\n",
    "поясните, в каких столбцах нужно изменить тип данных и почему.\n",
    "\n",
    "- Шаг 3. Посчитайте и добавьте в таблицу:\n",
    "цену квадратного метра;\n",
    "день недели, месяц и год публикации объявления;\n",
    "этаж квартиры; варианты — первый, последний, другой;\n",
    "соотношение жилой и общей площади, а также отношение площади кухни к общей.\n",
    "\n",
    "- Шаг 4. Проведите исследовательский анализ данных и выполните инструкции:\n",
    "Изучите следующие параметры: площадь, цена, число комнат, высота потолков. Постройте гистограммы для каждого параметра.\n",
    "Изучите время продажи квартиры. Постройте гистограмму. Посчитайте среднее и медиану. Опишите, сколько обычно занимает продажа. Когда можно считать, что продажи прошли очень быстро, а когда необычно долго?\n",
    "Уберите редкие и выбивающиеся значения. Опишите, какие особенности обнаружили.\n",
    "Какие факторы больше всего влияют на стоимость квартиры? Изучите, зависит ли цена от квадратного метра, числа комнат, удалённости от центра. Изучите зависимость цены от того, на каком этаже расположена квартира: первом, последнем или другом. Также изучите зависимость от даты размещения: дня недели, месяца и года.\n",
    "Выберите 10 населённых пунктов с наибольшим числом объявлений. Посчитайте среднюю цену квадратного метра в этих населённых пунктах. Выделите населённые пункты с самой высокой и низкой стоимостью жилья. Эти данные можно найти по имени в столбце 'locality_name'.\n",
    "Изучите предложения квартир: для каждой квартиры есть информация о расстоянии до центра. Выделите квартиры в Санкт-Петербурге ('locality_name'). Ваша задача — выяснить, какая область входит в центр. Создайте столбец с расстоянием до центра в километрах: округлите до целых значений. После этого посчитайте среднюю цену для каждого километра. Постройте график: он должен показывать, как цена зависит от удалённости от центра. Определите границу, где график сильно меняется — это и будет центральная зона.\n",
    "Выделите сегмент квартир в центре. Проанализируйте эту территорию и изучите следующие параметры: площадь, цена, число комнат, высота потолков. Также выделите факторы, которые влияют на стоимость квартиры (число комнат, этаж, удалённость от центра, дата размещения объявления). Сделайте выводы. Отличаются ли они от общих выводов по всему городу?\n",
    "\n",
    "- Шаг 5. Напишите общий вывод"
   ]
  },
  {
   "cell_type": "markdown",
   "metadata": {},
   "source": [
    "# Описание данных\n",
    "- airports_nearest — расстояние до ближайшего аэропорта в метрах (м)\n",
    "- balcony — число балконов\n",
    "- ceiling_height — высота потолков (м)\n",
    "- cityCenters_nearest — расстояние до центра города (м)\n",
    "- days_exposition — сколько дней было размещено объявление (от публикации до снятия)\n",
    "- first_day_exposition — дата публикации\n",
    "- floor — этаж\n",
    "- floors_total — всего этажей в доме\n",
    "- is_apartment — апартаменты (булев тип)\n",
    "- kitchen_area — площадь кухни в квадратных метрах (м²)\n",
    "- last_price — цена на момент снятия с публикации\n",
    "- living_area — жилая площадь в квадратных метрах(м²)\n",
    "- locality_name — название населённого пункта\n",
    "- open_plan — свободная планировка (булев тип)\n",
    "- parks_around3000 — число парков в радиусе 3 км\n",
    "- parks_nearest — расстояние до ближайшего парка (м)\n",
    "- ponds_around3000 — число водоёмов в радиусе 3 км\n",
    "- ponds_nearest — расстояние до ближайшего водоёма (м)\n",
    "- rooms — число комнат\n",
    "- studio — квартира-студия (булев тип)\n",
    "- total_area — площадь квартиры в квадратных метрах (м²)\n",
    "- total_images — число фотографий квартиры в объявлении\n",
    "\n",
    "- Пояснение: апартаменты — это нежилые помещения, не относящиеся к жилому фонду, но имеющие необходимые условия для проживания."
   ]
  },
  {
   "cell_type": "markdown",
   "metadata": {},
   "source": [
    "### Шаг 1. Откройте файл с данными и изучите общую информацию. "
   ]
  },
  {
   "cell_type": "code",
   "execution_count": 1,
   "metadata": {},
   "outputs": [],
   "source": [
    "import pandas as pd\n",
    "import numpy as np\n",
    "import matplotlib.pyplot as plt"
   ]
  },
  {
   "cell_type": "code",
   "execution_count": 2,
   "metadata": {},
   "outputs": [],
   "source": [
    "data = pd.read_csv('/datasets/real_estate_data.csv', sep='\\t')"
   ]
  },
  {
   "cell_type": "code",
   "execution_count": 3,
   "metadata": {},
   "outputs": [
    {
     "data": {
      "text/plain": [
       "(23699, 22)"
      ]
     },
     "execution_count": 3,
     "metadata": {},
     "output_type": "execute_result"
    }
   ],
   "source": [
    "data.shape"
   ]
  },
  {
   "cell_type": "markdown",
   "metadata": {},
   "source": [
    "- <font color=green>Получено 22 атрибута.</font>\n",
    "\n",
    "- <font color=green>Давайте посмотрим на первые 10 строк таблицы данных. </font>"
   ]
  },
  {
   "cell_type": "code",
   "execution_count": 4,
   "metadata": {},
   "outputs": [
    {
     "data": {
      "text/html": [
       "<div>\n",
       "<style scoped>\n",
       "    .dataframe tbody tr th:only-of-type {\n",
       "        vertical-align: middle;\n",
       "    }\n",
       "\n",
       "    .dataframe tbody tr th {\n",
       "        vertical-align: top;\n",
       "    }\n",
       "\n",
       "    .dataframe thead th {\n",
       "        text-align: right;\n",
       "    }\n",
       "</style>\n",
       "<table border=\"1\" class=\"dataframe\">\n",
       "  <thead>\n",
       "    <tr style=\"text-align: right;\">\n",
       "      <th></th>\n",
       "      <th>total_images</th>\n",
       "      <th>last_price</th>\n",
       "      <th>total_area</th>\n",
       "      <th>first_day_exposition</th>\n",
       "      <th>rooms</th>\n",
       "      <th>ceiling_height</th>\n",
       "      <th>floors_total</th>\n",
       "      <th>living_area</th>\n",
       "      <th>floor</th>\n",
       "      <th>is_apartment</th>\n",
       "      <th>...</th>\n",
       "      <th>kitchen_area</th>\n",
       "      <th>balcony</th>\n",
       "      <th>locality_name</th>\n",
       "      <th>airports_nearest</th>\n",
       "      <th>cityCenters_nearest</th>\n",
       "      <th>parks_around3000</th>\n",
       "      <th>parks_nearest</th>\n",
       "      <th>ponds_around3000</th>\n",
       "      <th>ponds_nearest</th>\n",
       "      <th>days_exposition</th>\n",
       "    </tr>\n",
       "  </thead>\n",
       "  <tbody>\n",
       "    <tr>\n",
       "      <td>0</td>\n",
       "      <td>20</td>\n",
       "      <td>13000000.0</td>\n",
       "      <td>108.00</td>\n",
       "      <td>2019-03-07T00:00:00</td>\n",
       "      <td>3</td>\n",
       "      <td>2.70</td>\n",
       "      <td>16.0</td>\n",
       "      <td>51.00</td>\n",
       "      <td>8</td>\n",
       "      <td>NaN</td>\n",
       "      <td>...</td>\n",
       "      <td>25.00</td>\n",
       "      <td>NaN</td>\n",
       "      <td>Санкт-Петербург</td>\n",
       "      <td>18863.0</td>\n",
       "      <td>16028.0</td>\n",
       "      <td>1.0</td>\n",
       "      <td>482.0</td>\n",
       "      <td>2.0</td>\n",
       "      <td>755.0</td>\n",
       "      <td>NaN</td>\n",
       "    </tr>\n",
       "    <tr>\n",
       "      <td>1</td>\n",
       "      <td>7</td>\n",
       "      <td>3350000.0</td>\n",
       "      <td>40.40</td>\n",
       "      <td>2018-12-04T00:00:00</td>\n",
       "      <td>1</td>\n",
       "      <td>NaN</td>\n",
       "      <td>11.0</td>\n",
       "      <td>18.60</td>\n",
       "      <td>1</td>\n",
       "      <td>NaN</td>\n",
       "      <td>...</td>\n",
       "      <td>11.00</td>\n",
       "      <td>2.0</td>\n",
       "      <td>посёлок Шушары</td>\n",
       "      <td>12817.0</td>\n",
       "      <td>18603.0</td>\n",
       "      <td>0.0</td>\n",
       "      <td>NaN</td>\n",
       "      <td>0.0</td>\n",
       "      <td>NaN</td>\n",
       "      <td>81.0</td>\n",
       "    </tr>\n",
       "    <tr>\n",
       "      <td>2</td>\n",
       "      <td>10</td>\n",
       "      <td>5196000.0</td>\n",
       "      <td>56.00</td>\n",
       "      <td>2015-08-20T00:00:00</td>\n",
       "      <td>2</td>\n",
       "      <td>NaN</td>\n",
       "      <td>5.0</td>\n",
       "      <td>34.30</td>\n",
       "      <td>4</td>\n",
       "      <td>NaN</td>\n",
       "      <td>...</td>\n",
       "      <td>8.30</td>\n",
       "      <td>0.0</td>\n",
       "      <td>Санкт-Петербург</td>\n",
       "      <td>21741.0</td>\n",
       "      <td>13933.0</td>\n",
       "      <td>1.0</td>\n",
       "      <td>90.0</td>\n",
       "      <td>2.0</td>\n",
       "      <td>574.0</td>\n",
       "      <td>558.0</td>\n",
       "    </tr>\n",
       "    <tr>\n",
       "      <td>3</td>\n",
       "      <td>0</td>\n",
       "      <td>64900000.0</td>\n",
       "      <td>159.00</td>\n",
       "      <td>2015-07-24T00:00:00</td>\n",
       "      <td>3</td>\n",
       "      <td>NaN</td>\n",
       "      <td>14.0</td>\n",
       "      <td>NaN</td>\n",
       "      <td>9</td>\n",
       "      <td>NaN</td>\n",
       "      <td>...</td>\n",
       "      <td>NaN</td>\n",
       "      <td>0.0</td>\n",
       "      <td>Санкт-Петербург</td>\n",
       "      <td>28098.0</td>\n",
       "      <td>6800.0</td>\n",
       "      <td>2.0</td>\n",
       "      <td>84.0</td>\n",
       "      <td>3.0</td>\n",
       "      <td>234.0</td>\n",
       "      <td>424.0</td>\n",
       "    </tr>\n",
       "    <tr>\n",
       "      <td>4</td>\n",
       "      <td>2</td>\n",
       "      <td>10000000.0</td>\n",
       "      <td>100.00</td>\n",
       "      <td>2018-06-19T00:00:00</td>\n",
       "      <td>2</td>\n",
       "      <td>3.03</td>\n",
       "      <td>14.0</td>\n",
       "      <td>32.00</td>\n",
       "      <td>13</td>\n",
       "      <td>NaN</td>\n",
       "      <td>...</td>\n",
       "      <td>41.00</td>\n",
       "      <td>NaN</td>\n",
       "      <td>Санкт-Петербург</td>\n",
       "      <td>31856.0</td>\n",
       "      <td>8098.0</td>\n",
       "      <td>2.0</td>\n",
       "      <td>112.0</td>\n",
       "      <td>1.0</td>\n",
       "      <td>48.0</td>\n",
       "      <td>121.0</td>\n",
       "    </tr>\n",
       "    <tr>\n",
       "      <td>5</td>\n",
       "      <td>10</td>\n",
       "      <td>2890000.0</td>\n",
       "      <td>30.40</td>\n",
       "      <td>2018-09-10T00:00:00</td>\n",
       "      <td>1</td>\n",
       "      <td>NaN</td>\n",
       "      <td>12.0</td>\n",
       "      <td>14.40</td>\n",
       "      <td>5</td>\n",
       "      <td>NaN</td>\n",
       "      <td>...</td>\n",
       "      <td>9.10</td>\n",
       "      <td>NaN</td>\n",
       "      <td>городской посёлок Янино-1</td>\n",
       "      <td>NaN</td>\n",
       "      <td>NaN</td>\n",
       "      <td>NaN</td>\n",
       "      <td>NaN</td>\n",
       "      <td>NaN</td>\n",
       "      <td>NaN</td>\n",
       "      <td>55.0</td>\n",
       "    </tr>\n",
       "    <tr>\n",
       "      <td>6</td>\n",
       "      <td>6</td>\n",
       "      <td>3700000.0</td>\n",
       "      <td>37.30</td>\n",
       "      <td>2017-11-02T00:00:00</td>\n",
       "      <td>1</td>\n",
       "      <td>NaN</td>\n",
       "      <td>26.0</td>\n",
       "      <td>10.60</td>\n",
       "      <td>6</td>\n",
       "      <td>NaN</td>\n",
       "      <td>...</td>\n",
       "      <td>14.40</td>\n",
       "      <td>1.0</td>\n",
       "      <td>посёлок Парголово</td>\n",
       "      <td>52996.0</td>\n",
       "      <td>19143.0</td>\n",
       "      <td>0.0</td>\n",
       "      <td>NaN</td>\n",
       "      <td>0.0</td>\n",
       "      <td>NaN</td>\n",
       "      <td>155.0</td>\n",
       "    </tr>\n",
       "    <tr>\n",
       "      <td>7</td>\n",
       "      <td>5</td>\n",
       "      <td>7915000.0</td>\n",
       "      <td>71.60</td>\n",
       "      <td>2019-04-18T00:00:00</td>\n",
       "      <td>2</td>\n",
       "      <td>NaN</td>\n",
       "      <td>24.0</td>\n",
       "      <td>NaN</td>\n",
       "      <td>22</td>\n",
       "      <td>NaN</td>\n",
       "      <td>...</td>\n",
       "      <td>18.90</td>\n",
       "      <td>2.0</td>\n",
       "      <td>Санкт-Петербург</td>\n",
       "      <td>23982.0</td>\n",
       "      <td>11634.0</td>\n",
       "      <td>0.0</td>\n",
       "      <td>NaN</td>\n",
       "      <td>0.0</td>\n",
       "      <td>NaN</td>\n",
       "      <td>NaN</td>\n",
       "    </tr>\n",
       "    <tr>\n",
       "      <td>8</td>\n",
       "      <td>20</td>\n",
       "      <td>2900000.0</td>\n",
       "      <td>33.16</td>\n",
       "      <td>2018-05-23T00:00:00</td>\n",
       "      <td>1</td>\n",
       "      <td>NaN</td>\n",
       "      <td>27.0</td>\n",
       "      <td>15.43</td>\n",
       "      <td>26</td>\n",
       "      <td>NaN</td>\n",
       "      <td>...</td>\n",
       "      <td>8.81</td>\n",
       "      <td>NaN</td>\n",
       "      <td>посёлок Мурино</td>\n",
       "      <td>NaN</td>\n",
       "      <td>NaN</td>\n",
       "      <td>NaN</td>\n",
       "      <td>NaN</td>\n",
       "      <td>NaN</td>\n",
       "      <td>NaN</td>\n",
       "      <td>189.0</td>\n",
       "    </tr>\n",
       "    <tr>\n",
       "      <td>9</td>\n",
       "      <td>18</td>\n",
       "      <td>5400000.0</td>\n",
       "      <td>61.00</td>\n",
       "      <td>2017-02-26T00:00:00</td>\n",
       "      <td>3</td>\n",
       "      <td>2.50</td>\n",
       "      <td>9.0</td>\n",
       "      <td>43.60</td>\n",
       "      <td>7</td>\n",
       "      <td>NaN</td>\n",
       "      <td>...</td>\n",
       "      <td>6.50</td>\n",
       "      <td>2.0</td>\n",
       "      <td>Санкт-Петербург</td>\n",
       "      <td>50898.0</td>\n",
       "      <td>15008.0</td>\n",
       "      <td>0.0</td>\n",
       "      <td>NaN</td>\n",
       "      <td>0.0</td>\n",
       "      <td>NaN</td>\n",
       "      <td>289.0</td>\n",
       "    </tr>\n",
       "  </tbody>\n",
       "</table>\n",
       "<p>10 rows × 22 columns</p>\n",
       "</div>"
      ],
      "text/plain": [
       "   total_images  last_price  total_area first_day_exposition  rooms  \\\n",
       "0            20  13000000.0      108.00  2019-03-07T00:00:00      3   \n",
       "1             7   3350000.0       40.40  2018-12-04T00:00:00      1   \n",
       "2            10   5196000.0       56.00  2015-08-20T00:00:00      2   \n",
       "3             0  64900000.0      159.00  2015-07-24T00:00:00      3   \n",
       "4             2  10000000.0      100.00  2018-06-19T00:00:00      2   \n",
       "5            10   2890000.0       30.40  2018-09-10T00:00:00      1   \n",
       "6             6   3700000.0       37.30  2017-11-02T00:00:00      1   \n",
       "7             5   7915000.0       71.60  2019-04-18T00:00:00      2   \n",
       "8            20   2900000.0       33.16  2018-05-23T00:00:00      1   \n",
       "9            18   5400000.0       61.00  2017-02-26T00:00:00      3   \n",
       "\n",
       "   ceiling_height  floors_total  living_area  floor is_apartment  ...  \\\n",
       "0            2.70          16.0        51.00      8          NaN  ...   \n",
       "1             NaN          11.0        18.60      1          NaN  ...   \n",
       "2             NaN           5.0        34.30      4          NaN  ...   \n",
       "3             NaN          14.0          NaN      9          NaN  ...   \n",
       "4            3.03          14.0        32.00     13          NaN  ...   \n",
       "5             NaN          12.0        14.40      5          NaN  ...   \n",
       "6             NaN          26.0        10.60      6          NaN  ...   \n",
       "7             NaN          24.0          NaN     22          NaN  ...   \n",
       "8             NaN          27.0        15.43     26          NaN  ...   \n",
       "9            2.50           9.0        43.60      7          NaN  ...   \n",
       "\n",
       "   kitchen_area  balcony              locality_name  airports_nearest  \\\n",
       "0         25.00      NaN            Санкт-Петербург           18863.0   \n",
       "1         11.00      2.0             посёлок Шушары           12817.0   \n",
       "2          8.30      0.0            Санкт-Петербург           21741.0   \n",
       "3           NaN      0.0            Санкт-Петербург           28098.0   \n",
       "4         41.00      NaN            Санкт-Петербург           31856.0   \n",
       "5          9.10      NaN  городской посёлок Янино-1               NaN   \n",
       "6         14.40      1.0          посёлок Парголово           52996.0   \n",
       "7         18.90      2.0            Санкт-Петербург           23982.0   \n",
       "8          8.81      NaN             посёлок Мурино               NaN   \n",
       "9          6.50      2.0            Санкт-Петербург           50898.0   \n",
       "\n",
       "  cityCenters_nearest  parks_around3000  parks_nearest  ponds_around3000  \\\n",
       "0             16028.0               1.0          482.0               2.0   \n",
       "1             18603.0               0.0            NaN               0.0   \n",
       "2             13933.0               1.0           90.0               2.0   \n",
       "3              6800.0               2.0           84.0               3.0   \n",
       "4              8098.0               2.0          112.0               1.0   \n",
       "5                 NaN               NaN            NaN               NaN   \n",
       "6             19143.0               0.0            NaN               0.0   \n",
       "7             11634.0               0.0            NaN               0.0   \n",
       "8                 NaN               NaN            NaN               NaN   \n",
       "9             15008.0               0.0            NaN               0.0   \n",
       "\n",
       "   ponds_nearest  days_exposition  \n",
       "0          755.0              NaN  \n",
       "1            NaN             81.0  \n",
       "2          574.0            558.0  \n",
       "3          234.0            424.0  \n",
       "4           48.0            121.0  \n",
       "5            NaN             55.0  \n",
       "6            NaN            155.0  \n",
       "7            NaN              NaN  \n",
       "8            NaN            189.0  \n",
       "9            NaN            289.0  \n",
       "\n",
       "[10 rows x 22 columns]"
      ]
     },
     "execution_count": 4,
     "metadata": {},
     "output_type": "execute_result"
    }
   ],
   "source": [
    "data.head(10)"
   ]
  },
  {
   "cell_type": "markdown",
   "metadata": {},
   "source": [
    "- <font color=green>Общая информация о данных в таблице.</font>"
   ]
  },
  {
   "cell_type": "code",
   "execution_count": 5,
   "metadata": {},
   "outputs": [
    {
     "name": "stdout",
     "output_type": "stream",
     "text": [
      "<class 'pandas.core.frame.DataFrame'>\n",
      "RangeIndex: 23699 entries, 0 to 23698\n",
      "Data columns (total 22 columns):\n",
      "total_images            23699 non-null int64\n",
      "last_price              23699 non-null float64\n",
      "total_area              23699 non-null float64\n",
      "first_day_exposition    23699 non-null object\n",
      "rooms                   23699 non-null int64\n",
      "ceiling_height          14504 non-null float64\n",
      "floors_total            23613 non-null float64\n",
      "living_area             21796 non-null float64\n",
      "floor                   23699 non-null int64\n",
      "is_apartment            2775 non-null object\n",
      "studio                  23699 non-null bool\n",
      "open_plan               23699 non-null bool\n",
      "kitchen_area            21421 non-null float64\n",
      "balcony                 12180 non-null float64\n",
      "locality_name           23650 non-null object\n",
      "airports_nearest        18157 non-null float64\n",
      "cityCenters_nearest     18180 non-null float64\n",
      "parks_around3000        18181 non-null float64\n",
      "parks_nearest           8079 non-null float64\n",
      "ponds_around3000        18181 non-null float64\n",
      "ponds_nearest           9110 non-null float64\n",
      "days_exposition         20518 non-null float64\n",
      "dtypes: bool(2), float64(14), int64(3), object(3)\n",
      "memory usage: 3.7+ MB\n"
     ]
    }
   ],
   "source": [
    "data.info()"
   ]
  },
  {
   "cell_type": "markdown",
   "metadata": {},
   "source": [
    "### Вывод"
   ]
  },
  {
   "cell_type": "markdown",
   "metadata": {},
   "source": [
    "- В таблице содержится 23 699 записей, 22 столбца.\n",
    "- В таблице есть разные типы данных."
   ]
  },
  {
   "cell_type": "markdown",
   "metadata": {},
   "source": [
    "### Шаг 2. Предобработка данных"
   ]
  },
  {
   "cell_type": "markdown",
   "metadata": {},
   "source": [
    "<font color=green>Посмотрим наличие и количество дубликатов в таблице.</font>"
   ]
  },
  {
   "cell_type": "code",
   "execution_count": 6,
   "metadata": {
    "scrolled": true
   },
   "outputs": [
    {
     "data": {
      "text/plain": [
       "0"
      ]
     },
     "execution_count": 6,
     "metadata": {},
     "output_type": "execute_result"
    }
   ],
   "source": [
    "data.duplicated().sum()"
   ]
  },
  {
   "cell_type": "markdown",
   "metadata": {},
   "source": [
    "### Определение и заполнение пропущенных значений"
   ]
  },
  {
   "cell_type": "markdown",
   "metadata": {},
   "source": [
    "<font color=green>Наличие и количество отсутствующих данных в таблице.</font>"
   ]
  },
  {
   "cell_type": "code",
   "execution_count": 7,
   "metadata": {},
   "outputs": [
    {
     "data": {
      "text/plain": [
       "total_images                0\n",
       "last_price                  0\n",
       "total_area                  0\n",
       "first_day_exposition        0\n",
       "rooms                       0\n",
       "ceiling_height           9195\n",
       "floors_total               86\n",
       "living_area              1903\n",
       "floor                       0\n",
       "is_apartment            20924\n",
       "studio                      0\n",
       "open_plan                   0\n",
       "kitchen_area             2278\n",
       "balcony                 11519\n",
       "locality_name              49\n",
       "airports_nearest         5542\n",
       "cityCenters_nearest      5519\n",
       "parks_around3000         5518\n",
       "parks_nearest           15620\n",
       "ponds_around3000         5518\n",
       "ponds_nearest           14589\n",
       "days_exposition          3181\n",
       "dtype: int64"
      ]
     },
     "execution_count": 7,
     "metadata": {},
     "output_type": "execute_result"
    }
   ],
   "source": [
    "data.isna().sum()"
   ]
  },
  {
   "cell_type": "markdown",
   "metadata": {},
   "source": [
    "<font color=green>Давайте посмотрим все отсутствующие данные, которые были обнаружены в предыдущей ячейке в порядке наличия отсутствующих данных.</font> \n",
    "\n",
    "- ceiling_height 9195\n",
    "- floors_total 86\n",
    "- living_area 1903\n",
    "- is_apartment 20924\n",
    "- kitchen_area 2278\n",
    "- balcony 11519\n",
    "- locality_name 49\n",
    "- airports_nearest 5542\n",
    "- cityCenters_nearest 5519\n",
    "- parks_around3000 5518\n",
    "- parks_nearest 15620\n",
    "- ponds_around3000 5518\n",
    "- ponds_nearest 14589\n",
    "- days_exposition 3181"
   ]
  },
  {
   "cell_type": "markdown",
   "metadata": {},
   "source": [
    "- ceiling_height - 9195 пропущенных значений.\n",
    "В среднем высота потолков в квартирах в России колеблется от 2,4 до 3,2 м. Минимальная высота потолка определяется строительными нормами 2,4 м. Высота потолков в квартирах зависит от застройщика и не зависит от количества этажей дома или от площади самой квартиры."
   ]
  },
  {
   "cell_type": "code",
   "execution_count": 8,
   "metadata": {},
   "outputs": [
    {
     "name": "stdout",
     "output_type": "stream",
     "text": [
      "Максимальное значение в столбце высоты потолка: 100.00(м)\n",
      "Максимальное значение в столбце высоты потолка: 1.00(м)\n",
      "Средняя высота столбца потолка: 2.77(м)\n",
      "Средняя высота потолка колонны: 2.65(м)\n"
     ]
    }
   ],
   "source": [
    "chm = data['ceiling_height'].max()\n",
    "ceiling_min = data['ceiling_height'].min()\n",
    "ceiling_mean = data['ceiling_height'].mean()\n",
    "ceiling_median = data['ceiling_height'].median()\n",
    "\n",
    "print(\"Максимальное значение в столбце высоты потолка: {:.2f}(м)\".format(chm))\n",
    "print(\"Максимальное значение в столбце высоты потолка: {:.2f}(м)\".format(ceiling_min))\n",
    "print(\"Средняя высота столбца потолка: {:.2f}(м)\".format(ceiling_mean))\n",
    "print(\"Средняя высота потолка колонны: {:.2f}(м)\".format(ceiling_median))"
   ]
  },
  {
   "cell_type": "markdown",
   "metadata": {},
   "source": [
    "<font color = green>  Сначала я посмотрел на максимальное, минимальное, медианное и среднее значения, а затем вспомнил о методе description ().</font>"
   ]
  },
  {
   "cell_type": "code",
   "execution_count": 9,
   "metadata": {},
   "outputs": [
    {
     "data": {
      "text/plain": [
       "count    14504.000000\n",
       "mean         2.771499\n",
       "std          1.261056\n",
       "min          1.000000\n",
       "25%          2.520000\n",
       "50%          2.650000\n",
       "75%          2.800000\n",
       "max        100.000000\n",
       "Name: ceiling_height, dtype: float64"
      ]
     },
     "execution_count": 9,
     "metadata": {},
     "output_type": "execute_result"
    }
   ],
   "source": [
    "data['ceiling_height'].describe()"
   ]
  },
  {
   "cell_type": "markdown",
   "metadata": {},
   "source": [
    "- <font color = green> Средний потолок составляет 2,77 метра. Это довольно высокий потолок. </font>\n",
    "- <font color = green> Также в столбце есть пробелы в количестве 9195 значений. Я имею в виду пробелы в медианном значении столбца.</font>\n",
    "- <font color = green> Необходимо убедиться, что пробелы заполнены: </font>"
   ]
  },
  {
   "cell_type": "code",
   "execution_count": 10,
   "metadata": {},
   "outputs": [
    {
     "name": "stdout",
     "output_type": "stream",
     "text": [
      "0\n"
     ]
    }
   ],
   "source": [
    "data['ceiling_height'] = data['ceiling_height'].fillna(data['ceiling_height'].median())\n",
    "print (data['ceiling_height'].isna().sum())"
   ]
  },
  {
   "cell_type": "markdown",
   "metadata": {},
   "source": [
    "2. floor_total - 86 пропущенных значений.\n",
    "Количество этажей в доме также зависит от плана застройки. В столбце 86 значений отсутствуют, поскольку мы не знаем план зданий и застройщиков, мы предполагаем, что это одноэтажные дома. Заполните пропуски значением 1. Даже если наше предположение неверно, 86 записей не должны сильно смешать данные."
   ]
  },
  {
   "cell_type": "code",
   "execution_count": 11,
   "metadata": {},
   "outputs": [
    {
     "name": "stdout",
     "output_type": "stream",
     "text": [
      "0\n"
     ]
    }
   ],
   "source": [
    "data['floors_total'] = data['floors_total'].fillna(1)\n",
    "print (data['floors_total'].isna().sum())"
   ]
  },
  {
   "cell_type": "markdown",
   "metadata": {},
   "source": [
    "3. living_area - 1903 пропущенных значения.\n",
    "Заполним пропущенные значения медианым значением."
   ]
  },
  {
   "cell_type": "code",
   "execution_count": 12,
   "metadata": {},
   "outputs": [
    {
     "name": "stdout",
     "output_type": "stream",
     "text": [
      "0\n"
     ]
    }
   ],
   "source": [
    "data.loc[data['living_area'].isnull(), 'living_area'] = data['living_area'].median()\n",
    "print (data['living_area'].isna().sum())"
   ]
  },
  {
   "cell_type": "markdown",
   "metadata": {},
   "source": [
    "4. is_apartment - 20924 пропущенных значений.\n",
    "Логический тип - требуется в столбце квартиры. Значения данных либо Истинные - квартира это квартиры, а Ложные - квартира не апартаменты. Заполните пробелы значением «False» и убедитесь, что они заполнены:"
   ]
  },
  {
   "cell_type": "code",
   "execution_count": 13,
   "metadata": {},
   "outputs": [
    {
     "name": "stdout",
     "output_type": "stream",
     "text": [
      "Количество отсутствующих данных в столбце is_apartment: 20924\n"
     ]
    }
   ],
   "source": [
    "print (f\"Количество отсутствующих данных в столбце is_apartment: {data['is_apartment'].isna().sum()}\")"
   ]
  },
  {
   "cell_type": "code",
   "execution_count": 14,
   "metadata": {},
   "outputs": [
    {
     "name": "stdout",
     "output_type": "stream",
     "text": [
      "Проверим отсутствующие данные: \n",
      "False    23649\n",
      "True        50\n",
      "Name: is_apartment, dtype: int64\n"
     ]
    }
   ],
   "source": [
    "data['is_apartment'] = data['is_apartment'].fillna(False)\n",
    "print (f\"Проверим отсутствующие данные: \\n{data['is_apartment'].value_counts()}\")"
   ]
  },
  {
   "cell_type": "code",
   "execution_count": 15,
   "metadata": {},
   "outputs": [
    {
     "name": "stdout",
     "output_type": "stream",
     "text": [
      "0\n"
     ]
    }
   ],
   "source": [
    "print (data['is_apartment'].isna().sum())"
   ]
  },
  {
   "cell_type": "markdown",
   "metadata": {},
   "source": [
    "5. kitchen_area - 2278 пропущенных значений.\n",
    "Заполнить пропущенные значения медианным значением."
   ]
  },
  {
   "cell_type": "code",
   "execution_count": 16,
   "metadata": {},
   "outputs": [
    {
     "name": "stdout",
     "output_type": "stream",
     "text": [
      "0\n"
     ]
    }
   ],
   "source": [
    "data['kitchen_area'] = data['kitchen_area'].fillna(data['kitchen_area'].median())\n",
    "print (data['kitchen_area'].isna().sum())"
   ]
  },
  {
   "cell_type": "markdown",
   "metadata": {},
   "source": [
    "6. balcony – 11519 пропущенных значений.\n",
    "Количество балконов в квартире также зависит от плана застройки. В столбце пропущено 11 519 значений, поэтому мы не знаем, что это за одноэтажные дома. Заполнить пробелы по умолчанию 0,0 и убедится, что они заполнены:"
   ]
  },
  {
   "cell_type": "code",
   "execution_count": 17,
   "metadata": {},
   "outputs": [],
   "source": [
    "data['balcony'] = data['balcony'].fillna(0.0)"
   ]
  },
  {
   "cell_type": "code",
   "execution_count": 18,
   "metadata": {},
   "outputs": [
    {
     "name": "stdout",
     "output_type": "stream",
     "text": [
      "Количество данных в колонке balcony: \n",
      "0.0    15277\n",
      "1.0     4195\n",
      "2.0     3659\n",
      "5.0      304\n",
      "4.0      183\n",
      "3.0       81\n",
      "Name: balcony, dtype: int64\n"
     ]
    }
   ],
   "source": [
    "print (f\"Количество данных в колонке balcony: \\n{data['balcony'].value_counts()}\")"
   ]
  },
  {
   "cell_type": "code",
   "execution_count": 19,
   "metadata": {},
   "outputs": [
    {
     "name": "stdout",
     "output_type": "stream",
     "text": [
      "Проверка отсутствующих данных: 0\n"
     ]
    }
   ],
   "source": [
    "print (f\"Проверка отсутствующих данных: {data['balcony'].isna().sum()}\")"
   ]
  },
  {
   "cell_type": "markdown",
   "metadata": {},
   "source": [
    "7. locality_name – 49 пропущенных значений.\n",
    "В столбце название населенного пункта - 49 пропущенных значений. Это небольшое количество пропущенных значений."
   ]
  },
  {
   "cell_type": "code",
   "execution_count": 20,
   "metadata": {},
   "outputs": [
    {
     "data": {
      "text/plain": [
       "23699"
      ]
     },
     "execution_count": 20,
     "metadata": {},
     "output_type": "execute_result"
    }
   ],
   "source": [
    "len(data['locality_name'])"
   ]
  },
  {
   "cell_type": "code",
   "execution_count": 21,
   "metadata": {},
   "outputs": [
    {
     "name": "stdout",
     "output_type": "stream",
     "text": [
      "Проверка отсутствующие данные: 49\n"
     ]
    }
   ],
   "source": [
    "print (f\"Проверка отсутствующие данные: {data['locality_name'].isna().sum()}\")"
   ]
  },
  {
   "cell_type": "code",
   "execution_count": 22,
   "metadata": {},
   "outputs": [],
   "source": [
    "data['locality_name'] = data['locality_name'].fillna('undefined')"
   ]
  },
  {
   "cell_type": "markdown",
   "metadata": {},
   "source": [
    "<font color = green> Поскольку название области не коррелирует с другими функциями.\n",
    "Я заполняю 49 значений - информацией для этих значений как не определена (не определена).</font>"
   ]
  },
  {
   "cell_type": "code",
   "execution_count": 23,
   "metadata": {},
   "outputs": [
    {
     "name": "stdout",
     "output_type": "stream",
     "text": [
      "Проверка отсутствующие данные: 0\n"
     ]
    }
   ],
   "source": [
    "data['locality_name'] = data['locality_name'].fillna('undefined')\n",
    "print (f\"Проверка отсутствующие данные: {data['locality_name'].isna().sum()}\")"
   ]
  },
  {
   "cell_type": "markdown",
   "metadata": {},
   "source": [
    "8. airport_nearest - 5542 пропущенных значения.\n",
    "9. cityCenters_nearest - 5519 пропущенных значений."
   ]
  },
  {
   "cell_type": "markdown",
   "metadata": {},
   "source": [
    "В столбцах расстояние до аэропортов составляет 5 542 пропущенных значения, в столбце расстояние до центра города составляет 5 519 пропущенных значений. Заполню данные медианным значением."
   ]
  },
  {
   "cell_type": "code",
   "execution_count": 24,
   "metadata": {
    "scrolled": true
   },
   "outputs": [
    {
     "data": {
      "text/html": [
       "<div>\n",
       "<style scoped>\n",
       "    .dataframe tbody tr th:only-of-type {\n",
       "        vertical-align: middle;\n",
       "    }\n",
       "\n",
       "    .dataframe tbody tr th {\n",
       "        vertical-align: top;\n",
       "    }\n",
       "\n",
       "    .dataframe thead th {\n",
       "        text-align: right;\n",
       "    }\n",
       "</style>\n",
       "<table border=\"1\" class=\"dataframe\">\n",
       "  <thead>\n",
       "    <tr style=\"text-align: right;\">\n",
       "      <th></th>\n",
       "      <th>airports_nearest</th>\n",
       "      <th>cityCenters_nearest</th>\n",
       "    </tr>\n",
       "    <tr>\n",
       "      <th>locality_name</th>\n",
       "      <th></th>\n",
       "      <th></th>\n",
       "    </tr>\n",
       "  </thead>\n",
       "  <tbody>\n",
       "    <tr>\n",
       "      <td>undefined</td>\n",
       "      <td>22041.0</td>\n",
       "      <td>8943.0</td>\n",
       "    </tr>\n",
       "    <tr>\n",
       "      <td>Зеленогорск</td>\n",
       "      <td>72282.0</td>\n",
       "      <td>53381.0</td>\n",
       "    </tr>\n",
       "    <tr>\n",
       "      <td>Колпино</td>\n",
       "      <td>26232.0</td>\n",
       "      <td>32018.0</td>\n",
       "    </tr>\n",
       "    <tr>\n",
       "      <td>Красное Село</td>\n",
       "      <td>25715.5</td>\n",
       "      <td>29140.5</td>\n",
       "    </tr>\n",
       "    <tr>\n",
       "      <td>Кронштадт</td>\n",
       "      <td>67850.0</td>\n",
       "      <td>49575.0</td>\n",
       "    </tr>\n",
       "    <tr>\n",
       "      <td>Ломоносов</td>\n",
       "      <td>48415.5</td>\n",
       "      <td>51677.0</td>\n",
       "    </tr>\n",
       "    <tr>\n",
       "      <td>Павловск</td>\n",
       "      <td>20529.5</td>\n",
       "      <td>32683.0</td>\n",
       "    </tr>\n",
       "    <tr>\n",
       "      <td>Петергоф</td>\n",
       "      <td>39231.0</td>\n",
       "      <td>33771.0</td>\n",
       "    </tr>\n",
       "    <tr>\n",
       "      <td>Пушкин</td>\n",
       "      <td>15766.0</td>\n",
       "      <td>27930.5</td>\n",
       "    </tr>\n",
       "    <tr>\n",
       "      <td>Санкт-Петербург</td>\n",
       "      <td>26757.5</td>\n",
       "      <td>12244.5</td>\n",
       "    </tr>\n",
       "    <tr>\n",
       "      <td>Сестрорецк</td>\n",
       "      <td>56692.0</td>\n",
       "      <td>34821.0</td>\n",
       "    </tr>\n",
       "    <tr>\n",
       "      <td>поселок Лисий Нос</td>\n",
       "      <td>55930.0</td>\n",
       "      <td>28246.0</td>\n",
       "    </tr>\n",
       "    <tr>\n",
       "      <td>поселок Мурино</td>\n",
       "      <td>51553.0</td>\n",
       "      <td>21888.0</td>\n",
       "    </tr>\n",
       "    <tr>\n",
       "      <td>посёлок Александровская</td>\n",
       "      <td>12896.5</td>\n",
       "      <td>27468.0</td>\n",
       "    </tr>\n",
       "    <tr>\n",
       "      <td>посёлок Белоостров</td>\n",
       "      <td>57769.0</td>\n",
       "      <td>38868.0</td>\n",
       "    </tr>\n",
       "    <tr>\n",
       "      <td>посёлок Левашово</td>\n",
       "      <td>52693.0</td>\n",
       "      <td>25727.0</td>\n",
       "    </tr>\n",
       "    <tr>\n",
       "      <td>посёлок Лисий Нос</td>\n",
       "      <td>54988.5</td>\n",
       "      <td>27297.0</td>\n",
       "    </tr>\n",
       "    <tr>\n",
       "      <td>посёлок Металлострой</td>\n",
       "      <td>25758.0</td>\n",
       "      <td>27602.0</td>\n",
       "    </tr>\n",
       "    <tr>\n",
       "      <td>посёлок Молодёжное</td>\n",
       "      <td>84665.0</td>\n",
       "      <td>65764.0</td>\n",
       "    </tr>\n",
       "    <tr>\n",
       "      <td>посёлок Парголово</td>\n",
       "      <td>53426.0</td>\n",
       "      <td>19311.0</td>\n",
       "    </tr>\n",
       "    <tr>\n",
       "      <td>посёлок Песочный</td>\n",
       "      <td>54831.5</td>\n",
       "      <td>26099.5</td>\n",
       "    </tr>\n",
       "    <tr>\n",
       "      <td>посёлок Петро-Славянка</td>\n",
       "      <td>20605.0</td>\n",
       "      <td>27165.0</td>\n",
       "    </tr>\n",
       "    <tr>\n",
       "      <td>посёлок Понтонный</td>\n",
       "      <td>30642.0</td>\n",
       "      <td>32354.0</td>\n",
       "    </tr>\n",
       "    <tr>\n",
       "      <td>посёлок Репино</td>\n",
       "      <td>61797.5</td>\n",
       "      <td>42896.5</td>\n",
       "    </tr>\n",
       "    <tr>\n",
       "      <td>посёлок Сапёрный</td>\n",
       "      <td>34147.5</td>\n",
       "      <td>35859.5</td>\n",
       "    </tr>\n",
       "    <tr>\n",
       "      <td>посёлок Стрельна</td>\n",
       "      <td>28317.0</td>\n",
       "      <td>23506.0</td>\n",
       "    </tr>\n",
       "    <tr>\n",
       "      <td>посёлок Усть-Ижора</td>\n",
       "      <td>26510.5</td>\n",
       "      <td>28222.5</td>\n",
       "    </tr>\n",
       "    <tr>\n",
       "      <td>посёлок Шушары</td>\n",
       "      <td>17427.0</td>\n",
       "      <td>24212.0</td>\n",
       "    </tr>\n",
       "    <tr>\n",
       "      <td>посёлок Щеглово</td>\n",
       "      <td>61908.0</td>\n",
       "      <td>34085.0</td>\n",
       "    </tr>\n",
       "  </tbody>\n",
       "</table>\n",
       "</div>"
      ],
      "text/plain": [
       "                         airports_nearest  cityCenters_nearest\n",
       "locality_name                                                 \n",
       "undefined                         22041.0               8943.0\n",
       "Зеленогорск                       72282.0              53381.0\n",
       "Колпино                           26232.0              32018.0\n",
       "Красное Село                      25715.5              29140.5\n",
       "Кронштадт                         67850.0              49575.0\n",
       "Ломоносов                         48415.5              51677.0\n",
       "Павловск                          20529.5              32683.0\n",
       "Петергоф                          39231.0              33771.0\n",
       "Пушкин                            15766.0              27930.5\n",
       "Санкт-Петербург                   26757.5              12244.5\n",
       "Сестрорецк                        56692.0              34821.0\n",
       "поселок Лисий Нос                 55930.0              28246.0\n",
       "поселок Мурино                    51553.0              21888.0\n",
       "посёлок Александровская           12896.5              27468.0\n",
       "посёлок Белоостров                57769.0              38868.0\n",
       "посёлок Левашово                  52693.0              25727.0\n",
       "посёлок Лисий Нос                 54988.5              27297.0\n",
       "посёлок Металлострой              25758.0              27602.0\n",
       "посёлок Молодёжное                84665.0              65764.0\n",
       "посёлок Парголово                 53426.0              19311.0\n",
       "посёлок Песочный                  54831.5              26099.5\n",
       "посёлок Петро-Славянка            20605.0              27165.0\n",
       "посёлок Понтонный                 30642.0              32354.0\n",
       "посёлок Репино                    61797.5              42896.5\n",
       "посёлок Сапёрный                  34147.5              35859.5\n",
       "посёлок Стрельна                  28317.0              23506.0\n",
       "посёлок Усть-Ижора                26510.5              28222.5\n",
       "посёлок Шушары                    17427.0              24212.0\n",
       "посёлок Щеглово                   61908.0              34085.0"
      ]
     },
     "execution_count": 24,
     "metadata": {},
     "output_type": "execute_result"
    }
   ],
   "source": [
    "median_data = data.pivot_table(\n",
    "    index='locality_name',\n",
    "    values=['airports_nearest', 'cityCenters_nearest'],\n",
    "    aggfunc='median'\n",
    ")\n",
    "\n",
    "median_data"
   ]
  },
  {
   "cell_type": "code",
   "execution_count": 25,
   "metadata": {},
   "outputs": [],
   "source": [
    "median_data_localities = list(median_data.index)"
   ]
  },
  {
   "cell_type": "code",
   "execution_count": 26,
   "metadata": {},
   "outputs": [],
   "source": [
    "def fill_missing_data(row, col):\n",
    "    locality = row['locality_name']\n",
    "    \n",
    "    if locality in median_data_localities:\n",
    "        return median_data.loc[locality][col]\n",
    "    \n",
    "    return row[col]"
   ]
  },
  {
   "cell_type": "code",
   "execution_count": 27,
   "metadata": {},
   "outputs": [],
   "source": [
    "columns = ['airports_nearest', 'cityCenters_nearest']\n",
    "\n",
    "for column in columns:\n",
    "    data.loc[data[column].isnull(), column] = data.apply(fill_missing_data, axis=1, args=(column,))"
   ]
  },
  {
   "cell_type": "code",
   "execution_count": 28,
   "metadata": {},
   "outputs": [],
   "source": [
    "data['airports_nearest'] = data['airports_nearest'].fillna(-999.99)\n",
    "data['cityCenters_nearest'] = data['cityCenters_nearest'].fillna(-999.99)"
   ]
  },
  {
   "cell_type": "markdown",
   "metadata": {},
   "source": [
    "<font color = green> Проверить данные о том, сколько населенных пунктов не может быть заполнено. </ font>"
   ]
  },
  {
   "cell_type": "code",
   "execution_count": 29,
   "metadata": {},
   "outputs": [
    {
     "data": {
      "text/plain": [
       "0"
      ]
     },
     "execution_count": 29,
     "metadata": {},
     "output_type": "execute_result"
    }
   ],
   "source": [
    "len(data[data['cityCenters_nearest'].isnull()]['locality_name'].unique())"
   ]
  },
  {
   "cell_type": "markdown",
   "metadata": {},
   "source": [
    "Проверю соотношение параметров: количество парков в радиусе 3 км, расстояние до ближайшего парка (м), количество резервуаров в радиусе 3 км, расстояние до ближайшего резервуара (м)."
   ]
  },
  {
   "cell_type": "code",
   "execution_count": 30,
   "metadata": {
    "scrolled": true
   },
   "outputs": [
    {
     "name": "stdout",
     "output_type": "stream",
     "text": [
      "\n",
      "Ищем связь между количеством парков в радиусе 3 км и другими параметрами:\n",
      "                  index  correlation\n",
      "0          total_images     0.021120\n",
      "1            last_price     0.151058\n",
      "2            total_area     0.164689\n",
      "3                 rooms     0.137257\n",
      "4        ceiling_height     0.056665\n",
      "5          floors_total    -0.251019\n",
      "6           living_area     0.176729\n",
      "7                 floor    -0.163784\n",
      "8          is_apartment     0.020767\n",
      "9                studio    -0.030202\n",
      "10            open_plan    -0.010077\n",
      "11         kitchen_area     0.082927\n",
      "12              balcony    -0.077777\n",
      "13     airports_nearest     0.000577\n",
      "14  cityCenters_nearest    -0.161683\n",
      "15     parks_around3000     1.000000\n",
      "16        parks_nearest    -0.259514\n",
      "17     ponds_around3000     0.304316\n",
      "18        ponds_nearest    -0.167103\n",
      "19      days_exposition     0.060491\n"
     ]
    }
   ],
   "source": [
    "print (\"\\nИщем связь между количеством парков в радиусе 3 км и другими параметрами:\")\n",
    "print (data.corr()['parks_around3000'].reset_index(name='correlation'))\n",
    "\n",
    "#print (data.corr()['parks_nearest'].reset_index(name='correlation'))\n",
    "#print (data.corr()['ponds_around3000'].reset_index(name='correlation'))\n",
    "#print (data.corr()['ponds_nearest'].reset_index(name='correlation'))"
   ]
  },
  {
   "cell_type": "markdown",
   "metadata": {},
   "source": [
    "Поскольку корреляция с другими параметрами для всех 4 параметров является низкой. Можно сказать, что значения этих столбцов не зависят от других величин. Мы добавляем информацию, что для них значение не определено, так как это не повлияет на анализ."
   ]
  },
  {
   "cell_type": "code",
   "execution_count": 31,
   "metadata": {
    "scrolled": true
   },
   "outputs": [
    {
     "name": "stdout",
     "output_type": "stream",
     "text": [
      "Проверка отсутствующих данных: 0\n",
      "Проверка отсутствующих данных: 0\n",
      "Проверка отсутствующих данных: 0\n"
     ]
    }
   ],
   "source": [
    "data['parks_around3000'] = data['parks_around3000'].fillna(-999.99)\n",
    "data['parks_nearest'] = data['parks_nearest'].fillna(-999.99)\n",
    "data['ponds_nearest'] = data['ponds_nearest'].fillna(-999.99)\n",
    "\n",
    "print (f\"Проверка отсутствующих данных: {data['parks_around3000'].isna().sum()}\")\n",
    "print (f\"Проверка отсутствующих данных: {data['parks_nearest'].isna().sum()}\")\n",
    "print (f\"Проверка отсутствующих данных: {data['ponds_nearest'].isna().sum()}\")"
   ]
  },
  {
   "cell_type": "markdown",
   "metadata": {},
   "source": [
    "14. days_exposition - 3181 пропущенных значений.\n",
    "Количество дней, в течение которых было объявлено о продаже квартиры. Для каждого искаженного знания мы вычисляем медианное значение и заполняем пробелы медианным значением."
   ]
  },
  {
   "cell_type": "markdown",
   "metadata": {},
   "source": [
    "Перед заполнением пробелов в столбце days_exposition необходимо перевести столбец first_day_exposition к типу данных% Y-% m-% d, т.к. Столбец days_exposition зависит от второго."
   ]
  },
  {
   "cell_type": "code",
   "execution_count": 32,
   "metadata": {},
   "outputs": [],
   "source": [
    "data['first_day_exposition'] = pd.to_datetime(data['first_day_exposition'], format='%Y-%m-%d')"
   ]
  },
  {
   "cell_type": "code",
   "execution_count": 33,
   "metadata": {
    "scrolled": true
   },
   "outputs": [
    {
     "name": "stdout",
     "output_type": "stream",
     "text": [
      "Check for missing data: 0\n"
     ]
    }
   ],
   "source": [
    "data.loc[data['days_exposition'].isnull(), 'days_exposition'] = data['days_exposition'].median()\n",
    "print (f\"Check for missing data: {data['days_exposition'].isna().sum()}\")"
   ]
  },
  {
   "cell_type": "markdown",
   "metadata": {},
   "source": [
    "### Изменения типа данных"
   ]
  },
  {
   "cell_type": "markdown",
   "metadata": {},
   "source": [
    "Имя столбцов отображается в списке. Правильные типы данных отмечены зеленым, неправильные значения типов данных - красным."
   ]
  },
  {
   "cell_type": "markdown",
   "metadata": {},
   "source": [
    "- airports_nearest — расстояние до ближайшего аэропорта в метрах (м); <font color=green>float64</font>\n",
    "- balcony — число балконов; <font color=red>float64</font>\n",
    "- ceiling_height — высота потолков (м); <font color=green>float64</font>\n",
    "- cityCenters_nearest — расстояние до центра города (м); <font color=red>float64</font>\n",
    "- days_exposition — сколько дней было размещено объявление (от публикации до снятия); <font color=red>object</font>\n",
    "- first_day_exposition — дата публикации\n",
    "- floor — этаж; <font color=green>int64</font>\n",
    "- floors_total — всего этажей в доме; <font color=red>float64</font>\n",
    "- is_apartment — апартаменты (булев тип); <font color=red>object</font>\n",
    "- kitchen_area — площадь кухни в квадратных метрах (м²); <font color=red>int64</font>\n",
    "- last_price — цена на момент снятия с публикации; <font color=green>float64</font>\n",
    "- living_area — жилая площадь в квадратных метрах(м²); <font color=green>float64</font>\n",
    "- locality_name — название населённого пункта; <font color=green>object</font>\n",
    "- open_plan — свободная планировка (булев тип); <font color=green>bool</font>\n",
    "- parks_around3000 — число парков в радиусе 3 км; <font color=green>float64</font>\n",
    "- parks_nearest — расстояние до ближайшего парка (м); <font color=green>float64</font>\n",
    "- ponds_around3000 — число водоёмов в радиусе 3 км; <font color=green>float64</font>\n",
    "- ponds_nearest — расстояние до ближайшего водоёма (м); <font color=green>float64</font>\n",
    "- rooms — число комнат; <font color=green>int64</font>\n",
    "- studio — квартира-студия (булев тип); <font color=green>bool</font>\n",
    "- total_area — площадь квартиры в квадратных метрах (м²); <font color=green>float64</font>\n",
    "- total_images — число фотографий квартиры в объявлении; <font color=green>int64</font>"
   ]
  },
  {
   "cell_type": "markdown",
   "metadata": {},
   "source": [
    "Для следующих характеристик вы должны преобразовать типы:"
   ]
  },
  {
   "cell_type": "markdown",
   "metadata": {},
   "source": [
    "1. balcony – тип float64 конвертировать в int64\n",
    "2. days_exposition – тип float64 конвертировать в int64\n",
    "3. floors_total – тип float64 преобразовать в int64"
   ]
  },
  {
   "cell_type": "code",
   "execution_count": 34,
   "metadata": {},
   "outputs": [],
   "source": [
    "for column in ['balcony', 'floors_total', 'days_exposition']:\n",
    "    data[column] = data[column].astype('int')"
   ]
  },
  {
   "cell_type": "markdown",
   "metadata": {},
   "source": [
    "4. first_day_exposition - тип объекта переводится в% Y-% m-% dм"
   ]
  },
  {
   "cell_type": "code",
   "execution_count": 35,
   "metadata": {},
   "outputs": [],
   "source": [
    "data['first_day_exposition'] = pd.to_datetime(data['first_day_exposition'], format='%Y-%m-%d')"
   ]
  },
  {
   "cell_type": "markdown",
   "metadata": {},
   "source": [
    "5. is_apartment - тип объекта переводит в bool.\n",
    "Поскольку я заполнил данные столбца False и True, я думаю, что этого будет достаточно, и не стоит переводить их в тип данных bool."
   ]
  },
  {
   "cell_type": "markdown",
   "metadata": {},
   "source": [
    "6. kitchen_area - введите int64 для перевода в float64"
   ]
  },
  {
   "cell_type": "code",
   "execution_count": 36,
   "metadata": {},
   "outputs": [],
   "source": [
    "data['kitchen_area'] = data['kitchen_area'].astype('float')"
   ]
  },
  {
   "cell_type": "markdown",
   "metadata": {},
   "source": [
    "<font color = green> Проверим наличие изменений типа данных.</font>"
   ]
  },
  {
   "cell_type": "code",
   "execution_count": 37,
   "metadata": {},
   "outputs": [
    {
     "name": "stdout",
     "output_type": "stream",
     "text": [
      "<class 'pandas.core.frame.DataFrame'>\n",
      "RangeIndex: 23699 entries, 0 to 23698\n",
      "Data columns (total 22 columns):\n",
      "total_images            23699 non-null int64\n",
      "last_price              23699 non-null float64\n",
      "total_area              23699 non-null float64\n",
      "first_day_exposition    23699 non-null datetime64[ns]\n",
      "rooms                   23699 non-null int64\n",
      "ceiling_height          23699 non-null float64\n",
      "floors_total            23699 non-null int64\n",
      "living_area             23699 non-null float64\n",
      "floor                   23699 non-null int64\n",
      "is_apartment            23699 non-null bool\n",
      "studio                  23699 non-null bool\n",
      "open_plan               23699 non-null bool\n",
      "kitchen_area            23699 non-null float64\n",
      "balcony                 23699 non-null int64\n",
      "locality_name           23699 non-null object\n",
      "airports_nearest        23699 non-null float64\n",
      "cityCenters_nearest     23699 non-null float64\n",
      "parks_around3000        23699 non-null float64\n",
      "parks_nearest           23699 non-null float64\n",
      "ponds_around3000        18181 non-null float64\n",
      "ponds_nearest           23699 non-null float64\n",
      "days_exposition         23699 non-null int64\n",
      "dtypes: bool(3), datetime64[ns](1), float64(11), int64(6), object(1)\n",
      "memory usage: 3.5+ MB\n"
     ]
    }
   ],
   "source": [
    "data.info()"
   ]
  },
  {
   "cell_type": "markdown",
   "metadata": {},
   "source": [
    "### Вывод"
   ]
  },
  {
   "cell_type": "markdown",
   "metadata": {},
   "source": [
    "- В наборе данных нет дубликатов;\n",
    "- В наборе данных много пропущенных данных. В таких столбцах, как: потолок_высота (9195), этажей_салона (86), жилой_район (1903 г.), квартал is_apartment (20924), район кухни (2278), балкон (11519), имя населенного пункта (49), ближайшие_ аэропорты (5542), cityCenters_nearest (5519), parks_around3000 (5518), parks_nearest (15620), ponds_around3000 (5518), ponds_nearest (14589), дни_экспозиция (3181);\n",
    "\n",
    "- В столбце, описывающем высоту потолков в квартирах на продажу (floor_heigh) - 9195 пропущенных значений, заполнены пропуски с медианным значением для столбца. В среднем высота потолков в квартирах по данным таблицы, предложенным для анализа = 2,77 (м). Интересно, что максимальное значение в столбце - это высота потолков: 100,00 (м), это высота потолков.\n",
    "\n",
    "- В столбце, описывающем количество этажей в доме (floors_total) - 86 пропущенных значений, заполнены пробелы значением 1. Даже если наше предположение неверно, 86 записей не должны сильно смещать распределение.\n",
    "\n",
    "- В столбце с описанием жилой площади в квадратных метрах (м²) (living_area) - 1903 пропущенные значения заполняются пропущенными значениями с медианным значением.\n",
    "\n",
    "- В столбце описания квартиры как квартиры (is_apartment) - 20924 пропущенных значения. Значения пропавших были заменены на Ложные - квартира не квартира. Я не изменил тип данных в столбце, поскольку считаю, что значения True и False более четко отражают отношение свойства к типу квартиры.\n",
    "\n",
    "- В столбце, описывающем площадь кухни в квадратных метрах (м²) (kitchen_area) - 2278 пропущенных значений, заполняются пропущенные значения медианным значением.\n",
    "\n",
    "- В столбце, описывающем наличие балкона (балкон) - 11519 пропущенных значений, заполняется 0,0 значениями. Она предположила, что это одноэтажные дома, так как не знала ни плана застройки, ни застройщика.\n",
    "\n",
    "- В столбце название населенного пункта (locality_name) - 49 пропущенных значений, заполнены значения тем, что информация для этих значений не является неопределенной (undefined). Так как название местности не соотносится с другими знаками.\n",
    "\n",
    "- В столбцах расстояние до аэропортов (airport_nearest) - 5 542 пропущенных значений, а в столбце - расстояние до центра города (cityCenters_nearest) 5 519 пропущенных значений. Мы заполняем данные медианным значением, для 336 строк не удалось заполнить значения. В этих случаях, скорее всего, пробелы появляются в населенных пунктах, которые не являются городами или находятся достаточно далеко от городов. Или нет данных для расчета расстояний.\n",
    "\n",
    "- В столбцах количество парков в радиусе 3 км (parks_around3000), расстояние до ближайшего парка (м) (parks_nearest), количество резервуаров в радиусе 3 км (ponds_around3000), расстояние до ближайшего резервуар (м) (ponds_nearest): количество пропущенных значений составляет 5518, 15620, 5518, 14589. Проверил корреляцию с другими параметрами, оказалось незначительным с 0,0005 до 0,3. Поскольку корреляция с другими параметрами для всех 4 параметров является низкой. Можно сказать, что значения этих столбцов не зависят от других величин. Она добавила информацию, что для пропущенных значений в этих столбцах значение не определено, так как это не повлияет на анализ.\n",
    "\n",
    "- В столбце с описанием количества дней размещения объявления о продаже квартиры было размещено (days_exposition) - 3181 пропущенных значений. Для каждого пропущенного значения вычислялось значение медианы и значение медианы, заполненные пробелами. Перед заполнением пробелов в столбце days_exposition преобразуйте столбец first_day_exposition в тип данных% Y-% m-% d, поскольку столбец days_exposition зависит от даты публикации объявлений."
   ]
  },
  {
   "cell_type": "markdown",
   "metadata": {},
   "source": [
    "### Шаг 3. Посчитайте и добавьте в таблицу:"
   ]
  },
  {
   "cell_type": "markdown",
   "metadata": {},
   "source": [
    "#### Посчитай и добавь в таблицу: цена за квадратный метр\n",
    "Чтобы узнать стоимость одного квадратного метра, необходимо разделить стоимость квартиры (столбец last_price) на общую площадь квартиры (столбец total_area)."
   ]
  },
  {
   "cell_type": "code",
   "execution_count": 38,
   "metadata": {},
   "outputs": [
    {
     "name": "stdout",
     "output_type": "stream",
     "text": [
      "Средняя стоимость квадратного метра для всех квартир:\"108395.94031315896\"\n"
     ]
    }
   ],
   "source": [
    "data['meter_price'] = data['last_price'] / data['total_area']\n",
    "data['meter_price'] = data['meter_price'].astype('int')\n",
    "print (f\"Средняя стоимость квадратного метра для всех квартир:\\\"{data['last_price'].sum() / data['total_area'].sum()}\\\"\")"
   ]
  },
  {
   "cell_type": "code",
   "execution_count": 39,
   "metadata": {
    "scrolled": true
   },
   "outputs": [
    {
     "data": {
      "text/html": [
       "<div>\n",
       "<style scoped>\n",
       "    .dataframe tbody tr th:only-of-type {\n",
       "        vertical-align: middle;\n",
       "    }\n",
       "\n",
       "    .dataframe tbody tr th {\n",
       "        vertical-align: top;\n",
       "    }\n",
       "\n",
       "    .dataframe thead th {\n",
       "        text-align: right;\n",
       "    }\n",
       "</style>\n",
       "<table border=\"1\" class=\"dataframe\">\n",
       "  <thead>\n",
       "    <tr style=\"text-align: right;\">\n",
       "      <th></th>\n",
       "      <th>total_area</th>\n",
       "      <th>last_price</th>\n",
       "      <th>meter_price</th>\n",
       "    </tr>\n",
       "  </thead>\n",
       "  <tbody>\n",
       "    <tr>\n",
       "      <td>0</td>\n",
       "      <td>108.0</td>\n",
       "      <td>13000000.0</td>\n",
       "      <td>120370</td>\n",
       "    </tr>\n",
       "    <tr>\n",
       "      <td>1</td>\n",
       "      <td>40.4</td>\n",
       "      <td>3350000.0</td>\n",
       "      <td>82920</td>\n",
       "    </tr>\n",
       "    <tr>\n",
       "      <td>2</td>\n",
       "      <td>56.0</td>\n",
       "      <td>5196000.0</td>\n",
       "      <td>92785</td>\n",
       "    </tr>\n",
       "    <tr>\n",
       "      <td>3</td>\n",
       "      <td>159.0</td>\n",
       "      <td>64900000.0</td>\n",
       "      <td>408176</td>\n",
       "    </tr>\n",
       "    <tr>\n",
       "      <td>4</td>\n",
       "      <td>100.0</td>\n",
       "      <td>10000000.0</td>\n",
       "      <td>100000</td>\n",
       "    </tr>\n",
       "  </tbody>\n",
       "</table>\n",
       "</div>"
      ],
      "text/plain": [
       "   total_area  last_price  meter_price\n",
       "0       108.0  13000000.0       120370\n",
       "1        40.4   3350000.0        82920\n",
       "2        56.0   5196000.0        92785\n",
       "3       159.0  64900000.0       408176\n",
       "4       100.0  10000000.0       100000"
      ]
     },
     "execution_count": 39,
     "metadata": {},
     "output_type": "execute_result"
    }
   ],
   "source": [
    "data[:5][['total_area', 'last_price', 'meter_price']]"
   ]
  },
  {
   "cell_type": "markdown",
   "metadata": {},
   "source": [
    "#### Рассчитайте и добавьте в таблицу: день недели, месяц и год публикации объявления"
   ]
  },
  {
   "cell_type": "code",
   "execution_count": 40,
   "metadata": {},
   "outputs": [],
   "source": [
    "data['day_week'] = pd.DatetimeIndex(data['first_day_exposition']).weekday\n",
    "data['month'] = pd.DatetimeIndex(data['first_day_exposition']).month\n",
    "data['year'] = pd.DatetimeIndex(data['first_day_exposition']).year"
   ]
  },
  {
   "cell_type": "code",
   "execution_count": 41,
   "metadata": {
    "scrolled": true
   },
   "outputs": [
    {
     "data": {
      "text/html": [
       "<div>\n",
       "<style scoped>\n",
       "    .dataframe tbody tr th:only-of-type {\n",
       "        vertical-align: middle;\n",
       "    }\n",
       "\n",
       "    .dataframe tbody tr th {\n",
       "        vertical-align: top;\n",
       "    }\n",
       "\n",
       "    .dataframe thead th {\n",
       "        text-align: right;\n",
       "    }\n",
       "</style>\n",
       "<table border=\"1\" class=\"dataframe\">\n",
       "  <thead>\n",
       "    <tr style=\"text-align: right;\">\n",
       "      <th></th>\n",
       "      <th>first_day_exposition</th>\n",
       "      <th>day_week</th>\n",
       "      <th>month</th>\n",
       "      <th>year</th>\n",
       "    </tr>\n",
       "  </thead>\n",
       "  <tbody>\n",
       "    <tr>\n",
       "      <td>0</td>\n",
       "      <td>2019-03-07</td>\n",
       "      <td>3</td>\n",
       "      <td>3</td>\n",
       "      <td>2019</td>\n",
       "    </tr>\n",
       "    <tr>\n",
       "      <td>1</td>\n",
       "      <td>2018-12-04</td>\n",
       "      <td>1</td>\n",
       "      <td>12</td>\n",
       "      <td>2018</td>\n",
       "    </tr>\n",
       "    <tr>\n",
       "      <td>2</td>\n",
       "      <td>2015-08-20</td>\n",
       "      <td>3</td>\n",
       "      <td>8</td>\n",
       "      <td>2015</td>\n",
       "    </tr>\n",
       "    <tr>\n",
       "      <td>3</td>\n",
       "      <td>2015-07-24</td>\n",
       "      <td>4</td>\n",
       "      <td>7</td>\n",
       "      <td>2015</td>\n",
       "    </tr>\n",
       "    <tr>\n",
       "      <td>4</td>\n",
       "      <td>2018-06-19</td>\n",
       "      <td>1</td>\n",
       "      <td>6</td>\n",
       "      <td>2018</td>\n",
       "    </tr>\n",
       "  </tbody>\n",
       "</table>\n",
       "</div>"
      ],
      "text/plain": [
       "  first_day_exposition  day_week  month  year\n",
       "0           2019-03-07         3      3  2019\n",
       "1           2018-12-04         1     12  2018\n",
       "2           2015-08-20         3      8  2015\n",
       "3           2015-07-24         4      7  2015\n",
       "4           2018-06-19         1      6  2018"
      ]
     },
     "execution_count": 41,
     "metadata": {},
     "output_type": "execute_result"
    }
   ],
   "source": [
    "data[:5][['first_day_exposition', 'day_week', 'month', 'year']]"
   ]
  },
  {
   "cell_type": "markdown",
   "metadata": {},
   "source": [
    "#### Посчитай и добавь к столу: этаж квартиры; варианты - первый, последний, другой"
   ]
  },
  {
   "cell_type": "code",
   "execution_count": 42,
   "metadata": {},
   "outputs": [],
   "source": [
    "def categorize_floor(row):\n",
    "    if row['floor'] == 1:\n",
    "        return 'первый'\n",
    "    elif row['floor'] == row['floors_total']:\n",
    "        return 'последний'\n",
    "    else:\n",
    "        return 'другой'\n",
    "    \n",
    "data_floor_category = data.apply(categorize_floor, axis=1)"
   ]
  },
  {
   "cell_type": "code",
   "execution_count": 43,
   "metadata": {
    "scrolled": true
   },
   "outputs": [
    {
     "data": {
      "text/plain": [
       "другой       17446\n",
       "последний     3336\n",
       "первый        2917\n",
       "dtype: int64"
      ]
     },
     "execution_count": 43,
     "metadata": {},
     "output_type": "execute_result"
    }
   ],
   "source": [
    "data_floor_category.value_counts()"
   ]
  },
  {
   "cell_type": "markdown",
   "metadata": {},
   "source": [
    "#### Рассчитайте и добавьте в таблицу: отношение жилой и общей площади, а также отношение площади кухни к общей."
   ]
  },
  {
   "cell_type": "code",
   "execution_count": 44,
   "metadata": {},
   "outputs": [
    {
     "name": "stdout",
     "output_type": "stream",
     "text": [
      "Соотношение жилой и общей площади: 56.50\n",
      "Соотношение площади кухни к общему: 17.28\n"
     ]
    }
   ],
   "source": [
    "data['living_ratio'] = (data['living_area'] / data['total_area']) * 100\n",
    "data['kitchen_ratio'] = (data['kitchen_area'] / data['total_area']) * 100\n",
    "data['living_ratio'] = data['living_ratio'].astype(str) + '%'\n",
    "data['kitchen_ratio'] = data['kitchen_ratio'].astype(str) + '%'\n",
    "\n",
    "data_liv = (data['living_area'].sum() / data['total_area'].sum()) * 100\n",
    "data_kit = (data['kitchen_area'].sum() / data['total_area'].sum()) * 100\n",
    "\n",
    "print(\"Соотношение жилой и общей площади: {:.2f}\".format(data_liv))\n",
    "print(\"Соотношение площади кухни к общему: {:.2f}\".format(data_kit))"
   ]
  },
  {
   "cell_type": "code",
   "execution_count": 45,
   "metadata": {
    "scrolled": true
   },
   "outputs": [
    {
     "data": {
      "text/html": [
       "<div>\n",
       "<style scoped>\n",
       "    .dataframe tbody tr th:only-of-type {\n",
       "        vertical-align: middle;\n",
       "    }\n",
       "\n",
       "    .dataframe tbody tr th {\n",
       "        vertical-align: top;\n",
       "    }\n",
       "\n",
       "    .dataframe thead th {\n",
       "        text-align: right;\n",
       "    }\n",
       "</style>\n",
       "<table border=\"1\" class=\"dataframe\">\n",
       "  <thead>\n",
       "    <tr style=\"text-align: right;\">\n",
       "      <th></th>\n",
       "      <th>total_area</th>\n",
       "      <th>living_area</th>\n",
       "      <th>living_ratio</th>\n",
       "      <th>kitchen_area</th>\n",
       "      <th>kitchen_ratio</th>\n",
       "    </tr>\n",
       "  </thead>\n",
       "  <tbody>\n",
       "    <tr>\n",
       "      <td>0</td>\n",
       "      <td>108.0</td>\n",
       "      <td>51.0</td>\n",
       "      <td>47.22222222222222%</td>\n",
       "      <td>25.0</td>\n",
       "      <td>23.14814814814815%</td>\n",
       "    </tr>\n",
       "    <tr>\n",
       "      <td>1</td>\n",
       "      <td>40.4</td>\n",
       "      <td>18.6</td>\n",
       "      <td>46.03960396039605%</td>\n",
       "      <td>11.0</td>\n",
       "      <td>27.22772277227723%</td>\n",
       "    </tr>\n",
       "    <tr>\n",
       "      <td>2</td>\n",
       "      <td>56.0</td>\n",
       "      <td>34.3</td>\n",
       "      <td>61.24999999999999%</td>\n",
       "      <td>8.3</td>\n",
       "      <td>14.821428571428571%</td>\n",
       "    </tr>\n",
       "    <tr>\n",
       "      <td>3</td>\n",
       "      <td>159.0</td>\n",
       "      <td>30.0</td>\n",
       "      <td>18.867924528301888%</td>\n",
       "      <td>9.1</td>\n",
       "      <td>5.723270440251572%</td>\n",
       "    </tr>\n",
       "    <tr>\n",
       "      <td>4</td>\n",
       "      <td>100.0</td>\n",
       "      <td>32.0</td>\n",
       "      <td>32.0%</td>\n",
       "      <td>41.0</td>\n",
       "      <td>41.0%</td>\n",
       "    </tr>\n",
       "  </tbody>\n",
       "</table>\n",
       "</div>"
      ],
      "text/plain": [
       "   total_area  living_area         living_ratio  kitchen_area  \\\n",
       "0       108.0         51.0   47.22222222222222%          25.0   \n",
       "1        40.4         18.6   46.03960396039605%          11.0   \n",
       "2        56.0         34.3   61.24999999999999%           8.3   \n",
       "3       159.0         30.0  18.867924528301888%           9.1   \n",
       "4       100.0         32.0                32.0%          41.0   \n",
       "\n",
       "         kitchen_ratio  \n",
       "0   23.14814814814815%  \n",
       "1   27.22772277227723%  \n",
       "2  14.821428571428571%  \n",
       "3   5.723270440251572%  \n",
       "4                41.0%  "
      ]
     },
     "execution_count": 45,
     "metadata": {},
     "output_type": "execute_result"
    }
   ],
   "source": [
    "data[:5][['total_area', 'living_area', 'living_ratio', 'kitchen_area', 'kitchen_ratio']]"
   ]
  },
  {
   "cell_type": "markdown",
   "metadata": {},
   "source": [
    "#### Изучить параметры: площадь, цена, количество комнат, высота потолков"
   ]
  },
  {
   "cell_type": "code",
   "execution_count": 46,
   "metadata": {
    "scrolled": true
   },
   "outputs": [
    {
     "data": {
      "text/html": [
       "<div>\n",
       "<style scoped>\n",
       "    .dataframe tbody tr th:only-of-type {\n",
       "        vertical-align: middle;\n",
       "    }\n",
       "\n",
       "    .dataframe tbody tr th {\n",
       "        vertical-align: top;\n",
       "    }\n",
       "\n",
       "    .dataframe thead th {\n",
       "        text-align: right;\n",
       "    }\n",
       "</style>\n",
       "<table border=\"1\" class=\"dataframe\">\n",
       "  <thead>\n",
       "    <tr style=\"text-align: right;\">\n",
       "      <th></th>\n",
       "      <th>total_area</th>\n",
       "      <th>rooms</th>\n",
       "      <th>ceiling_height</th>\n",
       "      <th>last_price</th>\n",
       "    </tr>\n",
       "  </thead>\n",
       "  <tbody>\n",
       "    <tr>\n",
       "      <td>0</td>\n",
       "      <td>108.0</td>\n",
       "      <td>3</td>\n",
       "      <td>2.70</td>\n",
       "      <td>13000000.0</td>\n",
       "    </tr>\n",
       "    <tr>\n",
       "      <td>1</td>\n",
       "      <td>40.4</td>\n",
       "      <td>1</td>\n",
       "      <td>2.65</td>\n",
       "      <td>3350000.0</td>\n",
       "    </tr>\n",
       "    <tr>\n",
       "      <td>2</td>\n",
       "      <td>56.0</td>\n",
       "      <td>2</td>\n",
       "      <td>2.65</td>\n",
       "      <td>5196000.0</td>\n",
       "    </tr>\n",
       "    <tr>\n",
       "      <td>3</td>\n",
       "      <td>159.0</td>\n",
       "      <td>3</td>\n",
       "      <td>2.65</td>\n",
       "      <td>64900000.0</td>\n",
       "    </tr>\n",
       "    <tr>\n",
       "      <td>4</td>\n",
       "      <td>100.0</td>\n",
       "      <td>2</td>\n",
       "      <td>3.03</td>\n",
       "      <td>10000000.0</td>\n",
       "    </tr>\n",
       "  </tbody>\n",
       "</table>\n",
       "</div>"
      ],
      "text/plain": [
       "   total_area  rooms  ceiling_height  last_price\n",
       "0       108.0      3            2.70  13000000.0\n",
       "1        40.4      1            2.65   3350000.0\n",
       "2        56.0      2            2.65   5196000.0\n",
       "3       159.0      3            2.65  64900000.0\n",
       "4       100.0      2            3.03  10000000.0"
      ]
     },
     "execution_count": 46,
     "metadata": {},
     "output_type": "execute_result"
    }
   ],
   "source": [
    "data[:5][['total_area', 'rooms', 'ceiling_height', 'last_price']]"
   ]
  },
  {
   "cell_type": "markdown",
   "metadata": {},
   "source": [
    "#### Постройте гистограммы для каждого параметра: площадь, цена, количество комнат, высота потолка\n",
    "Построены гистограммы зависимостей каждого из параметров от количества проданных квартир."
   ]
  },
  {
   "cell_type": "code",
   "execution_count": 47,
   "metadata": {
    "scrolled": false
   },
   "outputs": [
    {
     "name": "stdout",
     "output_type": "stream",
     "text": [
      "AxesSubplot(0.125,0.125;0.775x0.755)\n"
     ]
    },
    {
     "data": {
      "image/png": "[encoded data removed]",
      "text/plain": [
       "<Figure size 432x288 with 1 Axes>"
      ]
     },
     "metadata": {
      "needs_background": "light"
     },
     "output_type": "display_data"
    },
    {
     "name": "stdout",
     "output_type": "stream",
     "text": [
      "AxesSubplot(0.125,0.125;0.775x0.755)\n"
     ]
    },
    {
     "data": {
      "image/png": "[encoded data removed]",
      "text/plain": [
       "<Figure size 432x288 with 1 Axes>"
      ]
     },
     "metadata": {
      "needs_background": "light"
     },
     "output_type": "display_data"
    },
    {
     "name": "stdout",
     "output_type": "stream",
     "text": [
      "AxesSubplot(0.125,0.125;0.775x0.755)\n"
     ]
    },
    {
     "data": {
      "image/png": "[encoded data removed]",
      "text/plain": [
       "<Figure size 432x288 with 1 Axes>"
      ]
     },
     "metadata": {
      "needs_background": "light"
     },
     "output_type": "display_data"
    },
    {
     "name": "stdout",
     "output_type": "stream",
     "text": [
      "AxesSubplot(0.125,0.125;0.775x0.755)\n"
     ]
    },
    {
     "data": {
      "image/png": "[encoded data removed]",
      "text/plain": [
       "<Figure size 432x288 with 1 Axes>"
      ]
     },
     "metadata": {
      "needs_background": "light"
     },
     "output_type": "display_data"
    }
   ],
   "source": [
    "def hist_plots(data, columns, bins, ranges, ylims, titles):\n",
    "    for i in range(0, len(columns)):\n",
    "        print (data[columns[i]].plot(\n",
    "            kind='hist', \n",
    "            bins=bins[i], \n",
    "            range=ranges[i],\n",
    "            ylim=ylims[i],\n",
    "            title=titles[i]\n",
    "        ))\n",
    "        plt.show()\n",
    "    return\n",
    "\n",
    "hist_plots(data, \n",
    "    ['total_area', 'rooms', 'ceiling_height', 'last_price'],\n",
    "    [100, 10, 20, 100],\n",
    "    [(0, 400), (0, 9), (2.25, 4), (0, 40000000)],\n",
    "    [None, None, None, None],\n",
    "    [\n",
    "        \"Гистограмма зависимости площади квартиры от количества продаж\",\n",
    "        \"Гистограмма зависимости количества комнат в квартире от количества продаж\",\n",
    "        \"Гистограмма зависимости высоты потолка в квартире от количества продаж\",\n",
    "        \"Гистограмма зависимости цены квартиры от количества продаж\"\n",
    "    ]\n",
    ")"
   ]
  },
  {
   "cell_type": "markdown",
   "metadata": {},
   "source": [
    "### Вывод"
   ]
  },
  {
   "cell_type": "markdown",
   "metadata": {},
   "source": [
    "- Цена за квадратный метр для всех квартир, представленных в таблице данных, составила 108 395 рублей.\n",
    "- Чаще всего есть предложения по продаже квартир не на первом и последнем этажах. Количество таких квартир в общей выборке по данным составило 17 446 квартир.\n",
    "- Соотношение жилых представленных квартир к общей площади квартир: 56,50%\n",
    "- Соотношение площади кухни представленных квартир к общему количеству квартир: 17,28%\n",
    "- Наиболее популярными являются квартиры общей площадью от 40 кв. М до 60 кв. М.\n",
    "- Также наиболее популярными являются однокомнатные и двухкомнатные квартиры.\n",
    "- Чаще всего высота потолков востребованных на рынке квартир составляет 2,6 м.\n",
    "- Стоимость самых популярных квартир на рынке составляет 5 000 000 рублей."
   ]
  },
  {
   "cell_type": "markdown",
   "metadata": {},
   "source": [
    "### Шаг 4. Проведите исследовательский анализ данных и выполните инструкции:"
   ]
  },
  {
   "cell_type": "markdown",
   "metadata": {},
   "source": [
    "#### Изучите время продажи квартиры."
   ]
  },
  {
   "cell_type": "markdown",
   "metadata": {},
   "source": [
    "- Постройте гистограмму.\n",
    "- Рассчитайте среднее значение и медиану.\n",
    "- Опишите, сколько обычно занимает продажа.\n",
    "- Когда можно предположить, что продажи были очень быстрыми, а когда - необычно долгим?"
   ]
  },
  {
   "cell_type": "code",
   "execution_count": 48,
   "metadata": {
    "scrolled": true
   },
   "outputs": [
    {
     "data": {
      "text/plain": [
       "count    23699.000000\n",
       "mean       169.360226\n",
       "std        206.535633\n",
       "min          1.000000\n",
       "25%         45.000000\n",
       "50%         95.000000\n",
       "75%        199.000000\n",
       "max       1580.000000\n",
       "Name: days_exposition, dtype: float64"
      ]
     },
     "execution_count": 48,
     "metadata": {},
     "output_type": "execute_result"
    }
   ],
   "source": [
    "data['days_exposition'].describe()"
   ]
  },
  {
   "cell_type": "code",
   "execution_count": 49,
   "metadata": {
    "scrolled": false
   },
   "outputs": [
    {
     "name": "stdout",
     "output_type": "stream",
     "text": [
      "Среднее значение по столбцу 'apartment sale time': 169.36(дней)\n",
      "Медиана в слобце 'apartment sale time': 95.00(дней)\n"
     ]
    }
   ],
   "source": [
    "days_mean = data['days_exposition'].mean()\n",
    "days_median = data['days_exposition'].median()\n",
    "\n",
    "print(\"Среднее значение по столбцу 'apartment sale time': {:.2f}(дней)\".format(days_mean))\n",
    "print(\"Медиана в слобце 'apartment sale time': {:.2f}(дней)\".format(days_median))"
   ]
  },
  {
   "cell_type": "markdown",
   "metadata": {},
   "source": [
    "<font color = green> Давайте построим гистограмму времени продажи квартиры по количеству проданных квартир.</font>"
   ]
  },
  {
   "cell_type": "code",
   "execution_count": 50,
   "metadata": {
    "scrolled": true
   },
   "outputs": [
    {
     "name": "stdout",
     "output_type": "stream",
     "text": [
      "AxesSubplot(0.125,0.125;0.775x0.755)\n"
     ]
    },
    {
     "data": {
      "image/png": "[encoded data removed]",
      "text/plain": [
       "<Figure size 432x288 with 1 Axes>"
      ]
     },
     "metadata": {
      "needs_background": "light"
     },
     "output_type": "display_data"
    }
   ],
   "source": [
    "def hist_plots_time(data, columns, bins, ranges, ylims, titles):\n",
    "    for i in range(0, len(columns)):\n",
    "        print (data[columns[i]].plot(\n",
    "            kind='hist', \n",
    "            bins=bins[i], \n",
    "            range=ranges[i],\n",
    "            ylim=ylims[i],\n",
    "            title=titles[i]\n",
    "        ))\n",
    "        plt.show()\n",
    "    return\n",
    "\n",
    "hist_plots_time(\n",
    "    data, \n",
    "    ['days_exposition'],\n",
    "    [100],\n",
    "    [(0, 600)],\n",
    "    [None],\n",
    "    [\n",
    "        'Гистограмма времени продажи квартиры по количеству продаж',\n",
    "    ]\n",
    ")"
   ]
  },
  {
   "cell_type": "markdown",
   "metadata": {},
   "source": [
    "Удалены значения выбивки из диаграммы выше:"
   ]
  },
  {
   "cell_type": "code",
   "execution_count": 51,
   "metadata": {
    "scrolled": true
   },
   "outputs": [
    {
     "name": "stdout",
     "output_type": "stream",
     "text": [
      "AxesSubplot(0.125,0.125;0.775x0.755)\n"
     ]
    },
    {
     "data": {
      "image/png": "[encoded data removed]",
      "text/plain": [
       "<Figure size 432x288 with 1 Axes>"
      ]
     },
     "metadata": {
      "needs_background": "light"
     },
     "output_type": "display_data"
    }
   ],
   "source": [
    "def hist_plots_time(data, columns, bins, ranges, ylims, titles): \n",
    "    for i in range(0, len(columns)):\n",
    "        print (data[columns[i]].plot(\n",
    "            kind='hist', \n",
    "            bins=bins[i], \n",
    "            range=ranges[i],\n",
    "            ylim=ylims[i],\n",
    "            title=titles[i]\n",
    "        ))\n",
    "        plt.show()\n",
    "    return\n",
    "\n",
    "hist_plots_time(\n",
    "    data, \n",
    "    ['days_exposition'],\n",
    "    [80],\n",
    "    [(0, 300)],\n",
    "    [None],\n",
    "    [\n",
    "        'Гистограмма времени продажи квартиры по количеству продаж',\n",
    "    ]\n",
    ")"
   ]
  },
  {
   "cell_type": "markdown",
   "metadata": {},
   "source": [
    "#### Вывод:\n",
    "Среднее время продажи квартиры: 95 дней\n",
    "Квартира продается сразу или в течение 3 месяцев (95 дней). Гистограмма показывает, что через 90-100 дней наблюдается снижение количества проданных квартир."
   ]
  },
  {
   "cell_type": "markdown",
   "metadata": {},
   "source": [
    "#### Удалить редкие и устаревшие значения.\n",
    "Мы изучаем факторы, влияющие на стоимость недвижимости."
   ]
  },
  {
   "cell_type": "markdown",
   "metadata": {},
   "source": [
    "<font color = green> Факторы будут рассматриваться в контексте данных, которые были очищены на предыдущих этапах. Для ломтиков у нас будут следующие условия:</font>"
   ]
  },
  {
   "cell_type": "code",
   "execution_count": 52,
   "metadata": {},
   "outputs": [],
   "source": [
    "total_area_query = 'total_area >= 12 and total_area <= 115'\n",
    "last_price_query = 'last_price >= 4.3e+5 and last_price <= 1.2e+7'\n",
    "rooms_query = 'rooms >= 1 and rooms <= 6'\n",
    "ceiling_height_query = 'ceiling_height >= 2.4 and ceiling_height <= 3.2'\n",
    "days_exposition_query = 'days_exposition >= 7 and days_exposition <= 430'"
   ]
  },
  {
   "cell_type": "markdown",
   "metadata": {},
   "source": [
    "<font color = green> Зависимость стоимости недвижимости от цены за квадратный метр.</font>"
   ]
  },
  {
   "cell_type": "code",
   "execution_count": 53,
   "metadata": {
    "scrolled": true
   },
   "outputs": [
    {
     "data": {
      "image/png": "[encoded data removed]",
      "text/plain": [
       "<Figure size 432x288 with 1 Axes>"
      ]
     },
     "metadata": {
      "needs_background": "light"
     },
     "output_type": "display_data"
    }
   ],
   "source": [
    "clean_data_query = f'{total_area_query} and {last_price_query}'\n",
    "clean_data = data.query(clean_data_query)\n",
    "\n",
    "clean_data.plot(x='meter_price', y='last_price', kind='scatter')\n",
    "plt.show()"
   ]
  },
  {
   "cell_type": "code",
   "execution_count": 54,
   "metadata": {
    "scrolled": true
   },
   "outputs": [
    {
     "name": "stdout",
     "output_type": "stream",
     "text": [
      "Соотношение стоимости имущества с ценой за квадратный метр: 0.63\n"
     ]
    }
   ],
   "source": [
    "cor_clean_meter = clean_data['meter_price'].corr(clean_data['last_price'])\n",
    "print(\"Соотношение стоимости имущества с ценой за квадратный метр: {:.2f}\".format(cor_clean_meter))"
   ]
  },
  {
   "cell_type": "markdown",
   "metadata": {},
   "source": [
    "<font color = green> Зависимость стоимости недвижимости от количества комнат.</font>"
   ]
  },
  {
   "cell_type": "code",
   "execution_count": 55,
   "metadata": {
    "scrolled": true
   },
   "outputs": [
    {
     "data": {
      "image/png": "[encoded data removed]",
      "text/plain": [
       "<Figure size 432x288 with 1 Axes>"
      ]
     },
     "metadata": {
      "needs_background": "light"
     },
     "output_type": "display_data"
    }
   ],
   "source": [
    "clean_data_query = f'{rooms_query} and {last_price_query}'\n",
    "clean_data = data.query(clean_data_query)\n",
    "\n",
    "clean_data.plot(x='rooms', y='last_price', kind='scatter')\n",
    "plt.show()"
   ]
  },
  {
   "cell_type": "code",
   "execution_count": 56,
   "metadata": {
    "scrolled": true
   },
   "outputs": [
    {
     "name": "stdout",
     "output_type": "stream",
     "text": [
      "AxesSubplot(0.125,0.125;0.775x0.755)\n"
     ]
    },
    {
     "data": {
      "image/png": "[encoded data removed]",
      "text/plain": [
       "<Figure size 432x288 with 1 Axes>"
      ]
     },
     "metadata": {
      "needs_background": "light"
     },
     "output_type": "display_data"
    }
   ],
   "source": [
    "def hist_plots_room(data, columns, bins, ranges, ylims, titles):\n",
    "    for i in range(0, len(columns)):\n",
    "        print (data[columns[i]].plot(\n",
    "            kind='hist', \n",
    "            bins=bins[i], \n",
    "            range=ranges[i],\n",
    "            ylim=ylims[i],\n",
    "            title=titles[i]\n",
    "        ))\n",
    "        plt.show()\n",
    "    return\n",
    "\n",
    "hist_plots_room(\n",
    "    clean_data, \n",
    "    ['rooms'],\n",
    "    [10],\n",
    "    [(1, 6)],\n",
    "    [None],\n",
    "    [\n",
    "        'Гистограмма зависимости стоимости имущества от количества комнат',\n",
    "    ]\n",
    ")"
   ]
  },
  {
   "cell_type": "code",
   "execution_count": 57,
   "metadata": {
    "scrolled": true
   },
   "outputs": [
    {
     "name": "stdout",
     "output_type": "stream",
     "text": [
      "Соотношение стоимости недвижимости с количеством комнат: 0.45\n"
     ]
    }
   ],
   "source": [
    "cor_clean_rooms = clean_data['rooms'].corr(clean_data['last_price'])\n",
    "print(\"Соотношение стоимости недвижимости с количеством комнат: {:.2f}\".format(cor_clean_rooms))"
   ]
  },
  {
   "cell_type": "markdown",
   "metadata": {},
   "source": [
    "<font color = green> Зависимость стоимости недвижимости от пола.</font>"
   ]
  },
  {
   "cell_type": "code",
   "execution_count": 58,
   "metadata": {
    "scrolled": true
   },
   "outputs": [
    {
     "data": {
      "text/html": [
       "<div>\n",
       "<style scoped>\n",
       "    .dataframe tbody tr th:only-of-type {\n",
       "        vertical-align: middle;\n",
       "    }\n",
       "\n",
       "    .dataframe tbody tr th {\n",
       "        vertical-align: top;\n",
       "    }\n",
       "\n",
       "    .dataframe thead th {\n",
       "        text-align: right;\n",
       "    }\n",
       "</style>\n",
       "<table border=\"1\" class=\"dataframe\">\n",
       "  <thead>\n",
       "    <tr style=\"text-align: right;\">\n",
       "      <th></th>\n",
       "      <th>last_price</th>\n",
       "    </tr>\n",
       "    <tr>\n",
       "      <th>floor</th>\n",
       "      <th></th>\n",
       "    </tr>\n",
       "  </thead>\n",
       "  <tbody>\n",
       "    <tr>\n",
       "      <td>1</td>\n",
       "      <td>4.160474e+06</td>\n",
       "    </tr>\n",
       "    <tr>\n",
       "      <td>2</td>\n",
       "      <td>4.727048e+06</td>\n",
       "    </tr>\n",
       "    <tr>\n",
       "      <td>3</td>\n",
       "      <td>4.894708e+06</td>\n",
       "    </tr>\n",
       "    <tr>\n",
       "      <td>4</td>\n",
       "      <td>4.873951e+06</td>\n",
       "    </tr>\n",
       "    <tr>\n",
       "      <td>5</td>\n",
       "      <td>4.622358e+06</td>\n",
       "    </tr>\n",
       "    <tr>\n",
       "      <td>6</td>\n",
       "      <td>5.264891e+06</td>\n",
       "    </tr>\n",
       "    <tr>\n",
       "      <td>7</td>\n",
       "      <td>5.116754e+06</td>\n",
       "    </tr>\n",
       "    <tr>\n",
       "      <td>8</td>\n",
       "      <td>5.094503e+06</td>\n",
       "    </tr>\n",
       "    <tr>\n",
       "      <td>9</td>\n",
       "      <td>5.076549e+06</td>\n",
       "    </tr>\n",
       "    <tr>\n",
       "      <td>10</td>\n",
       "      <td>5.396741e+06</td>\n",
       "    </tr>\n",
       "    <tr>\n",
       "      <td>11</td>\n",
       "      <td>5.456481e+06</td>\n",
       "    </tr>\n",
       "    <tr>\n",
       "      <td>12</td>\n",
       "      <td>5.433257e+06</td>\n",
       "    </tr>\n",
       "    <tr>\n",
       "      <td>13</td>\n",
       "      <td>5.461194e+06</td>\n",
       "    </tr>\n",
       "    <tr>\n",
       "      <td>14</td>\n",
       "      <td>5.302409e+06</td>\n",
       "    </tr>\n",
       "    <tr>\n",
       "      <td>15</td>\n",
       "      <td>5.296633e+06</td>\n",
       "    </tr>\n",
       "    <tr>\n",
       "      <td>16</td>\n",
       "      <td>5.421473e+06</td>\n",
       "    </tr>\n",
       "    <tr>\n",
       "      <td>17</td>\n",
       "      <td>5.172536e+06</td>\n",
       "    </tr>\n",
       "    <tr>\n",
       "      <td>18</td>\n",
       "      <td>5.225236e+06</td>\n",
       "    </tr>\n",
       "    <tr>\n",
       "      <td>19</td>\n",
       "      <td>5.143489e+06</td>\n",
       "    </tr>\n",
       "    <tr>\n",
       "      <td>20</td>\n",
       "      <td>5.330634e+06</td>\n",
       "    </tr>\n",
       "    <tr>\n",
       "      <td>21</td>\n",
       "      <td>5.327061e+06</td>\n",
       "    </tr>\n",
       "    <tr>\n",
       "      <td>22</td>\n",
       "      <td>5.780966e+06</td>\n",
       "    </tr>\n",
       "    <tr>\n",
       "      <td>23</td>\n",
       "      <td>5.411139e+06</td>\n",
       "    </tr>\n",
       "    <tr>\n",
       "      <td>24</td>\n",
       "      <td>5.496116e+06</td>\n",
       "    </tr>\n",
       "    <tr>\n",
       "      <td>25</td>\n",
       "      <td>5.376204e+06</td>\n",
       "    </tr>\n",
       "    <tr>\n",
       "      <td>26</td>\n",
       "      <td>4.571042e+06</td>\n",
       "    </tr>\n",
       "    <tr>\n",
       "      <td>27</td>\n",
       "      <td>4.765702e+06</td>\n",
       "    </tr>\n",
       "    <tr>\n",
       "      <td>28</td>\n",
       "      <td>5.990000e+06</td>\n",
       "    </tr>\n",
       "    <tr>\n",
       "      <td>29</td>\n",
       "      <td>9.200000e+06</td>\n",
       "    </tr>\n",
       "    <tr>\n",
       "      <td>30</td>\n",
       "      <td>1.015000e+07</td>\n",
       "    </tr>\n",
       "    <tr>\n",
       "      <td>31</td>\n",
       "      <td>5.700000e+06</td>\n",
       "    </tr>\n",
       "    <tr>\n",
       "      <td>32</td>\n",
       "      <td>9.900000e+06</td>\n",
       "    </tr>\n",
       "    <tr>\n",
       "      <td>33</td>\n",
       "      <td>9.900000e+06</td>\n",
       "    </tr>\n",
       "  </tbody>\n",
       "</table>\n",
       "</div>"
      ],
      "text/plain": [
       "         last_price\n",
       "floor              \n",
       "1      4.160474e+06\n",
       "2      4.727048e+06\n",
       "3      4.894708e+06\n",
       "4      4.873951e+06\n",
       "5      4.622358e+06\n",
       "6      5.264891e+06\n",
       "7      5.116754e+06\n",
       "8      5.094503e+06\n",
       "9      5.076549e+06\n",
       "10     5.396741e+06\n",
       "11     5.456481e+06\n",
       "12     5.433257e+06\n",
       "13     5.461194e+06\n",
       "14     5.302409e+06\n",
       "15     5.296633e+06\n",
       "16     5.421473e+06\n",
       "17     5.172536e+06\n",
       "18     5.225236e+06\n",
       "19     5.143489e+06\n",
       "20     5.330634e+06\n",
       "21     5.327061e+06\n",
       "22     5.780966e+06\n",
       "23     5.411139e+06\n",
       "24     5.496116e+06\n",
       "25     5.376204e+06\n",
       "26     4.571042e+06\n",
       "27     4.765702e+06\n",
       "28     5.990000e+06\n",
       "29     9.200000e+06\n",
       "30     1.015000e+07\n",
       "31     5.700000e+06\n",
       "32     9.900000e+06\n",
       "33     9.900000e+06"
      ]
     },
     "execution_count": 58,
     "metadata": {},
     "output_type": "execute_result"
    }
   ],
   "source": [
    "data[['floor', 'last_price']].query(last_price_query).pivot_table(index='floor', values='last_price')"
   ]
  },
  {
   "cell_type": "code",
   "execution_count": 59,
   "metadata": {
    "scrolled": true
   },
   "outputs": [
    {
     "name": "stdout",
     "output_type": "stream",
     "text": [
      "Соотношение стоимости имущества от этажа: 0.13\n"
     ]
    }
   ],
   "source": [
    "cor_clea_floor = clean_data['floor'].corr(clean_data['last_price'])\n",
    "print(\"Соотношение стоимости имущества от этажа: {:.2f}\".format(cor_clea_floor))"
   ]
  },
  {
   "cell_type": "code",
   "execution_count": 60,
   "metadata": {
    "scrolled": true
   },
   "outputs": [
    {
     "data": {
      "image/png": "[encoded data removed]",
      "text/plain": [
       "<Figure size 432x288 with 1 Axes>"
      ]
     },
     "metadata": {
      "needs_background": "light"
     },
     "output_type": "display_data"
    }
   ],
   "source": [
    "clean_data = data.query(last_price_query)\n",
    "data.plot(x='cityCenters_nearest', y='last_price', kind='scatter')\n",
    "plt.show()"
   ]
  },
  {
   "cell_type": "code",
   "execution_count": 61,
   "metadata": {
    "scrolled": true
   },
   "outputs": [
    {
     "name": "stdout",
     "output_type": "stream",
     "text": [
      "Соотношение стоимости недвижимости с количеством комнат: 0.11\n"
     ]
    }
   ],
   "source": [
    "cor_clean_cityCenters = clean_data['cityCenters_nearest'].corr(clean_data['last_price'])\n",
    "print(\"Соотношение стоимости недвижимости с количеством комнат: {:.2f}\".format(cor_clean_cityCenters))"
   ]
  },
  {
   "cell_type": "markdown",
   "metadata": {},
   "source": [
    "<font color = green> Зависимость стоимости недвижимости от даты публикации объявления.</font>"
   ]
  },
  {
   "cell_type": "code",
   "execution_count": 62,
   "metadata": {},
   "outputs": [],
   "source": [
    "clean_data = data.query(f'{days_exposition_query} and {last_price_query}')"
   ]
  },
  {
   "cell_type": "code",
   "execution_count": 63,
   "metadata": {
    "scrolled": true
   },
   "outputs": [
    {
     "data": {
      "text/html": [
       "<div>\n",
       "<style scoped>\n",
       "    .dataframe tbody tr th:only-of-type {\n",
       "        vertical-align: middle;\n",
       "    }\n",
       "\n",
       "    .dataframe tbody tr th {\n",
       "        vertical-align: top;\n",
       "    }\n",
       "\n",
       "    .dataframe thead th {\n",
       "        text-align: right;\n",
       "    }\n",
       "</style>\n",
       "<table border=\"1\" class=\"dataframe\">\n",
       "  <thead>\n",
       "    <tr style=\"text-align: right;\">\n",
       "      <th></th>\n",
       "      <th>day_week</th>\n",
       "      <th>month</th>\n",
       "      <th>year</th>\n",
       "      <th>last_price</th>\n",
       "    </tr>\n",
       "  </thead>\n",
       "  <tbody>\n",
       "    <tr>\n",
       "      <td>day_week</td>\n",
       "      <td>1.000000</td>\n",
       "      <td>0.010180</td>\n",
       "      <td>-0.013679</td>\n",
       "      <td>-0.012430</td>\n",
       "    </tr>\n",
       "    <tr>\n",
       "      <td>month</td>\n",
       "      <td>0.010180</td>\n",
       "      <td>1.000000</td>\n",
       "      <td>-0.305183</td>\n",
       "      <td>0.004125</td>\n",
       "    </tr>\n",
       "    <tr>\n",
       "      <td>year</td>\n",
       "      <td>-0.013679</td>\n",
       "      <td>-0.305183</td>\n",
       "      <td>1.000000</td>\n",
       "      <td>0.028693</td>\n",
       "    </tr>\n",
       "    <tr>\n",
       "      <td>last_price</td>\n",
       "      <td>-0.012430</td>\n",
       "      <td>0.004125</td>\n",
       "      <td>0.028693</td>\n",
       "      <td>1.000000</td>\n",
       "    </tr>\n",
       "  </tbody>\n",
       "</table>\n",
       "</div>"
      ],
      "text/plain": [
       "            day_week     month      year  last_price\n",
       "day_week    1.000000  0.010180 -0.013679   -0.012430\n",
       "month       0.010180  1.000000 -0.305183    0.004125\n",
       "year       -0.013679 -0.305183  1.000000    0.028693\n",
       "last_price -0.012430  0.004125  0.028693    1.000000"
      ]
     },
     "execution_count": 63,
     "metadata": {},
     "output_type": "execute_result"
    }
   ],
   "source": [
    "clean_data[['day_week', 'month', 'year', 'last_price']].corr()"
   ]
  },
  {
   "cell_type": "markdown",
   "metadata": {},
   "source": [
    "<font color = green> Составьте гистограммы зависимостей каждого из параметров от количества проданных квартир.</font>\n",
    "<font color = green> Такие гистограммы уже созданы, но теперь мы будем строить гистограммы после очистки.</font>"
   ]
  },
  {
   "cell_type": "code",
   "execution_count": 64,
   "metadata": {
    "scrolled": true
   },
   "outputs": [
    {
     "name": "stdout",
     "output_type": "stream",
     "text": [
      "AxesSubplot(0.125,0.125;0.775x0.755)\n"
     ]
    },
    {
     "data": {
      "image/png": "[encoded data removed]",
      "text/plain": [
       "<Figure size 432x288 with 1 Axes>"
      ]
     },
     "metadata": {
      "needs_background": "light"
     },
     "output_type": "display_data"
    },
    {
     "name": "stdout",
     "output_type": "stream",
     "text": [
      "AxesSubplot(0.125,0.125;0.775x0.755)\n"
     ]
    },
    {
     "data": {
      "image/png": "[encoded data removed]",
      "text/plain": [
       "<Figure size 432x288 with 1 Axes>"
      ]
     },
     "metadata": {
      "needs_background": "light"
     },
     "output_type": "display_data"
    },
    {
     "name": "stdout",
     "output_type": "stream",
     "text": [
      "AxesSubplot(0.125,0.125;0.775x0.755)\n"
     ]
    },
    {
     "data": {
      "image/png": "[encoded data removed]",
      "text/plain": [
       "<Figure size 432x288 with 1 Axes>"
      ]
     },
     "metadata": {
      "needs_background": "light"
     },
     "output_type": "display_data"
    },
    {
     "name": "stdout",
     "output_type": "stream",
     "text": [
      "AxesSubplot(0.125,0.125;0.775x0.755)\n"
     ]
    },
    {
     "data": {
      "image/png": "[encoded data removed]",
      "text/plain": [
       "<Figure size 432x288 with 1 Axes>"
      ]
     },
     "metadata": {
      "needs_background": "light"
     },
     "output_type": "display_data"
    },
    {
     "name": "stdout",
     "output_type": "stream",
     "text": [
      "AxesSubplot(0.125,0.125;0.775x0.755)\n"
     ]
    },
    {
     "data": {
      "image/png": "[encoded data removed]",
      "text/plain": [
       "<Figure size 432x288 with 1 Axes>"
      ]
     },
     "metadata": {
      "needs_background": "light"
     },
     "output_type": "display_data"
    }
   ],
   "source": [
    "hist_plots(data,\n",
    "    ['total_area', 'last_price', 'rooms', 'ceiling_height', 'days_exposition'],\n",
    "    [80, 30, 5, 10, 80],\n",
    "    [(0, 150), (0, 15000000), (0, 5), (2.25, 3.25), (0, 300)],\n",
    "    [(0, 1100), None, None, None, (0, 600)],\n",
    "    [\n",
    "        \"Гистограмма зависимости площади квартиры от количества продаж\",\n",
    "        \"Гистограмма зависимости цены квартиры от количества продаж\",\n",
    "        \"Гистограмма зависимости количества комнат в квартире от количества продаж\",\n",
    "        \"Гистограмма зависимости высоты потолка в квартире от количества продаж\",\n",
    "        \"Гистограмма срока продажи квартиры по количеству продаж\"\n",
    "    ]\n",
    ")"
   ]
  },
  {
   "cell_type": "markdown",
   "metadata": {},
   "source": [
    "#### Вывод:\n",
    "- Согласно графикам и коэффициенту корреляции зависимости стоимости недвижимости от цены за квадратный метр, мы видим, что существует связь между изменением цены за квадратный метр и стоимостью недвижимости, равным 0,63 ,\n",
    "- По графикам и коэффициенту корреляции зависимости стоимости недвижимости от количества комнат можно сказать, что существует связь между изменением стоимости недвижимости и количеством комнат, но она слабая , равный 0,45.\n",
    "- По графику и коэффициенту корреляции зависимости стоимости недвижимости от пола можно сказать, что существует связь между изменением стоимости недвижимости и полом, но она слабая, равная 0,13. Примечательно, что квартиры на первом этаже самые дешевые от 4 000 000 руб.\n",
    "- Квартиры площадью от 35 до 60 кв. М лучше всего продаются.\n",
    "- Больше всего квартир с ценой 2 500 000 руб. до 7 000 000 руб.\n",
    "- Однокомнатные и двухкомнатные квартиры пользуются наибольшим спросом.\n",
    "- Самая популярная высота потолков 2,5м - 2,8м\n",
    "- Большинство квартир продаются довольно быстро. от 0 до 95-160 дней."
   ]
  },
  {
   "cell_type": "markdown",
   "metadata": {},
   "source": [
    "#### Какие факторы больше всего влияют на стоимость квартиры?"
   ]
  },
  {
   "cell_type": "markdown",
   "metadata": {},
   "source": [
    "- Проверьте, зависит ли цена от квадратного метра, количества комнат, этажа (первый или последний), удаленности от центра. Также изучите зависимость от даты размещения: день недели, месяц и год.\n",
    "- Выберите 10 мест с наибольшим количеством объявлений.\n",
    "- Рассчитайте среднюю цену за квадратный метр в этих населенных пунктах.\n",
    "- Выделите населенные пункты с самой высокой и самой низкой стоимостью жилья. Эти данные можно найти по имени в столбце «locality_name»."
   ]
  },
  {
   "cell_type": "markdown",
   "metadata": {},
   "source": [
    "<font color = green> Зависимость цены квартир от параметров: 1) цены за квадратный метр, 2) количество комнат, этаж (первый или последний), 3) удаленность от центра, с 4) дата размещения 5) день недели, 6) месяц и 7) год.</font>"
   ]
  },
  {
   "cell_type": "code",
   "execution_count": 65,
   "metadata": {
    "scrolled": false
   },
   "outputs": [
    {
     "name": "stdout",
     "output_type": "stream",
     "text": [
      "Зависимость цены от цены за квадратный метр: 0.736499\n",
      "Зависимость цены от количества комнат: 0.363343\n",
      "Зависимость цены от этажа: 0.363343\n",
      "Зависимость цены от расстояния до центра: -0.206909\n",
      "Зависимость цены от дня публикации: 0.001550\n",
      "Ценовая зависимость от месяца публикации: 0.002779\n",
      "Зависимость цены от года публикации: -0.043089\n"
     ]
    }
   ],
   "source": [
    "cor_meter = data['last_price'].corr(data['meter_price'])\n",
    "print(\"Зависимость цены от цены за квадратный метр: {:.6f}\".format(cor_meter))\n",
    "\n",
    "cor_rooms = data['last_price'].corr(data['rooms'])\n",
    "print(\"Зависимость цены от количества комнат: {:.6f}\".format(cor_rooms))\n",
    "\n",
    "data['floor_kind_category'] = data['floor'].astype('category').cat.codes\n",
    "cor_floor = data['last_price'].corr(data['floor_kind_category'])\n",
    "print(\"Зависимость цены от этажа: {:.6f}\".format(cor_rooms))\n",
    "\n",
    "cor_city = data['last_price'].corr(data[data['cityCenters_nearest'] != -999.99]['cityCenters_nearest'])\n",
    "print(\"Зависимость цены от расстояния до центра: {:.6f}\".format(cor_city))\n",
    "\n",
    "cor_days = data['last_price'].corr(data['day_week'])\n",
    "print (\"Зависимость цены от дня публикации: {:.6f}\".format(cor_days))\n",
    "cor_month = data['last_price'].corr(data['month'])\n",
    "print (\"Ценовая зависимость от месяца публикации: {:.6f}\".format(cor_month))\n",
    "cor_year = data['last_price'].corr(data['year']) \n",
    "print (\"Зависимость цены от года публикации: {:.6f}\".format(cor_year))"
   ]
  },
  {
   "cell_type": "markdown",
   "metadata": {},
   "source": [
    "- Цена квартиры зависит от цены за квадратный метр. Зависимость от количества комнат также прослеживается.\n",
    "- Цена не зависит от других параметров, представленных выше - коэффициент корреляции меньше 0,1 и стремится к нулю."
   ]
  },
  {
   "cell_type": "markdown",
   "metadata": {},
   "source": [
    "<font color = green> Мы анализируем 10 населенных пунктов с наибольшим количеством объявлений.</font>"
   ]
  },
  {
   "cell_type": "code",
   "execution_count": 66,
   "metadata": {
    "scrolled": true
   },
   "outputs": [
    {
     "data": {
      "text/html": [
       "<div>\n",
       "<style scoped>\n",
       "    .dataframe tbody tr th:only-of-type {\n",
       "        vertical-align: middle;\n",
       "    }\n",
       "\n",
       "    .dataframe tbody tr th {\n",
       "        vertical-align: top;\n",
       "    }\n",
       "\n",
       "    .dataframe thead th {\n",
       "        text-align: right;\n",
       "    }\n",
       "</style>\n",
       "<table border=\"1\" class=\"dataframe\">\n",
       "  <thead>\n",
       "    <tr style=\"text-align: right;\">\n",
       "      <th></th>\n",
       "      <th>locality_name</th>\n",
       "      <th>count</th>\n",
       "    </tr>\n",
       "  </thead>\n",
       "  <tbody>\n",
       "    <tr>\n",
       "      <td>34</td>\n",
       "      <td>Санкт-Петербург</td>\n",
       "      <td>15721</td>\n",
       "    </tr>\n",
       "    <tr>\n",
       "      <td>292</td>\n",
       "      <td>посёлок Мурино</td>\n",
       "      <td>522</td>\n",
       "    </tr>\n",
       "    <tr>\n",
       "      <td>327</td>\n",
       "      <td>посёлок Шушары</td>\n",
       "      <td>440</td>\n",
       "    </tr>\n",
       "    <tr>\n",
       "      <td>4</td>\n",
       "      <td>Всеволожск</td>\n",
       "      <td>398</td>\n",
       "    </tr>\n",
       "    <tr>\n",
       "      <td>33</td>\n",
       "      <td>Пушкин</td>\n",
       "      <td>369</td>\n",
       "    </tr>\n",
       "    <tr>\n",
       "      <td>14</td>\n",
       "      <td>Колпино</td>\n",
       "      <td>338</td>\n",
       "    </tr>\n",
       "    <tr>\n",
       "      <td>297</td>\n",
       "      <td>посёлок Парголово</td>\n",
       "      <td>327</td>\n",
       "    </tr>\n",
       "    <tr>\n",
       "      <td>7</td>\n",
       "      <td>Гатчина</td>\n",
       "      <td>307</td>\n",
       "    </tr>\n",
       "    <tr>\n",
       "      <td>94</td>\n",
       "      <td>деревня Кудрово</td>\n",
       "      <td>299</td>\n",
       "    </tr>\n",
       "    <tr>\n",
       "      <td>5</td>\n",
       "      <td>Выборг</td>\n",
       "      <td>237</td>\n",
       "    </tr>\n",
       "  </tbody>\n",
       "</table>\n",
       "</div>"
      ],
      "text/plain": [
       "         locality_name  count\n",
       "34     Санкт-Петербург  15721\n",
       "292     посёлок Мурино    522\n",
       "327     посёлок Шушары    440\n",
       "4           Всеволожск    398\n",
       "33              Пушкин    369\n",
       "14             Колпино    338\n",
       "297  посёлок Парголово    327\n",
       "7              Гатчина    307\n",
       "94     деревня Кудрово    299\n",
       "5               Выборг    237"
      ]
     },
     "execution_count": 66,
     "metadata": {},
     "output_type": "execute_result"
    }
   ],
   "source": [
    "top_city = data.groupby('locality_name')['last_price'].count().reset_index(name='count').sort_values(['count'], ascending=False).head(10)\n",
    "top_city"
   ]
  },
  {
   "cell_type": "markdown",
   "metadata": {},
   "source": [
    "<font color = green> Мы рассчитываем среднюю цену за квадратный метр в этих населенных пунктах.</font>"
   ]
  },
  {
   "cell_type": "code",
   "execution_count": 67,
   "metadata": {
    "scrolled": true
   },
   "outputs": [
    {
     "data": {
      "text/html": [
       "<div>\n",
       "<style scoped>\n",
       "    .dataframe tbody tr th:only-of-type {\n",
       "        vertical-align: middle;\n",
       "    }\n",
       "\n",
       "    .dataframe tbody tr th {\n",
       "        vertical-align: top;\n",
       "    }\n",
       "\n",
       "    .dataframe thead th {\n",
       "        text-align: right;\n",
       "    }\n",
       "</style>\n",
       "<table border=\"1\" class=\"dataframe\">\n",
       "  <thead>\n",
       "    <tr style=\"text-align: right;\">\n",
       "      <th></th>\n",
       "      <th>locality_name</th>\n",
       "      <th>count</th>\n",
       "      <th>mean_price</th>\n",
       "    </tr>\n",
       "  </thead>\n",
       "  <tbody>\n",
       "    <tr>\n",
       "      <td>34</td>\n",
       "      <td>Санкт-Петербург</td>\n",
       "      <td>15721</td>\n",
       "      <td>104761.0</td>\n",
       "    </tr>\n",
       "    <tr>\n",
       "      <td>292</td>\n",
       "      <td>посёлок Мурино</td>\n",
       "      <td>522</td>\n",
       "      <td>85878.0</td>\n",
       "    </tr>\n",
       "    <tr>\n",
       "      <td>327</td>\n",
       "      <td>посёлок Шушары</td>\n",
       "      <td>440</td>\n",
       "      <td>76876.0</td>\n",
       "    </tr>\n",
       "    <tr>\n",
       "      <td>4</td>\n",
       "      <td>Всеволожск</td>\n",
       "      <td>398</td>\n",
       "      <td>65789.0</td>\n",
       "    </tr>\n",
       "    <tr>\n",
       "      <td>33</td>\n",
       "      <td>Пушкин</td>\n",
       "      <td>369</td>\n",
       "      <td>100000.0</td>\n",
       "    </tr>\n",
       "    <tr>\n",
       "      <td>14</td>\n",
       "      <td>Колпино</td>\n",
       "      <td>338</td>\n",
       "      <td>74723.5</td>\n",
       "    </tr>\n",
       "    <tr>\n",
       "      <td>297</td>\n",
       "      <td>посёлок Парголово</td>\n",
       "      <td>327</td>\n",
       "      <td>91642.0</td>\n",
       "    </tr>\n",
       "    <tr>\n",
       "      <td>7</td>\n",
       "      <td>Гатчина</td>\n",
       "      <td>307</td>\n",
       "      <td>67796.0</td>\n",
       "    </tr>\n",
       "    <tr>\n",
       "      <td>94</td>\n",
       "      <td>деревня Кудрово</td>\n",
       "      <td>299</td>\n",
       "      <td>91860.0</td>\n",
       "    </tr>\n",
       "    <tr>\n",
       "      <td>5</td>\n",
       "      <td>Выборг</td>\n",
       "      <td>237</td>\n",
       "      <td>58158.0</td>\n",
       "    </tr>\n",
       "  </tbody>\n",
       "</table>\n",
       "</div>"
      ],
      "text/plain": [
       "         locality_name  count  mean_price\n",
       "34     Санкт-Петербург  15721    104761.0\n",
       "292     посёлок Мурино    522     85878.0\n",
       "327     посёлок Шушары    440     76876.0\n",
       "4           Всеволожск    398     65789.0\n",
       "33              Пушкин    369    100000.0\n",
       "14             Колпино    338     74723.5\n",
       "297  посёлок Парголово    327     91642.0\n",
       "7              Гатчина    307     67796.0\n",
       "94     деревня Кудрово    299     91860.0\n",
       "5               Выборг    237     58158.0"
      ]
     },
     "execution_count": 67,
     "metadata": {},
     "output_type": "execute_result"
    }
   ],
   "source": [
    "def mean_price(row):\n",
    "    return data[data['locality_name'] == row]['meter_price'].median()\n",
    "\n",
    "top_city['mean_price'] = top_city['locality_name'].apply(mean_price)\n",
    "top_city"
   ]
  },
  {
   "cell_type": "markdown",
   "metadata": {},
   "source": [
    "<font color = green> Он найдет населенные пункты с самой высокой и самой низкой стоимостью жилья.</font>"
   ]
  },
  {
   "cell_type": "code",
   "execution_count": 68,
   "metadata": {
    "scrolled": true
   },
   "outputs": [
    {
     "name": "stdout",
     "output_type": "stream",
     "text": [
      "Самая высокая стоимость жилья в \" Санкт-Петербург\"\n",
      "Самая низкая стоимость жилья в \" Выборг\"\n"
     ]
    }
   ],
   "source": [
    "print(f\"Самая высокая стоимость жилья в \\\"{top_city.sort_values(by='mean_price', ascending=False).head(1)['locality_name'].to_string(index=False)}\\\"\")\n",
    "print(f\"Самая низкая стоимость жилья в \\\"{top_city.sort_values(by='mean_price').head(1)['locality_name'].to_string(index=False)}\\\"\")"
   ]
  },
  {
   "cell_type": "markdown",
   "metadata": {},
   "source": [
    "#### Изучите предложения квартир в Санкт-Петербурге."
   ]
  },
  {
   "cell_type": "markdown",
   "metadata": {},
   "source": [
    "- Для каждой квартиры есть информация о расстоянии до центра. Выделите квартиры в Санкт-Петербурге ('locality_name'). Ваша задача выяснить, какая область находится в центре. Создайте столбец с расстоянием до центра в километрах: от округления до целых значений.\n",
    "- После этого рассчитайте среднюю цену за каждый километр.\n",
    "- Постройте график: он должен показать, как цена зависит от расстояния от центра.\n",
    "- Определите границу, где график сильно меняется - это будет центральная зона."
   ]
  },
  {
   "cell_type": "markdown",
   "metadata": {},
   "source": [
    "<font color = green> Мы фильтруем данные по местоположению \"Санкт-Петербург\":</font>"
   ]
  },
  {
   "cell_type": "code",
   "execution_count": 69,
   "metadata": {
    "scrolled": true
   },
   "outputs": [
    {
     "name": "stdout",
     "output_type": "stream",
     "text": [
      "Количество квартир на продажу в Санкт-Петербурге:\"15721\"\n"
     ]
    }
   ],
   "source": [
    "spb_city = pd.DataFrame(data.loc[data['locality_name'] == 'Санкт-Петербург'])\n",
    "spb_city.reset_index()\n",
    "print (f\"Количество квартир на продажу в Санкт-Петербурге:\\\"{len(spb_city)}\\\"\")"
   ]
  },
  {
   "cell_type": "markdown",
   "metadata": {},
   "source": [
    "<font color = green> Создайте столбец с расстоянием до центра в километрах с округлением до целых значений.</font>"
   ]
  },
  {
   "cell_type": "code",
   "execution_count": 70,
   "metadata": {
    "scrolled": true
   },
   "outputs": [
    {
     "data": {
      "text/html": [
       "<div>\n",
       "<style scoped>\n",
       "    .dataframe tbody tr th:only-of-type {\n",
       "        vertical-align: middle;\n",
       "    }\n",
       "\n",
       "    .dataframe tbody tr th {\n",
       "        vertical-align: top;\n",
       "    }\n",
       "\n",
       "    .dataframe thead th {\n",
       "        text-align: right;\n",
       "    }\n",
       "</style>\n",
       "<table border=\"1\" class=\"dataframe\">\n",
       "  <thead>\n",
       "    <tr style=\"text-align: right;\">\n",
       "      <th></th>\n",
       "      <th>cityCenters_nearest_km</th>\n",
       "      <th>cityCenters_nearest</th>\n",
       "    </tr>\n",
       "  </thead>\n",
       "  <tbody>\n",
       "    <tr>\n",
       "      <td>0</td>\n",
       "      <td>16.028</td>\n",
       "      <td>16028.0</td>\n",
       "    </tr>\n",
       "    <tr>\n",
       "      <td>2</td>\n",
       "      <td>13.933</td>\n",
       "      <td>13933.0</td>\n",
       "    </tr>\n",
       "    <tr>\n",
       "      <td>3</td>\n",
       "      <td>6.800</td>\n",
       "      <td>6800.0</td>\n",
       "    </tr>\n",
       "    <tr>\n",
       "      <td>4</td>\n",
       "      <td>8.098</td>\n",
       "      <td>8098.0</td>\n",
       "    </tr>\n",
       "    <tr>\n",
       "      <td>7</td>\n",
       "      <td>11.634</td>\n",
       "      <td>11634.0</td>\n",
       "    </tr>\n",
       "  </tbody>\n",
       "</table>\n",
       "</div>"
      ],
      "text/plain": [
       "   cityCenters_nearest_km  cityCenters_nearest\n",
       "0                  16.028              16028.0\n",
       "2                  13.933              13933.0\n",
       "3                   6.800               6800.0\n",
       "4                   8.098               8098.0\n",
       "7                  11.634              11634.0"
      ]
     },
     "execution_count": 70,
     "metadata": {},
     "output_type": "execute_result"
    }
   ],
   "source": [
    "km = 1_000\n",
    "spb_city['cityCenters_nearest_km'] = (spb_city['cityCenters_nearest'] / km)\n",
    "spb_city[:5][['cityCenters_nearest_km', 'cityCenters_nearest']]"
   ]
  },
  {
   "cell_type": "markdown",
   "metadata": {},
   "source": [
    "<font color = green> Мы построим график, который показывает, как цена зависит от расстояния от центра:</font>"
   ]
  },
  {
   "cell_type": "code",
   "execution_count": 71,
   "metadata": {},
   "outputs": [
    {
     "data": {
      "image/png": "[encoded data removed]",
      "text/plain": [
       "<Figure size 432x288 with 1 Axes>"
      ]
     },
     "metadata": {
      "needs_background": "light"
     },
     "output_type": "display_data"
    }
   ],
   "source": [
    "(\n",
    "    pd.DataFrame(spb_city.pivot_table(index='cityCenters_nearest_km', values='last_price').to_records())\n",
    "    .plot(x='cityCenters_nearest_km', y='last_price', kind='scatter', grid=True)\n",
    ")\n",
    "plt.show()"
   ]
  },
  {
   "cell_type": "markdown",
   "metadata": {},
   "source": [
    "Мы определяем границу, где график сильно меняется - это будет центральная зона. График резко меняется при x = 7500. Это означает, что в центр входят все квартиры, в которых расстояние до центра составляет менее 7500."
   ]
  },
  {
   "cell_type": "markdown",
   "metadata": {},
   "source": [
    "#### Выберите сегмент квартир в центре."
   ]
  },
  {
   "cell_type": "markdown",
   "metadata": {},
   "source": [
    "- Проанализируйте эту территорию и изучите следующие параметры: площадь, цена, количество комнат, высота потолка.\n",
    "- Также выделим факторы, которые влияют на стоимость квартиры (количество комнат, этаж, расстояние от центра, дата размещения рекламы).\n",
    "- Сделать выводы. Отличаются ли они от общих находок по всему городу?"
   ]
  },
  {
   "cell_type": "markdown",
   "metadata": {},
   "source": [
    "<font color = green> Узнайте, какой регион находится в центре Санкт-Петербурга.</font>"
   ]
  },
  {
   "cell_type": "code",
   "execution_count": 72,
   "metadata": {},
   "outputs": [
    {
     "name": "stdout",
     "output_type": "stream",
     "text": [
      "Количество квартир на продажу в центре Санкт-Петербурга:\"3305\"\n"
     ]
    }
   ],
   "source": [
    "flat_spb_centr = pd.DataFrame(spb_city.query('cityCenters_nearest_km <= 7'))\n",
    "print (f\"Количество квартир на продажу в центре Санкт-Петербурга:\\\"{len(flat_spb_centr)}\\\"\")"
   ]
  },
  {
   "cell_type": "code",
   "execution_count": 73,
   "metadata": {},
   "outputs": [
    {
     "name": "stdout",
     "output_type": "stream",
     "text": [
      "\n",
      "Центр Санкт-Петербурга:\n",
      "Медиана apartment prices: 9200000.0\n",
      "Медиана ceiling heights: 2.8\n",
      "Медиана living space: 43.0\n",
      "Медиана kitchen area: 11.2\n",
      "Медиана number of rooms: 3.0\n",
      "\n",
      "Весь город Санкт-Петербург: \n",
      "Медиана apartment prices: 5500000.0\n",
      "Медиана ceiling heights: 2.65\n",
      "Медиана living space: 30.1\n",
      "Медиана kitchen area: 9.1\n",
      "Медиана number of rooms: 2.0\n"
     ]
    }
   ],
   "source": [
    "\n",
    "flat_spb_centr = spb_city[spb_city['cityCenters_nearest'] < 7500]\n",
    "flat_spb_centr.reset_index(drop=True, inplace=True)\n",
    "\n",
    "def get_median(data, columns, names):\n",
    "    for i in range(0, len(columns)):\n",
    "        print (f\"Медиана {names[i]}: {data[columns[i]].median()}\")\n",
    "    return \n",
    "\n",
    "print (\"\\nЦентр Санкт-Петербурга:\")\n",
    "get_median(\n",
    "    flat_spb_centr,\n",
    "    [\n",
    "        'last_price',\n",
    "        'ceiling_height',\n",
    "        'living_area',\n",
    "        'kitchen_area',\n",
    "        'rooms',\n",
    "    ],\n",
    "    [\n",
    "        \"apartment prices\",\n",
    "        \"ceiling heights\",\n",
    "        \"living space\",\n",
    "        \"kitchen area\",\n",
    "        \"number of rooms\"\n",
    "    ]\n",
    ")\n",
    "\n",
    "print (\"\\nВесь город Санкт-Петербург: \")\n",
    "get_median(\n",
    "    spb_city,\n",
    "    [\n",
    "        \"last_price\",\n",
    "        \"ceiling_height\",\n",
    "        \"living_area\",\n",
    "        \"kitchen_area\",\n",
    "        \"rooms\"\n",
    "    ],\n",
    "    [\n",
    "        \"apartment prices\",\n",
    "        \"ceiling heights\",\n",
    "        \"living space\",\n",
    "        \"kitchen area\",\n",
    "        \"number of rooms\"\n",
    "    ]\n",
    ")"
   ]
  },
  {
   "cell_type": "markdown",
   "metadata": {},
   "source": [
    "<font color = green> Мы выделяем факторы, влияющие на стоимость квартиры.</font>\n",
    "<font color = green> Ранее мы уже делали разрез для квартир в центре Санкт-Петербурга с учетом нормального диапазона цен. Мы добавляем остальные критерии, которые влияют на чистоту данных, и делаем окончательный анализ на их основе.</font>"
   ]
  },
  {
   "cell_type": "code",
   "execution_count": 74,
   "metadata": {},
   "outputs": [
    {
     "data": {
      "text/html": [
       "<div>\n",
       "<style scoped>\n",
       "    .dataframe tbody tr th:only-of-type {\n",
       "        vertical-align: middle;\n",
       "    }\n",
       "\n",
       "    .dataframe tbody tr th {\n",
       "        vertical-align: top;\n",
       "    }\n",
       "\n",
       "    .dataframe thead th {\n",
       "        text-align: right;\n",
       "    }\n",
       "</style>\n",
       "<table border=\"1\" class=\"dataframe\">\n",
       "  <thead>\n",
       "    <tr style=\"text-align: right;\">\n",
       "      <th></th>\n",
       "      <th>spb_city</th>\n",
       "      <th>flat_spb_centr</th>\n",
       "      <th>difference</th>\n",
       "    </tr>\n",
       "  </thead>\n",
       "  <tbody>\n",
       "    <tr>\n",
       "      <td>Ценовая зависимость за квадратный метр</td>\n",
       "      <td>0.76</td>\n",
       "      <td>0.79</td>\n",
       "      <td>-0.03</td>\n",
       "    </tr>\n",
       "    <tr>\n",
       "      <td>Зависимость цены от пола</td>\n",
       "      <td>-0.03</td>\n",
       "      <td>-0.06</td>\n",
       "      <td>0.03</td>\n",
       "    </tr>\n",
       "    <tr>\n",
       "      <td>Ценовая зависимость от количества номеров</td>\n",
       "      <td>0.37</td>\n",
       "      <td>0.31</td>\n",
       "      <td>0.06</td>\n",
       "    </tr>\n",
       "    <tr>\n",
       "      <td>Зависимость цены от расстояния от центаv</td>\n",
       "      <td>-0.25</td>\n",
       "      <td>-0.04</td>\n",
       "      <td>-0.21</td>\n",
       "    </tr>\n",
       "    <tr>\n",
       "      <td>Зависимость цены от высоты потолка</td>\n",
       "      <td>0.06</td>\n",
       "      <td>0.07</td>\n",
       "      <td>-0.01</td>\n",
       "    </tr>\n",
       "    <tr>\n",
       "      <td>Зависимость цены от дня публикации</td>\n",
       "      <td>0.00</td>\n",
       "      <td>0.02</td>\n",
       "      <td>-0.02</td>\n",
       "    </tr>\n",
       "    <tr>\n",
       "      <td>Зависимость цены от месяца публикации</td>\n",
       "      <td>0.00</td>\n",
       "      <td>-0.01</td>\n",
       "      <td>0.01</td>\n",
       "    </tr>\n",
       "    <tr>\n",
       "      <td>Зависимость цены от года публикации</td>\n",
       "      <td>-0.04</td>\n",
       "      <td>-0.04</td>\n",
       "      <td>0.00</td>\n",
       "    </tr>\n",
       "    <tr>\n",
       "      <td>Средние цены на квартиры</td>\n",
       "      <td>5500000.00</td>\n",
       "      <td>9200000.00</td>\n",
       "      <td>-3700000.00</td>\n",
       "    </tr>\n",
       "    <tr>\n",
       "      <td>Средняя высота потолка</td>\n",
       "      <td>2.65</td>\n",
       "      <td>2.80</td>\n",
       "      <td>-0.15</td>\n",
       "    </tr>\n",
       "    <tr>\n",
       "      <td>Медиана жилой площади</td>\n",
       "      <td>31.20</td>\n",
       "      <td>46.00</td>\n",
       "      <td>-14.80</td>\n",
       "    </tr>\n",
       "    <tr>\n",
       "      <td>Медиана кухонной зоны</td>\n",
       "      <td>9.70</td>\n",
       "      <td>11.90</td>\n",
       "      <td>-2.20</td>\n",
       "    </tr>\n",
       "    <tr>\n",
       "      <td>Медиана количества комнат</td>\n",
       "      <td>2.00</td>\n",
       "      <td>3.00</td>\n",
       "      <td>-1.00</td>\n",
       "    </tr>\n",
       "  </tbody>\n",
       "</table>\n",
       "</div>"
      ],
      "text/plain": [
       "                                             spb_city  flat_spb_centr  \\\n",
       "Ценовая зависимость за квадратный метр           0.76            0.79   \n",
       "Зависимость цены от пола                        -0.03           -0.06   \n",
       "Ценовая зависимость от количества номеров        0.37            0.31   \n",
       "Зависимость цены от расстояния от центаv        -0.25           -0.04   \n",
       "Зависимость цены от высоты потолка               0.06            0.07   \n",
       "Зависимость цены от дня публикации               0.00            0.02   \n",
       "Зависимость цены от месяца публикации            0.00           -0.01   \n",
       "Зависимость цены от года публикации             -0.04           -0.04   \n",
       "Средние цены на квартиры                   5500000.00      9200000.00   \n",
       "Средняя высота потолка                           2.65            2.80   \n",
       "Медиана жилой площади                           31.20           46.00   \n",
       "Медиана кухонной зоны                            9.70           11.90   \n",
       "Медиана количества комнат                        2.00            3.00   \n",
       "\n",
       "                                           difference  \n",
       "Ценовая зависимость за квадратный метр          -0.03  \n",
       "Зависимость цены от пола                         0.03  \n",
       "Ценовая зависимость от количества номеров        0.06  \n",
       "Зависимость цены от расстояния от центаv        -0.21  \n",
       "Зависимость цены от высоты потолка              -0.01  \n",
       "Зависимость цены от дня публикации              -0.02  \n",
       "Зависимость цены от месяца публикации            0.01  \n",
       "Зависимость цены от года публикации              0.00  \n",
       "Средние цены на квартиры                  -3700000.00  \n",
       "Средняя высота потолка                          -0.15  \n",
       "Медиана жилой площади                          -14.80  \n",
       "Медиана кухонной зоны                           -2.20  \n",
       "Медиана количества комнат                       -1.00  "
      ]
     },
     "execution_count": 74,
     "metadata": {},
     "output_type": "execute_result"
    }
   ],
   "source": [
    "parameter = [\n",
    "    \"Ценовая зависимость за квадратный метр\",\n",
    "    \"Зависимость цены от пола\",\n",
    "    \"Ценовая зависимость от количества номеров\",\n",
    "    \"Зависимость цены от расстояния от центаv\",\n",
    "    \"Зависимость цены от высоты потолка\",\n",
    "    \"Зависимость цены от дня публикации\",\n",
    "    \"Зависимость цены от месяца публикации\",\n",
    "    \"Зависимость цены от года публикации\",\n",
    "    \"Средние цены на квартиры\",\n",
    "    \"Средняя высота потолка\",\n",
    "    \"Медиана жилой площади\",\n",
    "    \"Медиана кухонной зоны\",\n",
    "    \"Медиана количества комнат\"\n",
    "]\n",
    "\n",
    "city_total_spb = { \n",
    "    'spb_city': [0.76, -0.03, 0.37, -0.25, 0.06, 0.00, 0.00, -0.04, 5500000.0, 2.65, 31.2, 9.7, 2.0],\n",
    "    'flat_spb_centr': [0.79, -0.06, 0.31, -0.04, 0.07, 0.02, -0.01, -0.04, 9200000.0, 2.8, 46.0, 11.9, 3.0]\n",
    "}\n",
    "\n",
    "compare_data = pd.DataFrame(city_total_spb, index=parameter)\n",
    "compare_data['difference'] = (compare_data['spb_city'] - compare_data['flat_spb_centr']).round(2)\n",
    "compare_data"
   ]
  },
  {
   "cell_type": "markdown",
   "metadata": {},
   "source": [
    "#### Вывод:\n",
    "- Количество квартир на продажу в центре Санкт-Петербурга: 3305\n",
    "- Средняя цена квартиры в Санкт-Петербурге: 5 500 000 руб.\n",
    "- Средние цены на квартиры в центре Санкт-Петербурга: 9 200 000 руб.\n",
    "- Средняя площадь квартиры в Санкт-Петербурге: 31,20 кв.м\n",
    "- Средняя площадь квартиры в центре Санкт-Петербурга: 46,00 кв.м\n",
    "- На стоимость квартиры в Санкт-Петербурге сильно влияют: 1) цена квадратного метра, 2) расположение квартиры, 3) количество комнат\n",
    "- В центре Санкт-Петербурга квартиры дорогие, несмотря на среднюю площадь квартир в центре 46,00 кв.м. Интересное наблюдение, квартиры в таких домах обычно имеют высокие потолки, большую гостиную, большую кухню и как минимум 3 комнаты. Также, согласно последним графикам, квартиры в центре продаются довольно быстро."
   ]
  },
  {
   "cell_type": "markdown",
   "metadata": {},
   "source": [
    "### Шаг 5. Общий вывод"
   ]
  },
  {
   "cell_type": "markdown",
   "metadata": {},
   "source": [
    "Итак, я изучил образец, предоставленный сервисом Яндекс.Недвижимость:\n",
    "- Изучил данные о продажах квартир;\n",
    "- классифицированные и восстановленные данные;\n",
    "- Найдены закономерности в данных и заполнены все пробелы;\n",
    "- Построены графики зависимости цены квартиры от ее параметров;\n",
    "- В выборке был найден город с наибольшим количеством объявлений о продаже квартир;\n",
    "- Выделен сегмент рекламы, которая продается в центре Санкт-Петербурга;\n",
    "- Определена зависимость цены квартиры от ее параметров для центра города.\n",
    "- Определены параметры, которые напрямую влияют на стоимость квартиры:\n",
    "\n",
    "Расположение квартиры (город / пригород, центр / не центр);\n",
    "- Количество комнат\n",
    "- Жилая площадь квартиры;\n",
    "- количество комнат;\n",
    "- Незначительные данные, такие как «высота потолка, дата публикации», мало влияют на ценообразование."
   ]
  },
  {
   "cell_type": "markdown",
   "metadata": {},
   "source": [
    "### Чек-лист готовности проекта\n",
    "\n",
    "Поставьте 'x' в выполненных пунктах. Далее нажмите Shift+Enter."
   ]
  },
  {
   "cell_type": "markdown",
   "metadata": {},
   "source": [
    "- [x]  открыт файл\n",
    "- [x]  файлы изучены (выведены первые строки, метод info())\n",
    "- [x]  определены пропущенные значения\n",
    "- [x]  заполнены пропущенные значения\n",
    "- [x]  есть пояснение какие пропущенные значения обнаружены\n",
    "- [x]  изменены типы данных\n",
    "- [x]  есть пояснение в каких столбцах изменены типы и почему\n",
    "- [x]  посчитано и добавлено в таблицу: цена квадратного метра\n",
    "- [x]  посчитано и добавлено в таблицу: день недели, месяц и год публикации объявления\n",
    "- [x]  посчитано и добавлено в таблицу: этаж квартиры; варианты — первый, последний, другой\n",
    "- [x]  посчитано и добавлено в таблицу: соотношение жилой и общей площади, а также отношение площади кухни к общей\n",
    "- [x]  изучены следующие параметры: площадь, цена, число комнат, высота потолков\n",
    "- [x]  построены гистограммы для каждого параметра\n",
    "- [x]  выполнено задание: \"Изучите время продажи квартиры. Постройте гистограмму. Посчитайте среднее и медиану. Опишите, сколько обычно занимает продажа. Когда можно считать, что продажи прошли очень быстро, а когда необычно долго?\"\n",
    "- [x]  выполнено задание: \"Уберите редкие и выбивающиеся значения. Опишите, какие особенности обнаружили.\"\n",
    "- [x]  выполнено задание: \"Какие факторы больше всего влияют на стоимость квартиры? Изучите, зависит ли цена от квадратного метра, числа комнат, этажа (первого или последнего), удалённости от центра. Также изучите зависимость от даты размещения: дня недели, месяца и года. \"Выберите 10 населённых пунктов с наибольшим числом объявлений. Посчитайте среднюю цену квадратного метра в этих населённых пунктах. Выделите населённые пункты с самой высокой и низкой стоимостью жилья. Эти данные можно найти по имени в столбце '*locality_name'*. \"\n",
    "- [x]  выполнено задание: \"Изучите предложения квартир: для каждой квартиры есть информация о расстоянии до центра. Выделите квартиры в Санкт-Петербурге (*'locality_name'*). Ваша задача — выяснить, какая область входит в центр. Создайте столбец с расстоянием до центра в километрах: округлите до целых значений. После этого посчитайте среднюю цену для каждого километра. Постройте график: он должен показывать, как цена зависит от удалённости от центра. Определите границу, где график сильно меняется — это и будет центральная зона. \"\n",
    "- [x]  выполнено задание: \"Выделите сегмент квартир в центре. Проанализируйте эту территорию и изучите следующие параметры: площадь, цена, число комнат, высота потолков. Также выделите факторы, которые влияют на стоимость квартиры (число комнат, этаж, удалённость от центра, дата размещения объявления). Сделайте выводы. Отличаются ли они от общих выводов по всему городу?\"\n",
    "- [x]  в каждом этапе есть выводы\n",
    "- [x]  есть общий вывод"
   ]
  }
 ],
 "metadata": {
  "kernelspec": {
   "display_name": "Python 3",
   "language": "python",
   "name": "python3"
  },
  "language_info": {
   "codemirror_mode": {
    "name": "ipython",
    "version": 3
   },
   "file_extension": ".py",
   "mimetype": "text/x-python",
   "name": "python",
   "nbconvert_exporter": "python",
   "pygments_lexer": "ipython3",
   "version": "3.7.6"
  }
 },
 "nbformat": 4,
 "nbformat_minor": 2
}
